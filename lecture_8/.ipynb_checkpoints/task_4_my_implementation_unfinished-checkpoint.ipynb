{
 "cells": [
  {
   "cell_type": "markdown",
   "metadata": {},
   "source": [
    "# OOPython\n",
    "\n",
    "Функциональные пространства."
   ]
  },
  {
   "cell_type": "code",
   "execution_count": 1,
   "metadata": {
    "collapsed": true
   },
   "outputs": [],
   "source": [
    "import math as m\n",
    "import numpy as np\n",
    "import matplotlib.pyplot as plt\n",
    "%matplotlib inline"
   ]
  },
  {
   "cell_type": "markdown",
   "metadata": {},
   "source": [
    "### Иерархия классов для формул численного дифференцирования:"
   ]
  },
  {
   "cell_type": "code",
   "execution_count": 32,
   "metadata": {
    "collapsed": true
   },
   "outputs": [],
   "source": [
    "class AbstractDerivative:\n",
    "    def __init__(self, function, step=1e-4):\n",
    "        self._function = function\n",
    "        self._step = float(step)\n",
    "        \n",
    "    def __call__(self, x):\n",
    "        raise NotImplementedError\n",
    "        \n",
    "\n",
    "class DerivativeCentral(AbstractDerivative):\n",
    "   \n",
    "    def GetName(self):\n",
    "        return self.__MethodName\n",
    "\n",
    "    def __call__(self, x):\n",
    "        return (self._function(x + self._step) - self._function(x - self._step))/(2*self._step)"
   ]
  },
  {
   "cell_type": "markdown",
   "metadata": {},
   "source": [
    "### Производная n-го порядка"
   ]
  },
  {
   "cell_type": "code",
   "execution_count": 36,
   "metadata": {
    "collapsed": true
   },
   "outputs": [],
   "source": [
    "class DerivativeNthOrder:\n",
    "    \n",
    "    def __init__(self, f, n):\n",
    "        dfdxn = f\n",
    "        for i in range(n):\n",
    "            dfdxn = DerivativeCentral(dfdxn)\n",
    "        self._dfdxn = dfdxn\n",
    "        \n",
    "    def __call__(self, x):\n",
    "        return self._dfdxn(x)\n",
    "        \n",
    "    def Plot(self, xL, xR):\n",
    "        xData = np.linspace(xL, xR, 100)\n",
    "        yData = self(xData)\n",
    "        \n",
    "        # print(yData) # for debug\n",
    "        plt.figure(figsize=(10, 7))\n",
    "        plt.plot(xData, yData, lw=4)\n",
    "        plt.grid('on')\n",
    "        plt.show()"
   ]
  },
  {
   "cell_type": "code",
   "execution_count": 37,
   "metadata": {},
   "outputs": [
    {
     "data": {
      "image/png": "[encoded data removed]",
      "text/plain": [
       "<matplotlib.figure.Figure at 0x11de71e10>"
      ]
     },
     "metadata": {},
     "output_type": "display_data"
    }
   ],
   "source": [
    "# тестирование\n",
    "TestFunc = DerivativeNthOrder(np.sin, 2)\n",
    "#print(TestFunc(0.7))\n",
    "TestFunc.Plot(0., 5.)"
   ]
  },
  {
   "cell_type": "markdown",
   "metadata": {},
   "source": [
    "### Иерархия классов для формул численного интегрирования:\n"
   ]
  },
  {
   "cell_type": "code",
   "execution_count": 29,
   "metadata": {
    "collapsed": true
   },
   "outputs": [],
   "source": [
    "import numpy as np\n",
    "\n",
    "class AbstractIntegral:\n",
    "    _shift = 0.\n",
    "        \n",
    "    def ChooseFunction(self, function):\n",
    "        self._function = function\n",
    "    \n",
    "    def SetLeftBorder(self, leftBorder):\n",
    "        self._leftBorder = leftBorder\n",
    "        \n",
    "    def SetGrid(self, step):\n",
    "        self._step = step\n",
    "        \n",
    "    def SetCoeffients(self, points):\n",
    "        raise NotImplementedError\n",
    "    \n",
    "    def getName(self):\n",
    "        return self._MethodName\n",
    "    \n",
    "    def __call__(self, x):\n",
    "        self._gridArray = np.arange(self._leftBorder, x + self._step, self._step)   \n",
    "        self._gridLength = len(self._gridArray)\n",
    "        self.SetCoeffients(self._gridLength)\n",
    "        \n",
    "        f, left, right, coeff = self._function, self._leftBorder, x, self._coeffients    \n",
    "        \n",
    "        value = 0.\n",
    "        for i in range(self._gridLength):\n",
    "            xCurrent = self._gridArray[i]\n",
    "            value += coeff[i] * f(xCurrent + self._shift * self._step)\n",
    "            \n",
    "        value *= self._step\n",
    "        return value\n",
    "        \n",
    "\n",
    "\n",
    "class TrapeziumIntegral(AbstractIntegral):\n",
    "    \n",
    "    def SetCoeffients(self, points):\n",
    "        self._coeffients = [0.5] + [1] * (points - 2) + [0.5]"
   ]
  },
  {
   "cell_type": "markdown",
   "metadata": {},
   "source": [
    "### Часть 1: классы, реализующие 4 различных нормированных-метрических пространства"
   ]
  },
  {
   "cell_type": "code",
   "execution_count": 25,
   "metadata": {},
   "outputs": [],
   "source": [
    "import numpy as np\n",
    "import sympy as smp\n",
    "xSym = smp.Symbol('x')\n",
    "\n",
    "class SpaceC0:\n",
    "    \n",
    "    def __init__(self, xL, xR):\n",
    "        self._leftBorder = xL\n",
    "        self._rightBorder = xR\n",
    "        \n",
    "    \n",
    "    def CalculateMaxAbsValueOfFunc(self, f):\n",
    "        gridArray = np.linspace(xL, xR, 100)\n",
    "        valuesArray = np.abs(f(gridArray))\n",
    "        \n",
    "        # scalar version below\n",
    "        #valuesArray = []\n",
    "        #for x in list(gridArray):\n",
    "        #    valuesArray.append(abs(f(x)))\n",
    "        #valuesArray = np.array(valuesArray)\n",
    "        \n",
    "        return valuesArray.max()\n",
    "    \n",
    "    def CalculateNorm(self, f):\n",
    "        return self.CalculateMaxAbsValueOfFunc(f)\n",
    "\n",
    "    def CalculateMetric(self, f1, f2):\n",
    "        return self.CalculateNorm(lambda t: f1(t) - f2(t))\n",
    "\n",
    "       \n",
    "class SpaceC1(SpaceC0):\n",
    "\n",
    "    def CalculateNorm(self, f):\n",
    "        return super().CalculateNorm(f) + \\\n",
    "               self.CalculateMaxAbsValueOfFunc(DerivativeCentral(f))\n",
    "        \n",
    "        \n",
    "class SpaceC2(SpaceC1):\n",
    "    \n",
    "    def CalculateNorm(self, f):\n",
    "        return super().CalculateNorm(f) + \\\n",
    "                self.CalculateMaxAbsValueOfFunc(DerivativeCentral(DerivativeCentral(f)))"
   ]
  },
  {
   "cell_type": "markdown",
   "metadata": {},
   "source": [
    "### Часть 2"
   ]
  },
  {
   "cell_type": "code",
   "execution_count": 28,
   "metadata": {
    "collapsed": true
   },
   "outputs": [],
   "source": [
    "class SpacePreHilbert:\n",
    "    \n",
    "    def __init__(self, xL, xR):\n",
    "        self._leftBorder = xL\n",
    "        self._rightBorder = xR\n",
    "    \n",
    "    def CalculateDotProduct(self, f1, f2):\n",
    "        integral = TrapeziumIntegral()\n",
    "        integral.ChooseFunction(lambda t: f1(t)*f2(t))\n",
    "        integral.SetGrid(1e-4)\n",
    "        integral.SetLeftBorder(self._leftBorder)\n",
    "        return integral(self._rightBorder)\n",
    "    \n",
    "\n",
    "class SpaceNormed(SpacePreHilbert):\n",
    "    \n",
    "    def CalculateDotProduct(self, f1, f2):\n",
    "        raise NotImplementedError # переопределение функции здесь = исключение лишней функции из класса\n",
    "    \n",
    "    def CalculateNorm(self, f):\n",
    "        return m.sqrt(super().CalculateDotProduct(f, f))\n",
    "    \n",
    "\n",
    "class SpaceMetric(SpaceNormed):\n",
    "    \n",
    "    def CalculateNorm(self, f):\n",
    "        raise NotImplementedError # аналогично\n",
    "    \n",
    "    def CalculateMetric(self, f1, f2):\n",
    "        return super().CalculateNorm(lambda t: f1(t) - f2(t))"
   ]
  },
  {
   "cell_type": "markdown",
   "metadata": {},
   "source": [
    "### Тестирование на функциях"
   ]
  },
  {
   "cell_type": "code",
   "execution_count": 26,
   "metadata": {
    "collapsed": true
   },
   "outputs": [],
   "source": [
    "listOfFunctions = [lambda t: 5./(2 + 3*(t**2)), lambda t: 2./(5 + np.cos(t)), \\\n",
    "                                                 lambda t: (3. + 4.*(t**2))**(1./3), \\\n",
    "                                               lambda t: 2.*np.exp(-(t**2))/(m.pi)**(0.5)]"
   ]
  },
  {
   "cell_type": "code",
   "execution_count": 31,
   "metadata": {},
   "outputs": [
    {
     "data": {
      "text/plain": [
       "4.3530203364497932"
      ]
     },
     "execution_count": 31,
     "metadata": {},
     "output_type": "execute_result"
    }
   ],
   "source": [
    "xL, xR = 0., 1.\n",
    "spaceC2_instance = SpaceC2(xL, xR)\n",
    "spaceC2_instance.CalculateMetric(listOfFunctions[0], listOfFunctions[1])\n",
    "spaceC2_instance.CalculateNorm(listOfFunctions[-1])"
   ]
  },
  {
   "cell_type": "code",
   "execution_count": null,
   "metadata": {
    "collapsed": true
   },
   "outputs": [],
   "source": []
  }
 ],
 "metadata": {
  "anaconda-cloud": {},
  "kernelspec": {
   "display_name": "Python 3",
   "language": "python",
   "name": "python3"
  },
  "language_info": {
   "codemirror_mode": {
    "name": "ipython",
    "version": 3
   },
   "file_extension": ".py",
   "mimetype": "text/x-python",
   "name": "python",
   "nbconvert_exporter": "python",
   "pygments_lexer": "ipython3",
   "version": "3.6.3"
  }
 },
 "nbformat": 4,
 "nbformat_minor": 1
}
