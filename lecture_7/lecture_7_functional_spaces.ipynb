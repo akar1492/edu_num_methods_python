{
 "cells": [
  {
   "cell_type": "markdown",
   "metadata": {},
   "source": [
    "__Автор:__ Карпаев Алексей, ассистент кафедры информатики и вычислительной математики"
   ]
  },
  {
   "cell_type": "markdown",
   "metadata": {},
   "source": [
    "# Моделирование функциональных пространств: программная реализация, ОО подход"
   ]
  },
  {
   "cell_type": "markdown",
   "metadata": {},
   "source": [
    "Объектно-ориентированный подход может применяться для решения простейших задач функционального анализа. Рассмотрим примеры следующих пространств:\n",
    "*\t__Метрические__\n",
    "*\t__Нормированные__\n",
    "*\t__Предгильбертовы__"
   ]
  },
  {
   "cell_type": "markdown",
   "metadata": {},
   "source": [
    "## А \n",
    "__Определение 1__. Говорят, что на множестве $M$ задана __метрика__, если на прямом произведении $M \\times M$ задана функция $\\rho : M \\times M \\rightarrow R$, обладающая свойствами:\n",
    "\n",
    "1. $\\rho(f, g) \\geq 0 \\quad \\forall f,g \\in M;$\n",
    "2. $\\rho(f, g) = \\rho(g, f) \\quad \\forall f,g \\in M$;\n",
    "3. $\\rho(f,h) \\leq \\rho(f,g) + \\rho(h,g) \\quad \\forall f,g,h \\in M$;\n",
    "4. $\\rho(f,g) = 0 \\Leftrightarrow f = g \\quad  f, g \\in M$.\n",
    "\n",
    "Эти свойства называются аксиомами метрики.\n",
    "\n",
    "__Определение 2__. Множество, на котором задана некоторая метрика, называется __метрическим пространством__."
   ]
  },
  {
   "cell_type": "markdown",
   "metadata": {},
   "source": [
    "## B \n",
    "\n",
    "__Определение 3__. Линейное пространство X  называется __нормированным__, если на X определена функция $\\Vert f \\Vert : f \\rightarrow R$ такая,\n",
    "что\n",
    "\n",
    "1. $\\Vert f \\Vert \\geq 0 \\quad \\forall f \\in X$;\n",
    "2. $\\alpha \\Vert f \\Vert = |\\alpha| \\Vert f \\Vert \\quad \\forall f \\in X, \\forall \\alpha \\in R$;\n",
    "3. $\\Vert f + g \\Vert \\leq \\Vert f \\Vert + \\Vert g \\Vert \\quad \\forall f,g \\in X$;\n",
    "4. $\\Vert f \\Vert = 0 \\Leftrightarrow f = 0$.\n",
    "\n",
    "Правила вычисления норм для некоторых нормированных пространств:\n",
    "1.\t$\\Vert f \\Vert = \\max |f(x)|, x \\in [a, b] \\left(С[a; b]\\right)$\n",
    "2.\t$\\Vert f \\Vert = \\max |f(x)| + \\max|f’(x)| , x \\in [a, b], (С^1[a; b])$\n",
    "3.\t$\\Vert f \\Vert = \\max |f(x)| + \\max|f’(x)| + \\max |f’’(x)|, x \\in [a, b], (С^2[a; b])$\n",
    "\n",
    "Имеет место следующее свойство: $C[a;b] \\supset C^1[a;b] \\supset C^2[a;b] \\supset ... \\supset C^{\\infty}[a;b]$."
   ]
  },
  {
   "cell_type": "markdown",
   "metadata": {},
   "source": [
    "## С\n",
    "\n",
    "__Определение 4.__ __Предгильбертовым__ называется линейное пространство $E$ с определенным на нем скалярным произведением. Скалярное произведение удовлетворяет следующим аксиомам:\n",
    "\n",
    "1. $\\left(f, f\\right) \\geq 0 \\quad \\forall f \\in E$;\n",
    "2. $ \\left( f, f \\right) = 0  \\Leftrightarrow f = 0$;\n",
    "3. $\\left(\\alpha f, g\\right) = \\alpha \\left(f, g \\right) \\quad \\forall f, g \\in E \\quad \\forall \\alpha \\in R$;\n",
    "4. $\\left( f + g, h\\right) = \\left(f, h\\right) + \\left( g, h\\right) \\quad \\forall f, g, h \\in E$;\n",
    "5. $\\left(f, g\\right) = \\left(g, f\\right) \\quad \\forall f, g \\in E$.\n",
    "\n",
    "Правило вычисления скалярного произведения для функций можно задать, например, по следующей формуле: $\\left(f, g\\right) = \\int_a^b{f(x)g(x) dx}$\n",
    "\n",
    "Скалярное произведение в предгильбертовом пространстве порождает норму в этом же пространстве, которая, в свою очередь, порождает в нем метрику:\n",
    "\n",
    "\n",
    "* Порождение нормы скалярным произведением: $\\Vert f \\Vert = \\sqrt{\\left(f, f\\right)}$ (доп. теоретический факт);\n",
    "* Порождение метрики нормой: $\\rho \\left( f, g \\right) = \\Vert f - g \\Vert$. (то, что требуется использовать в __Задаче 4__)."
   ]
  },
  {
   "cell_type": "markdown",
   "metadata": {},
   "source": [
    "## Вопросы?"
   ]
  }
 ],
 "metadata": {
  "anaconda-cloud": {},
  "kernelspec": {
   "display_name": "Python 3",
   "language": "python",
   "name": "python3"
  },
  "language_info": {
   "codemirror_mode": {
    "name": "ipython",
    "version": 3
   },
   "file_extension": ".py",
   "mimetype": "text/x-python",
   "name": "python",
   "nbconvert_exporter": "python",
   "pygments_lexer": "ipython3",
   "version": "3.6.3"
  }
 },
 "nbformat": 4,
 "nbformat_minor": 2
}
