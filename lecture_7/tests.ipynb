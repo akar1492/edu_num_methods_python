{
 "cells": [
  {
   "cell_type": "code",
   "execution_count": 17,
   "metadata": {},
   "outputs": [],
   "source": [
    "import numpy as np\n",
    "import time"
   ]
  },
  {
   "cell_type": "code",
   "execution_count": 18,
   "metadata": {
    "collapsed": true
   },
   "outputs": [],
   "source": [
    "class AbstractIntegral:\n",
    "    \"\"\" Class, performing the numerical integration of a given function \"\"\"\n",
    "    \n",
    "    def __init__(self):\n",
    "        print ('An empty Integral is created.')\n",
    "    \n",
    "    def SetFunction(self, f):\n",
    "        self._f = f\n",
    "    \n",
    "    def SetLeftBorder(self, xL):\n",
    "        self._xL = float(xL)\n",
    "    \n",
    "    def SetNumBlocks(self, numBlocks):\n",
    "        self._numBlocks = numBlocks\n",
    "    \n",
    "    def SetMethodCoefficientsAndPoints(self):\n",
    "        raise NotImplementedError\n",
    "          \n",
    "    def __call__(self, x):\n",
    "        \"\"\" Function, performing the numerical integration via a loop \"\"\"\n",
    "        \n",
    "        #self._coefficients, self._points = None, None\n",
    "        self._xR = float(x)\n",
    "        self._h = (self._xR - self._xL)/self._numBlocks\n",
    "        self.SetMethodCoefficientsAndPoints()\n",
    "        value = 0.\n",
    "        start = time.clock()\n",
    "        # вычисление интеграла\n",
    "        print ('Computations took ...',)\n",
    "        value = self._h*np.dot(self._coefficients, self._f(self._points))\n",
    "        end = time.clock() - start\n",
    "        print ('%.2e sec.' % end)\n",
    "        \n",
    "        return value"
   ]
  },
  {
   "cell_type": "code",
   "execution_count": 19,
   "metadata": {},
   "outputs": [],
   "source": [
    "class TrapeziumMethod(AbstractIntegral):\n",
    "    \n",
    "    def SetMethodCoefficientsAndPoints(self):\n",
    "        self._points = np.linspace(self._xL, self._xR, self._numBlocks + 1)\n",
    "        \n",
    "        self._coefficients = np.ones(len(self._points))\n",
    "        self._coefficients[0] *= 0.5\n",
    "        self._coefficients[-1] *= 0.5\n",
    "\n",
    "        \n",
    "class RectangleMethod(AbstractIntegral):\n",
    "    \n",
    "    def SetMethodCoefficientsAndPoints(self):\n",
    "        self._points = np.linspace(self._xL, self._xR - self._h, self._numBlocks) \\\n",
    "                        + 0.5*self._h\n",
    "        self._coefficients = np.ones(len(self._points))"
   ]
  },
  {
   "cell_type": "markdown",
   "metadata": {},
   "source": [
    "Тестирование:"
   ]
  },
  {
   "cell_type": "code",
   "execution_count": 20,
   "metadata": {},
   "outputs": [
    {
     "name": "stdout",
     "output_type": "stream",
     "text": [
      "An empty Integral is created.\n",
      "An empty Integral is created.\n",
      "Computations took ...\n",
      "9.29e-02 sec.\n",
      "Computations took ...\n",
      "8.60e-05 sec.\n",
      "Computations took ...\n",
      "1.20e-04 sec.\n",
      "Computations took ...\n",
      "1.62e-04 sec.\n",
      "[0.88622692545136672, 8.979179667098462, 106.93060122008738, 1.3733976851456766]\n",
      "Computations took ...\n",
      "1.61e-04 sec.\n",
      "Computations took ...\n",
      "1.70e-04 sec.\n",
      "Computations took ...\n",
      "1.12e-04 sec.\n",
      "Computations took ...\n",
      "1.49e-04 sec.\n",
      "[0.88622692545140991, 8.979179667098375, 106.93189986016807, 1.3734023078241717]\n"
     ]
    }
   ],
   "source": [
    "listOfFunctions = [lambda t: np.exp(-t**2), lambda t: 2./ (1. + np.sin(np.exp(-t**2))),\n",
    "                   lambda t: np.sinh(5./(2. + np.cos(t))), lambda t: 1./(1. + t**2)]\n",
    "\n",
    "listOfAntiderivatives = [TrapeziumMethod(), RectangleMethod()]\n",
    "x0 = 5.\n",
    "\n",
    "for element in listOfAntiderivatives:\n",
    "    listOfValues = []\n",
    "    for function in listOfFunctions:\n",
    "        element.SetFunction(function)\n",
    "        element.SetNumBlocks(100)\n",
    "        element.SetLeftBorder(0.)\n",
    "        listOfValues.append(element(x0))\n",
    "    \n",
    "    print(listOfValues)"
   ]
  },
  {
   "cell_type": "code",
   "execution_count": null,
   "metadata": {
    "collapsed": true
   },
   "outputs": [],
   "source": []
  }
 ],
 "metadata": {
  "anaconda-cloud": {},
  "kernelspec": {
   "display_name": "Python 3",
   "language": "python",
   "name": "python3"
  },
  "language_info": {
   "codemirror_mode": {
    "name": "ipython",
    "version": 3
   },
   "file_extension": ".py",
   "mimetype": "text/x-python",
   "name": "python",
   "nbconvert_exporter": "python",
   "pygments_lexer": "ipython3",
   "version": "3.6.3"
  }
 },
 "nbformat": 4,
 "nbformat_minor": 1
}
