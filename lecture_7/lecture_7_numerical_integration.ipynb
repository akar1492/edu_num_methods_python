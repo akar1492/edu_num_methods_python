{
 "cells": [
  {
   "cell_type": "markdown",
   "metadata": {},
   "source": [
    "__Автор__: Карпаев Алексей, ассистент кафедры информатики и вычислительной математики"
   ]
  },
  {
   "cell_type": "markdown",
   "metadata": {},
   "source": [
    "# Численное интегрирование: программная реализация, ОО подход\n",
    "\n",
    "## Постановка задачи \n",
    "\n",
    "Приближенно вычислить первообразную функции $f$ согласно формуле:\n",
    "\n",
    "$$\n",
    "F(x) = \\int_{a}^{x} f(t) dt\n",
    "$$\n",
    "\n",
    "\n",
    "## Метод численного интегрирования\n",
    "Для приближенного вычисления интеграла будем пользоваться квадратурными формулами. На отрезке $[a, x]$ введем равномерную сетку с шагом $h = \\frac{x-a}{N}$, где $N$ --- число отрезков разбиения. Используя значения функции $f(t)$ в узлах сетки вычислим приближенное значение определенного интеграла на отрезке $[a, x]$ с помощью формулы трапеций. Простая неоптимизированная реализация вычислений по данной формуле с использованием процедурного подхода:"
   ]
  },
  {
   "cell_type": "code",
   "execution_count": null,
   "metadata": {
    "collapsed": true
   },
   "outputs": [],
   "source": [
    "def Integrate(a, x, f, numBlocks):\n",
    "    # N = numBlocks\n",
    "    gridArray = np.linspace(a, x, numBlocks + 1)\n",
    "    h = (float(x) - a)/numBlocks\n",
    "    \n",
    "    value = 0.\n",
    "    for i in range(len(gridArray) - 1):\n",
    "        tCurrent = gridArray[i]\n",
    "        tNext = gridArray[i + 1]\n",
    "        value += 0.5*(f(tCurrent) + f(tNext))*h\n",
    "    \n",
    "    return value"
   ]
  },
  {
   "cell_type": "markdown",
   "metadata": {},
   "source": [
    "Использование:"
   ]
  },
  {
   "cell_type": "code",
   "execution_count": null,
   "metadata": {
    "collapsed": true
   },
   "outputs": [],
   "source": [
    "import numpy as np\n",
    "\n",
    "xL, xR = 1., 2.\n",
    "numBlocks = 100\n",
    "listOfFunctions = [lambda t: np.cos(np.sin(t**2)), lambda t: np.sin(np.cos(t**2)), \\\n",
    "                   lambda t: 2./(3. + np.cos(np.sin(t**2))), \\\n",
    "                  lambda t: 2./(1. - np.exp(np.sin(t**2)))]\n",
    "\n",
    "\n",
    "for function in listOfFunctions:\n",
    "    print (Integrate(xL, xR, function, numBlocks))"
   ]
  },
  {
   "cell_type": "markdown",
   "metadata": {},
   "source": [
    "Теперь рассмотрим реализацию класса для представления первообразной. Функция $F(x)$ является функцией одной переменной $x$ с параметрами $a$ и $f$:\n",
    "\n",
    "$$\n",
    "F(x) = F(x; a, f) = \\int_{a}^{x} f(t)dt\n",
    "$$\n",
    "\n",
    "Как и в предыдущих лекциях, хранить значения параметров будем в полях класса, а вычислять значение функции в точке $x$ будем с помощью отдельного метода. Итак, класс __Integral__:\n",
    "\n",
    "__Поля класса__:\n",
    "* интегрируемая функция $f$ (параметр)\n",
    "* левая граница интегрирования $a$ (параметр)\n",
    "* число отрезков разбиения $N (numBlocks)$(дополнительный параметр)\n",
    "* ... (по Вашему усмотрению)\n",
    "\n",
    "__Методы класса__:\n",
    "* \"сеттеры\" для интегрируемой функции, левой границы интегрирования, числа отрезков разбиения\n",
    "* вычислить значение первообразной в точке $x$ (используя метод __--call--__)\n",
    "* ... (по Вашему усмотрению)"
   ]
  },
  {
   "cell_type": "code",
   "execution_count": null,
   "metadata": {
    "collapsed": true
   },
   "outputs": [],
   "source": [
    "import time\n",
    "\n",
    "class Integral:\n",
    "    \n",
    "    def __init__(self):\n",
    "        print('A blanc object of class ' + self.__class__.__name__ + ' is created.')\n",
    "        \n",
    "    def SetFunction(self, f):\n",
    "        self._f = f\n",
    "    \n",
    "    def SetLeftBorder(self, a):\n",
    "        self._a = float(a)\n",
    "    \n",
    "    def SetNumBlocks(self, numBlocks):\n",
    "        self._numBlocks = numBlocks\n",
    "          \n",
    "    def __call__(self, x):\n",
    "        x = float(x)\n",
    "        gridArray = np.linspace(self._a, x, self._numBlocks + 1)\n",
    "        gridLength = len(gridArray)\n",
    "        h = (x - self._a)/self._numBlocks\n",
    "        \n",
    "        # вычисление по формуле трапеций\n",
    "        print('Calculations took...', end = '')\n",
    "        start = time.clock()\n",
    "        \n",
    "        value = 0.\n",
    "        for i in range(gridLength - 1):\n",
    "            tCurrent = gridArray[i]\n",
    "            tNext = gridArray[i + 1]\n",
    "            value += 0.5*(self._f(tCurrent) + self._f(tNext))*h\n",
    "    \n",
    "        \n",
    "        end = time.clock() - start\n",
    "        print ('%.2e sec.' % end)\n",
    "        \n",
    "        return value"
   ]
  },
  {
   "cell_type": "markdown",
   "metadata": {},
   "source": [
    "Использование класса: вычисление значений"
   ]
  },
  {
   "cell_type": "code",
   "execution_count": null,
   "metadata": {
    "collapsed": true
   },
   "outputs": [],
   "source": [
    "listOfFunctions = [lambda t: np.exp(-t**2), lambda t: 2./ (1 + np.sin(np.exp(-t**2))),\n",
    "                   lambda t: np.sinh(5./(2. + np.cos(t))), lambda t: 1./(1 + t**2)]\n",
    "\n",
    "listOfAntiderivatives = [Integral() for i in range(len(listOfFunctions))]\n",
    "\n",
    "for integral, function in zip(listOfAntiderivatives, listOfFunctions):\n",
    "    integral.SetFunction(function)\n",
    "    integral.SetNumBlocks(100)\n",
    "    integral.SetLeftBorder(0.)\n",
    "\n",
    "# после задания всех параметров пользуемся как функцией    \n",
    "x0 = 5.\n",
    "# выводим значения всех функций на экран\n",
    "for i in range(len(listOfFunctions)):\n",
    "    print ('#%d: Value at the point x0 = %.2f: %.2f ' % (i, x0, listOfAntiderivatives[i](x0)))"
   ]
  },
  {
   "cell_type": "markdown",
   "metadata": {},
   "source": [
    "Использование класса: построение графиков"
   ]
  },
  {
   "cell_type": "code",
   "execution_count": null,
   "metadata": {
    "collapsed": true
   },
   "outputs": [],
   "source": [
    "import matplotlib.pyplot as plt\n",
    "%matplotlib inline\n",
    "\n",
    "xData = np.linspace(0., 3., 50)\n",
    "\n",
    "for element in listOfAntiderivatives:\n",
    "    yData = [element(x) for x in xData]\n",
    "    plt.figure()\n",
    "    plt.plot(xData, yData, 'b-', linewidth=4)\n",
    "    plt.grid('on')\n",
    "    plt.show()"
   ]
  },
  {
   "cell_type": "markdown",
   "metadata": {
    "collapsed": true
   },
   "source": [
    "## Вопросы?"
   ]
  }
 ],
 "metadata": {
  "anaconda-cloud": {},
  "kernelspec": {
   "display_name": "Python 3",
   "language": "python",
   "name": "python3"
  },
  "language_info": {
   "codemirror_mode": {
    "name": "ipython",
    "version": 3
   },
   "file_extension": ".py",
   "mimetype": "text/x-python",
   "name": "python",
   "nbconvert_exporter": "python",
   "pygments_lexer": "ipython3",
   "version": "3.6.3"
  }
 },
 "nbformat": 4,
 "nbformat_minor": 1
}
