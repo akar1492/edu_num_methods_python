{
 "cells": [
  {
   "cell_type": "markdown",
   "metadata": {},
   "source": [
    "__Автор__: Карпаев Алексей, ассистент кафедры информатики и вычислительной математики."
   ]
  },
  {
   "cell_type": "markdown",
   "metadata": {},
   "source": [
    "# Обзор средств ускорения Python"
   ]
  },
  {
   "cell_type": "code",
   "execution_count": null,
   "metadata": {
    "collapsed": true
   },
   "outputs": [],
   "source": [
    "import numpy as np\n",
    "import math as m\n",
    "import matplotlib.pyplot as plt\n",
    "import time\n",
    "import timeit\n",
    "%matplotlib inline\n",
    "\n",
    "figsizeConst = (11.6, 7.)\n",
    "plt.rc('font', size=20)"
   ]
  },
  {
   "cell_type": "markdown",
   "metadata": {},
   "source": [
    "## Некоторые способы\n",
    "* cython\n",
    "* scipy.weave\n",
    "* SWIG\n",
    "* ...\n",
    "* __векторизация из Numpy__\n",
    "* __Numba__"
   ]
  },
  {
   "cell_type": "markdown",
   "metadata": {},
   "source": [
    "## Cython: 0.5 * C + 0.5 * Python\n",
    "Пример кода (c), численное интегрирование:"
   ]
  },
  {
   "cell_type": "code",
   "execution_count": null,
   "metadata": {
    "collapsed": true
   },
   "outputs": [],
   "source": [
    "# cython не установлен - код нерабочий\n",
    "'''\n",
    "cdef extern from \"math.h\":\n",
    "    double sin(double x)\n",
    "\n",
    "cdef double f(double x):\n",
    "    return sin(x**2)\n",
    "\n",
    "cpdef double integrate_f(double a, double b, int N):\n",
    "    cdef double dx, s\n",
    "    cdef int i\n",
    "\n",
    "    dx = (b-a)/N\n",
    "    s = 0\n",
    "    for i in range(N):\n",
    "        s += f(a+i*dx)\n",
    "    return s * dx\n",
    "'''"
   ]
  },
  {
   "cell_type": "markdown",
   "metadata": {},
   "source": [
    "## Векторизация"
   ]
  },
  {
   "cell_type": "markdown",
   "metadata": {},
   "source": [
    "Еще раз про \"быстрые массивы\" из __Numpy__:\n",
    "\n",
    "* элементы массива должны быть одного типа\n",
    "* неизменяемость длины массива\n",
    "* поддержка векторизованных операций\n",
    "\n",
    "### Принцип векторизованных операций: \n",
    "* задействование быстрых циклов на C, реализованных внутри библиотеки Numpy\n",
    "* 1 вместо n инструкций для интерпретации в случае парсинга цикла"
   ]
  },
  {
   "cell_type": "code",
   "execution_count": null,
   "metadata": {
    "collapsed": true
   },
   "outputs": [],
   "source": [
    "def CalculateFibonacciNumber(n):\n",
    "    a = 0\n",
    "    b = 1\n",
    "    for i in range(n):\n",
    "        a, b = b, a + b\n",
    "        \n",
    "    return a"
   ]
  },
  {
   "cell_type": "code",
   "execution_count": null,
   "metadata": {
    "collapsed": true
   },
   "outputs": [],
   "source": [
    "CalculateFibonacciNumber(5)"
   ]
  },
  {
   "cell_type": "markdown",
   "metadata": {},
   "source": [
    "$$ \n",
    "    t_{scalar} = (t_{interpret} + t_{execut1}) \\cdot n \\\\\n",
    "    t_{vectorized} = t_{interpret} + t_{execut2} n \\\\\n",
    "    t_{execut1} \\text{- время исполнения инструкции, переведенной в машинный код интерпретатором} \\\\\n",
    "    t_{execut2} \\text{- время исполнения инструкции, переведенной в машинный код компилятором языка С} \\\\\n",
    "$$\n",
    "\n",
    "\n",
    "* векторизованные операции Numpy - высокоуровневая \"обертка\" для реализованных внутри Numpy циклов на С\n",
    "\n",
    "Массив $\\mathbf{v} = \\left( v_0, v_1, ..., v_{n-1} \\right)$ \n",
    "\n",
    "* векторизованная функция: $\\mathbf{f}(\\mathbf{v}) = \\left( f(v_0), f(v_1), ..., f(v_{n-1}) \\right)$\n",
    "* векторизованная арифметическая операция: $\\mathbf{u} \\circ \\mathbf{v} = \\left( u_0 \\circ v_0 , u_1 \\circ v_1, ..., u_{n-1} \\circ v_{n-1} \\right)$\n",
    "\n",
    "Реализации покоординатных операций над массивами в явном виде:"
   ]
  },
  {
   "cell_type": "code",
   "execution_count": null,
   "metadata": {
    "collapsed": true
   },
   "outputs": [],
   "source": [
    "def AddArrays(array1, array2):\n",
    "    n = len(array1)\n",
    "    resultArray = [0. for i in range(n)]\n",
    "    for i in range(n):\n",
    "        resultArray[i] = array1[i] + array2[i]\n",
    "    return resultArray\n",
    "\n",
    "def MultiplyArrays(array1, array2):\n",
    "    n = len(array1)\n",
    "    resultArray = [0. for i in range(n)]\n",
    "    for i in range(n):\n",
    "        resultArray[i] = array1[i] * array2[i]\n",
    "    return resultArray\n",
    "\n",
    "def SpecificFunctionArray(array):\n",
    "    n = len(array)\n",
    "    resultArray = [0. for i in range(n)]\n",
    "    for i in range(n):\n",
    "        resultArray[i] = m.cos(m.sin(array[i]**2.)) / (1. + m.exp(-2.*array[i]))\n",
    "    return resultArray"
   ]
  },
  {
   "cell_type": "code",
   "execution_count": null,
   "metadata": {
    "collapsed": true
   },
   "outputs": [],
   "source": [
    "N = int(1e3)\n",
    "arrayA = [5*i for i in range(N)]\n",
    "arrayB = arrayA\n",
    "\n",
    "print (AddArrays(arrayA, arrayB)[1:10], '\\n')\n",
    "print (MultiplyArrays(arrayA, arrayB)[1:10], '\\n')\n",
    "print (SpecificFunctionArray(arrayB)[1:10], '\\n')"
   ]
  },
  {
   "cell_type": "code",
   "execution_count": null,
   "metadata": {
    "collapsed": true
   },
   "outputs": [],
   "source": [
    "# график времени исполнения\n",
    "lengthsList = [int(1.5**i) for i in range(2, 10)]\n",
    "runtimesList = []\n",
    "\n",
    "for length in lengthsList:\n",
    "    arrayA = [5*i for i in range(int(length))]\n",
    "    \n",
    "    timing = %timeit -o SpecificFunctionArray(arrayA)\n",
    "    runtimesList.append(timing.best)\n",
    "\n",
    "    \n",
    "from matplotlib.ticker import FormatStrFormatter\n",
    "plt.figure(figsize=figsizeConst)\n",
    "plt.plot(lengthsList, runtimesList, 'b-o', linewidth=3, markersize = 7)\n",
    "plt.gca().yaxis.set_major_formatter(FormatStrFormatter('%.2e'))\n",
    "plt.ylabel('Runtime, s')\n",
    "plt.xlabel('n')\n",
    "plt.grid('on')\n",
    "plt.show()"
   ]
  },
  {
   "cell_type": "code",
   "execution_count": null,
   "metadata": {
    "collapsed": true
   },
   "outputs": [],
   "source": [
    "# то же самое, с использованием векторизации"
   ]
  },
  {
   "cell_type": "code",
   "execution_count": null,
   "metadata": {
    "collapsed": true
   },
   "outputs": [],
   "source": [
    "N = int(1e3)\n",
    "arrayA = np.array([5*i for i in range(N)])\n",
    "arrayB = arrayA.copy()\n",
    "\n",
    "print (arrayA[1:10], '\\n')\n",
    "print ((arrayA[:] + arrayB[:])[1:10], '\\n')\n",
    "print ((arrayA[:]*arrayB[:])[1:10], '\\n')\n",
    "print ((np.cos(np.sin(arrayB[:]**2.)) / (1. + np.exp(-2.*arrayB[:])))[1:10], '\\n')"
   ]
  },
  {
   "cell_type": "code",
   "execution_count": null,
   "metadata": {
    "collapsed": true
   },
   "outputs": [],
   "source": [
    "# график времени исполнения\n",
    "lengthsList = [int(1.5**i) for i in range(2, 10)]\n",
    "runtimesList = []\n",
    "\n",
    "for length in lengthsList:\n",
    "    arrayA = np.array([5*i for i in range(int(length))])\n",
    "    \n",
    "    timing = %timeit -o np.cos(np.sin(arrayA[:]**2.)) / (1. + np.exp(-2.*arrayA[:]))\n",
    "    runtimesList.append(timing.best)\n",
    "    \n",
    "\n",
    "    from matplotlib.ticker import FormatStrFormatter\n",
    "plt.figure(figsize=figsizeConst)\n",
    "plt.plot(lengthsList, runtimesList, 'b-o', linewidth=3, markersize = 7)\n",
    "plt.gca().yaxis.set_major_formatter(FormatStrFormatter('%.2e'))\n",
    "plt.ylabel('Runtime, s')\n",
    "plt.xlabel('n')\n",
    "plt.grid('on')\n",
    "plt.show()"
   ]
  },
  {
   "cell_type": "code",
   "execution_count": null,
   "metadata": {
    "collapsed": true
   },
   "outputs": [],
   "source": [
    "def SpecificFunctionArrayVectorized(array):\n",
    "    return np.cos(np.sin(array[:]**2.)) / (1. + np.exp(-2.*array[:]))"
   ]
  },
  {
   "cell_type": "code",
   "execution_count": null,
   "metadata": {
    "collapsed": true
   },
   "outputs": [],
   "source": [
    "# графики ускорений\n",
    "runtimesScalarList, runtimesVectorizedList = [], []\n",
    "\n",
    "\n",
    "for length in lengthsList:\n",
    "    arrayA = np.array([5*i for i in range(int(length))])\n",
    "    arrayB = np.array(arrayA)\n",
    "    \n",
    "    timing1 = %timeit -o SpecificFunctionArray(arrayB)\n",
    "    timing2 = %timeit -o SpecificFunctionArrayVectorized(arrayB)\n",
    "    \n",
    "    runtimesScalarList.append(timing1.best)\n",
    "    runtimesVectorizedList.append(timing2.best)\n",
    "                                                                   \n",
    "\n",
    "runtimesScalarList = np.array(runtimesScalarList) \n",
    "runtimesVectorizedList = np.array(runtimesVectorizedList)\n",
    "\n",
    "plt.figure(figsize=figsizeConst)\n",
    "plt.title('Comparison')\n",
    "plt.plot(lengthsList[:], runtimesScalarList[:]/runtimesVectorizedList[:], 'r-o', label='Vectorized', linewidth=3, markersize = 7)\n",
    "plt.plot(lengthsList[:], runtimesScalarList[:]/runtimesScalarList[:], 'b-o', label='Scalar', linewidth=3, markersize = 7)\n",
    "plt.ylabel('Speedup')\n",
    "plt.xlabel('n')\n",
    "plt.legend(loc='best')\n",
    "plt.grid('on')\n",
    "plt.show()"
   ]
  },
  {
   "cell_type": "markdown",
   "metadata": {},
   "source": [
    "### Однородное линейное уравнение теплопроводности"
   ]
  },
  {
   "cell_type": "code",
   "execution_count": null,
   "metadata": {
    "collapsed": true
   },
   "outputs": [],
   "source": [
    "xLeft = 0.\n",
    "xRight = 1.\n",
    "kappa = 0.1\n",
    "t = 0.\n",
    "tRun = 0.04\n",
    "\n",
    "def InitialCondition(x):\n",
    "    if x < 0.6 and x > 0.4:\n",
    "        return 1.\n",
    "    else:\n",
    "        return 0.\n",
    "\n",
    "\n",
    "def SetInitialCondition(function, array, numPoints, h):\n",
    "    for i in range(numPoints):\n",
    "        array[i] = function(i * h)\n",
    "\n",
    "def MakeStepScalar(uOld, numPoints, h, dt, kappa, uNew):\n",
    "    courant = kappa * dt / (h * h)\n",
    "    \n",
    "    # явная реализация покоординатных операций с помощью цикла\n",
    "    for i in range(1, numPoints - 1):\n",
    "        uNew[i] = uOld[i] + courant * (uOld[i + 1] - 2 * uOld[i] + uOld[i - 1])\n",
    "    \n",
    "    \n",
    "def MakeStepVectorized(uOld, numPoints, h, dt, kappa, uNew):\n",
    "    courant = kappa * dt / (h * h) \n",
    "    \n",
    "    # неявная реализация поокоординатных операций с помощью векторизации\n",
    "    uNew[1:numPoints-1] = uOld[1:numPoints-1] + courant*(uOld[2:numPoints] - 2*uOld[1:numPoints-1]\\\n",
    "                                                        + uOld[:numPoints-2])\n",
    "\n",
    "\n",
    "\n",
    "# main\n",
    "counter = 0\n",
    "counterBlocks = 0\n",
    "numBlocks = int(1e3)\n",
    "numPoints = int(numBlocks + 1)\n",
    "uOld, uNew = np.zeros(numPoints), np.zeros(numPoints)\n",
    "h = float(xRight - xLeft) / float(numBlocks)\n",
    "dt = h**2 / (kappa * 20.)\n",
    "\n",
    "                \n",
    "start = timeit.default_timer()\n",
    "SetInitialCondition(InitialCondition, uOld, numPoints, h)\n",
    "while t < tRun:\n",
    "    \n",
    "    # закомментироапть одну версию функции - раскомментировать другую\n",
    "    MakeStepScalar(uOld, numPoints, h, dt, kappa, uNew)\n",
    "    #MakeStepVectorized(uOld, numPoints, h, dt, kappa, uNew)\n",
    "    \n",
    "    uOld = uNew\n",
    "    t += dt; counter += 1\n",
    "    if (counter % int(1e4)) == 0:\n",
    "        print ('Step #%d' % counter)\n",
    "\n",
    "\n",
    "end = timeit.default_timer()\n",
    "runtime = end - start\n",
    "print ('Calculations took ... %.2e s' % runtime)\n",
    "    \n",
    "    \n",
    "xArray = np.linspace(xLeft, xRight, numPoints)\n",
    "plt.figure(figsize=figsizeConst)\n",
    "plt.title('Numerical solution')\n",
    "plt.plot(xArray, uNew, 'b-', linewidth=4)\n",
    "plt.xlabel('X')\n",
    "plt.ylabel('Temperature')\n",
    "plt.grid('on')\n",
    "plt.show()"
   ]
  },
  {
   "cell_type": "markdown",
   "metadata": {},
   "source": [
    "### Численное интегрирование"
   ]
  },
  {
   "cell_type": "code",
   "execution_count": null,
   "metadata": {
    "collapsed": true
   },
   "outputs": [],
   "source": [
    "class AbstractIntegral:\n",
    "    \n",
    "    def __init__(self):\n",
    "        self._listOfCoefficients = []\n",
    "        print ('An empty Integral is created.')\n",
    "    \n",
    "    def ChooseFunction(self, function):\n",
    "        self._function = function\n",
    "    \n",
    "    def SetLeftBorder(self, leftBorder):\n",
    "        self._leftBorder = leftBorder   \n",
    "    \n",
    "    def SetGrid(self, step):\n",
    "        self._step = step\n",
    "    \n",
    "    \n",
    "    def SetMethodCoefficients(self):\n",
    "        raise NotImplementedError\n",
    "          \n",
    "    def __call__(self, x):\n",
    "        \n",
    "        self._gridArray = np.arange(self._leftBorder, x, self._step)\n",
    "        self._gridLength = len(self._gridArray)\n",
    "        \n",
    "        f, left, right, h = self._function, self._leftBorder, \\\n",
    "                            x, self._step\n",
    "        \n",
    "        #self._function = np.vectorize(self._function) # раскомментировать, если функция из модуля math\n",
    "        self.SetMethodCoefficients()\n",
    "        value = 0.\n",
    "        start = timeit.default_timer()\n",
    "        # вычисление интеграла\n",
    "        print ('Computations took ... ',)\n",
    "        value = np.dot(self._listOfCoefficients, self._function(self._gridArray))\n",
    "        runtime = timeit.default_timer() - start\n",
    "        print ('%.2e sec' % runtime)\n",
    "        \n",
    "        value *= self._step\n",
    "        return value\n",
    "    \n",
    "    \n",
    "    \n",
    "class TrapeziumMethod(AbstractIntegral):\n",
    "    def SetMethodCoefficients(self):\n",
    "        self._listOfCoefficients = np.ones(self._gridLength)\n",
    "        self._listOfCoefficients[0] *= 0.5\n",
    "        self._listOfCoefficients[-1] *= 0.5"
   ]
  },
  {
   "cell_type": "code",
   "execution_count": null,
   "metadata": {
    "collapsed": true
   },
   "outputs": [],
   "source": [
    "# тестирование\n",
    "listOfAntiderivatives = [TrapeziumMethod()]\n",
    "listOfFunctions = [lambda t: np.exp(-t**2)] # для ускорения: функция должна быть из numpy, не из math\n",
    "\n",
    "xLeft_, xRight_, step = 0., 3., 1e-4\n",
    "for element, function in zip(listOfAntiderivatives, listOfFunctions):\n",
    "    element.ChooseFunction(function)\n",
    "    element.SetGrid(step)\n",
    "    element.SetLeftBorder(xLeft_)\n",
    "    print (element(1.))\n",
    "\n",
    "xData = np.arange(xLeft_ + 1e-3, xRight_, 5e-2)\n",
    "\n",
    "for element in listOfAntiderivatives:\n",
    "    yData = [element(x) for x in list(xData)]\n",
    "    plt.figure(figsize=figsizeConst)\n",
    "    plt.plot(xData, yData, 'b-o', linewidth=4, markersize=5)\n",
    "    plt.xlabel('X')\n",
    "    plt.grid('on')\n",
    "    plt.show()"
   ]
  },
  {
   "cell_type": "markdown",
   "metadata": {},
   "source": [
    "### Метод Якоби решения СЛАУ\n",
    "СЛАУ возникает в результате использования разностного шаблона \"крест\" при дискретизации уравнения Лапласа в квадратной области с граничными условиями Дирихле:"
   ]
  },
  {
   "cell_type": "code",
   "execution_count": null,
   "metadata": {
    "collapsed": true
   },
   "outputs": [],
   "source": [
    "numBlocksX = 100\n",
    "numBlocksY = 100\n",
    "\n",
    "length = 5.\n",
    "height = 5.\n",
    "\n",
    "xArray = np.linspace(0., length, numBlocksX)\n",
    "yArray = np.linspace(0., height, numBlocksY)\n",
    "\n",
    "hx = length / (numBlocksX - 1)\n",
    "hy = height / (numBlocksY - 1)\n",
    "\n",
    "p0 = np.zeros((numBlocksY, numBlocksX))\n",
    "\n",
    "# граничные условия\n",
    "p0[-1,:] = np.sin(1.5 * np.pi * xArray/xArray[-1])\n",
    "p0[:,-1] = np.cos(1.5 * np.pi * yArray/yArray[-1])"
   ]
  },
  {
   "cell_type": "code",
   "execution_count": null,
   "metadata": {
    "collapsed": true
   },
   "outputs": [],
   "source": [
    "def SolveLaplace2D_JacobiScalar(p, numBlocksX, numBlocksY, l2Tolerance): \n",
    "    l2Norm = 1.\n",
    "    pn = np.empty_like(p)\n",
    "    iterations = 0\n",
    "    \n",
    "    start = timeit.default_timer()\n",
    "    while l2Norm > l2Tolerance:\n",
    "        pn = p.copy()\n",
    "        \n",
    "        # iterations\n",
    "        for i in range(1, numBlocksX - 1):\n",
    "            for j in range(1, numBlocksY - 1):\n",
    "                p[i, j] = 0.25 * (pn[i, j + 1] + pn[i, j - 1] +\\\n",
    "                                      pn[i + 1, j] + pn[i - 1, j])\n",
    "        \n",
    "        numerator, denumenator = 0., 0.\n",
    "        for i in range(numBlocksX):\n",
    "            for j in range(numBlocksY): \n",
    "                numerator += (p[i, j] - pn[i, j])**2\n",
    "                denumenator += pn[i, j]**2\n",
    "            \n",
    "        l2Norm = m.sqrt(numerator/denumenator)\n",
    "        iterations += 1\n",
    "    \n",
    "    runtime = timeit.default_timer() - start\n",
    "    print ('%d iterations completed in scalar Jacobi solver; calculations took ... %.2f s' % (iterations, runtime))\n",
    "    return p, runtime"
   ]
  },
  {
   "cell_type": "code",
   "execution_count": null,
   "metadata": {
    "collapsed": true
   },
   "outputs": [],
   "source": [
    "def SolveLaplace2D_JacobiVectorized(p, numBlocksX, numBlocksY, l2Tolerance):\n",
    "    l2Norm = 1\n",
    "    pn = np.empty_like(p)\n",
    "    iterations = 0\n",
    "    \n",
    "    start = timeit.default_timer()\n",
    "    while l2Norm > l2Tolerance:\n",
    "        pn = p.copy()\n",
    "        \n",
    "        # iterations\n",
    "        p[1:-1,1:-1] = 0.25 * (pn[1:-1,2:] + pn[1:-1,:-2] +\\\n",
    "                              pn[2:,1:-1] + pn[:-2,1:-1])\n",
    "        \n",
    "        l2Norm = np.sqrt(np.sum((p - pn)**2)/np.sum(pn**2))\n",
    "        iterations += 1\n",
    "    \n",
    "    runtime = timeit.default_timer() - start\n",
    "    print ('%d iterations completed in vectorized Jacobi solver; calculations took ... %.2f s' % (iterations, runtime))\n",
    "    return p, runtime"
   ]
  },
  {
   "cell_type": "code",
   "execution_count": null,
   "metadata": {
    "collapsed": true
   },
   "outputs": [],
   "source": [
    "tolerance = 1e-3\n",
    "pScalar, runtimeScalar = SolveLaplace2D_JacobiScalar(p0.copy(), numBlocksX, numBlocksY, tolerance)\n",
    "pVectorized, runtimeVectorized = SolveLaplace2D_JacobiVectorized(p0.copy(), numBlocksX, numBlocksY, tolerance)\n",
    "\n",
    "print ('Speedup = %.0f' % (runtimeScalar/runtimeVectorized))"
   ]
  },
  {
   "cell_type": "code",
   "execution_count": null,
   "metadata": {
    "collapsed": true
   },
   "outputs": [],
   "source": [
    "# проверяем корректность численного решения\n",
    "plt.figure(figsize = figsizeConst)\n",
    "plt.title('Pressure')\n",
    "im = plt.imshow(pVectorized, cmap = 'viridis', origin='lower')\n",
    "cs = plt.contour(pVectorized)\n",
    "plt.colorbar(im)\n",
    "plt.show()"
   ]
  },
  {
   "cell_type": "markdown",
   "metadata": {},
   "source": [
    "## Ускорение программ с помощью средств библиотеки Numba"
   ]
  },
  {
   "cell_type": "code",
   "execution_count": null,
   "metadata": {
    "collapsed": true
   },
   "outputs": [],
   "source": [
    "import numba as nb"
   ]
  },
  {
   "cell_type": "markdown",
   "metadata": {},
   "source": [
    "Простой пример:"
   ]
  },
  {
   "cell_type": "code",
   "execution_count": null,
   "metadata": {
    "collapsed": true
   },
   "outputs": [],
   "source": [
    "def CalculateFibonacciNumber(n):\n",
    "    a = 0\n",
    "    b = 1\n",
    "    for i in range(n):\n",
    "        a, b = b, a + b\n",
    "    return a\n",
    "\n",
    "\n",
    "# добавляем простой спецификатор\n",
    "@nb.jit()\n",
    "def CalculateFibonacciNumberJITted(n):\n",
    "    a = 0\n",
    "    b = 1\n",
    "    for i in range(n):\n",
    "        a, b = b, a + b\n",
    "    return a"
   ]
  },
  {
   "cell_type": "code",
   "execution_count": null,
   "metadata": {
    "collapsed": true
   },
   "outputs": [],
   "source": [
    "n = int(1e6)\n",
    "\n",
    "start = timeit.default_timer()\n",
    "CalculateFibonacciNumber(n)\n",
    "runtimeScalar = (timeit.default_timer() - start)\n",
    "\n",
    "print ('Calculations took ... %.2e s' % runtimeScalar)"
   ]
  },
  {
   "cell_type": "code",
   "execution_count": null,
   "metadata": {
    "collapsed": true
   },
   "outputs": [],
   "source": [
    "# реальное значение ускорения будет со 2-го запуска ячейки, когда функцию уже не требуется компилироват\n",
    "\n",
    "start = timeit.default_timer()\n",
    "CalculateFibonacciNumberJITted(n)\n",
    "runtimeJITted = (timeit.default_timer() - start)\n",
    "print ('Calculations took ... %.2e s' % runtimeJITted)\n",
    "\n",
    "print ('Speedup = %.0f' % (runtimeScalar/runtimeJITted))"
   ]
  },
  {
   "attachments": {},
   "cell_type": "markdown",
   "metadata": {},
   "source": [
    "### Вернемся назад: подробнее об интерпретаторе  Python\n",
    "\n",
    "Интерпретатор Python - на самом деле не один объект, а система из нескольких составляющих. Сначала текстовый файл test.py компилируется в файл для __виртуальной машины Python (PVM)__, который затем выполняется (интерпретируется) PVM:\n",
    "\n",
    "<img src=\"https://adw0rd.com/media/2009/08/python.png\">\n",
    "\n",
    "\n",
    "### JIT-компиляция\n",
    "В библиотеке __Numba__ различными способами реализована __JIT-компиляция__ (Just-in-time compilation, компиляция «на лету»). Это технология увеличения производительности программных систем, использующих байт-код, путём компиляции байт-кода в машинный код или в другой формат непосредственно во время работы программы. Таким образом достигается высокая скорость выполнения по сравнению с интерпретируемым байт-кодом (сравнимая с компилируемыми языками) за счёт увеличения потребления памяти (для хранения результатов компиляции) и затрат времени на компиляцию.\n",
    "\n",
    "\n",
    "__Короче говоря:__ это компиляция части байт-кода или всего байт-кода __на этапе выполнения программы PVM__ и использование скомпилированной части в процессе дальнейшего выполнения.\n",
    "\n",
    "\n",
    "\n",
    "__Ограничения__ для функций, к которым можно применять JIT-компиляцию:\n",
    "* отсутсвие векторизованных операций Numpy (в последних версиях библиотеки Numba стали поддержтваться некоторые математические функции из Numpy)\n",
    "* использование Numpy разрешено только при инициализации массивов\n",
    "* отсутсвие операций с высокоуровневыми структурами данных Python: со списками, кортежами, словарями, ..."
   ]
  },
  {
   "cell_type": "markdown",
   "metadata": {},
   "source": [
    "__Numba__ может ускорять довольно сложные функции, но все же иногда ей это не удается. В этом случае она сгенерирует функцию, ничем не отличающуюся по произодительности от изначальной (без каких либо оповещений). Запуск Numba в nopython-режиме заставит библиотеку выдавать ошибку в случае неудачного исхода JIT-компиляции функции: \"либо ускоренная функция, либо ничего\":"
   ]
  },
  {
   "cell_type": "code",
   "execution_count": null,
   "metadata": {
    "collapsed": true
   },
   "outputs": [],
   "source": [
    "@nb.jit(nopython=True)\n",
    "def CalculateFibonacciNumberJITted(n):\n",
    "    a = 0\n",
    "    b = 1\n",
    "    for i in range(n):\n",
    "        a, b = b, a + b\n",
    "    return a"
   ]
  },
  {
   "cell_type": "markdown",
   "metadata": {},
   "source": [
    "### Работа с массивами\n",
    "Добавляем спецификатор __@jit__ к функциям, в которых реализован скалярный код покоординатных операций над масиивами:"
   ]
  },
  {
   "cell_type": "code",
   "execution_count": null,
   "metadata": {
    "collapsed": true
   },
   "outputs": [],
   "source": [
    "@nb.jit(nopython=True)\n",
    "def AddArraysJIT(array1, array2):\n",
    "    n = len(array1)\n",
    "    resultArray = np.zeros(n)\n",
    "    for i in range(n):\n",
    "        resultArray[i] = array1[i] + array2[i]\n",
    "    return resultArray\n",
    "\n",
    "@nb.jit(nopython=True)\n",
    "def MultiplyArraysJIT(array1, array2):\n",
    "    n = len(array1)\n",
    "    resultArray = np.zeros(n)\n",
    "    for i in range(n):\n",
    "        resultArray[i] = array1[i] * array2[i]\n",
    "    return resultArray\n",
    "\n",
    "@nb.jit(nopython=True)\n",
    "def SpecificFunctionArrayJIT(array):\n",
    "    n = len(array)\n",
    "    resultArray = np.zeros(n)\n",
    "    for i in range(n):\n",
    "        resultArray[i] = m.cos(m.sin(array[i]**2.)) / (1. + m.exp(-2.*array[i]))\n",
    "    return resultArray"
   ]
  },
  {
   "cell_type": "markdown",
   "metadata": {},
   "source": [
    "Ускорение JIT-скомпилированных функций по сравнению со скалярными и векторизованными:"
   ]
  },
  {
   "cell_type": "code",
   "execution_count": null,
   "metadata": {
    "collapsed": true
   },
   "outputs": [],
   "source": [
    "# реальное значение ускорения будет со 2-го запуска ячейки, когда функцию уже не требуется компилировать\n",
    "# сравнение ускорений\n",
    "runtimesScalarList, runtimesVectorizedList, runtimesJittedList = [], [], []\n",
    "\n",
    "\n",
    "for length in lengthsList:\n",
    "    arrayA = np.array([5*i for i in range(int(length))])\n",
    "    arrayB = arrayA.copy()\n",
    "    \n",
    "    \n",
    "    timingScalar = %timeit -o SpecificFunctionArray(arrayB)\n",
    "    timingVectorized = %timeit -o SpecificFunctionArrayVectorized(arrayB)\n",
    "    timingJITted = %timeit -o SpecificFunctionArrayJIT(arrayB)\n",
    "    \n",
    "    runtimesScalarList.append(timingScalar.best)\n",
    "    runtimesVectorizedList.append(timingVectorized.best)\n",
    "    runtimesJittedList.append(timingJITted.best)\n",
    "\n",
    "    \n",
    "    \n",
    "runtimesScalarList = np.array(runtimesScalarList) \n",
    "runtimesVectorizedList = np.array(runtimesVectorizedList)\n",
    "runtimesJittedList = np.array(runtimesJittedList)\n",
    "\n",
    "\n",
    "plt.figure(figsize=figsizeConst)\n",
    "plt.title('Comparison')\n",
    "plt.plot(lengthsList[1:], runtimesScalarList[1:]/runtimesVectorizedList[1:], 'r-o', label='Vectorized', linewidth=3, markersize = 7)\n",
    "plt.plot(lengthsList[1:], runtimesScalarList[1:]/runtimesJittedList[1:], 'g-o', label='JITted', linewidth=3, markersize = 7)\n",
    "plt.plot(lengthsList[1:], runtimesScalarList[1:]/runtimesScalarList[1:], 'b-o', label='Scalar', linewidth=3, markersize = 7)\n",
    "plt.ylabel('Speedup')\n",
    "plt.xlabel('N')\n",
    "plt.legend(loc='best')\n",
    "plt.grid('on')\n",
    "plt.show()"
   ]
  },
  {
   "cell_type": "markdown",
   "metadata": {},
   "source": [
    "### Однородное линейное уравнение теплопроводности"
   ]
  },
  {
   "cell_type": "code",
   "execution_count": null,
   "metadata": {
    "collapsed": true
   },
   "outputs": [],
   "source": [
    "# реальное значение ускорения будет со 2-го запуска ячейки, когда функцию уже не требуется компилировать\n",
    "\n",
    "xLeft = 0.\n",
    "xRight = 1.\n",
    "kappa = 0.1\n",
    "t = 0.\n",
    "tRun = 0.04\n",
    "\n",
    "def InitialCondition(x):\n",
    "    if x < 0.6 and x > 0.4:\n",
    "        return 1.\n",
    "    else:\n",
    "        return 0.\n",
    "\n",
    "\n",
    "def SetInitialCondition(function, array, numPoints, h):\n",
    "    for i in range(numPoints):\n",
    "        array[i] = function(i * h)\n",
    "\n",
    "def MakeStepScalar(uOld, numPoints, h, dt, kappa, uNew):\n",
    "    courant = kappa * dt / (h * h)\n",
    "    for i in range(1, numPoints - 1):\n",
    "        uNew[i] = uOld[i] + courant * (uOld[i + 1] - 2 * uOld[i] + uOld[i - 1])\n",
    "    \n",
    "def MakeStepVectorized(uOld, numPoints, h, dt, kappa, uNew):\n",
    "    courant = kappa * dt / (h * h) \n",
    "    uNew[1:numPoints-1] = uOld[1:numPoints-1] + courant*(uOld[2:numPoints] - 2*uOld[1:numPoints-1]\\\n",
    "                                                        + uOld[:numPoints-2])\n",
    "    \n",
    "@nb.jit(nopython=True) # раскомментировать\n",
    "def MakeStepJIT(uOld, numPoints, h, dt, kappa, uNew):\n",
    "    courant = kappa * dt / (h * h)\n",
    "    for i in range(1, numPoints - 1):\n",
    "        uNew[i] = uOld[i] + courant * (uOld[i + 1] - 2 * uOld[i] + uOld[i - 1])\n",
    "\n",
    "# main\n",
    "counter = 0\n",
    "counterBlocks = 0\n",
    "\n",
    "numBlocks = int(1e3)\n",
    "import time\n",
    "\n",
    "start = timeit.default_timer()\n",
    "numPoints = int(numBlocks + 1)\n",
    "uOld, uNew = np.zeros(numPoints), np.zeros(numPoints)\n",
    "h = float(xRight - xLeft) / float(numBlocks)\n",
    "dt = h**2 / (kappa * 20.)\n",
    "SetInitialCondition(InitialCondition, uOld, numPoints, h)\n",
    "    \n",
    "while t < tRun:\n",
    "    MakeStepJIT(uOld, numPoints, h, dt, kappa, uNew)\n",
    "    uOld = uNew\n",
    "    t += dt; counter += 1\n",
    "    if (counter % int(1e4)) == 0:\n",
    "        print ('Step #%d' % counter)\n",
    "\n",
    "end = timeit.default_timer()\n",
    "runtime = (end - start)\n",
    "print ('Calculations took ... %.2e s' % runtime)\n",
    "    \n",
    "    \n",
    "xArray = np.linspace(xLeft, xRight, numPoints)\n",
    "plt.figure(figsize=figsizeConst)\n",
    "plt.title('Numerical solution')\n",
    "plt.plot(xArray, uNew, 'b-', linewidth=4)\n",
    "plt.xlabel('X')\n",
    "plt.ylabel('Temperature')\n",
    "plt.grid('on')\n",
    "plt.show()"
   ]
  },
  {
   "cell_type": "markdown",
   "metadata": {},
   "source": [
    "### Метод Якоби"
   ]
  },
  {
   "cell_type": "code",
   "execution_count": null,
   "metadata": {
    "collapsed": true
   },
   "outputs": [],
   "source": [
    "# реальное значение ускорения будет со 2-го запуска ячейки, когда функцию уже не требуется компилировать\n",
    "\n",
    "@nb.jit(nopython=True)\n",
    "def SolveLaplace2D_JacobiJITted(p, pn, l2Tolerance):  # для получения вразумительного ускорения\n",
    "                                                      # пришлось изменить список аргументов \n",
    "                                                      # и тело функции. \n",
    "                                                      # cм. подробности в руководстве к Numba \n",
    "    l2Norm = 1.\n",
    "    numBlocksX, numBlocksY = p.shape\n",
    "    iterations = 0\n",
    "    \n",
    "    #start = time.clock()\n",
    "    while l2Norm > l2Tolerance:\n",
    "        for i in range(1, numBlocksX - 1):\n",
    "            for j in range(1, numBlocksY - 1):\n",
    "                pn[i, j] = p[i, j]\n",
    "        \n",
    "        for i in range(1, numBlocksX - 1):\n",
    "            for j in range(1, numBlocksY - 1):\n",
    "                p[i, j] = 0.25 * (pn[i, j + 1] + pn[i, j - 1] +\\\n",
    "                                      pn[i + 1, j] + pn[i - 1, j])\n",
    "        \n",
    "        numerator, denumenator = 0., 0.\n",
    "        for i in range(numBlocksX):\n",
    "            for j in range(numBlocksY): \n",
    "                numerator += (p[i, j] - pn[i, j])**2\n",
    "                denumenator += pn[i, j]**2\n",
    "            \n",
    "        l2Norm = np.sqrt(numerator/denumenator)\n",
    "        iterations += 1\n",
    "    \n",
    "    #runtime = time.clock() - start\n",
    "    #print '%d iterations completed; calculations took ... %.2f s' % (iterations, runtime)\n",
    "    return p, iterations"
   ]
  },
  {
   "cell_type": "code",
   "execution_count": null,
   "metadata": {
    "collapsed": true
   },
   "outputs": [],
   "source": [
    "tolerance = 1e-3\n",
    "\n",
    "start = timeit.default_timer()\n",
    "pJITted, iterationsJITted = SolveLaplace2D_JacobiJITted(p0.copy(), p0.copy(), tolerance)\n",
    "runtimeJITted = timeit.default_timer() - start\n",
    "print ('%d iterations completed in JITted Jacobi solver; calculations took ... %.2f s' % (iterationsJITted, runtimeJITted))\n",
    "\n",
    "pVectorized, runtimeVectorized = SolveLaplace2D_JacobiVectorized(p0.copy(), numBlocksX, numBlocksY, tolerance)\n",
    "pScalar, runtimeScalar = SolveLaplace2D_JacobiScalar(p0.copy(), numBlocksX, numBlocksY, tolerance)\n",
    "\n",
    "\n",
    "print ('Speedup: JITted = %.0f; vectorized = %.0f;' % ((runtimeScalar/runtimeJITted),\\\n",
    "                                                      (runtimeScalar/runtimeVectorized)))"
   ]
  },
  {
   "cell_type": "code",
   "execution_count": null,
   "metadata": {
    "collapsed": true
   },
   "outputs": [],
   "source": [
    "# проверяем корректность численного решения\n",
    "plt.figure(figsize = figsizeConst)\n",
    "plt.title('Pressure field')\n",
    "im = plt.imshow(pJITted, cmap = 'viridis', origin='lower')\n",
    "cs = plt.contour(pJITted)\n",
    "plt.colorbar(im)\n",
    "plt.show()"
   ]
  },
  {
   "cell_type": "markdown",
   "metadata": {},
   "source": [
    "### Поддержка классов: \"Work in progress\" (с) Сontinuum Analytics"
   ]
  },
  {
   "cell_type": "code",
   "execution_count": null,
   "metadata": {
    "collapsed": true
   },
   "outputs": [],
   "source": [
    "real = nb.float32 # псевдоним для типа данных Numba\n",
    "\n",
    "spec = [\n",
    "    ('_x', real),      # a simple scalar field\n",
    "    ('_y', real), \n",
    "    ('_length', real), # an array field\n",
    "]\n",
    "\n",
    "\n",
    "@nb.jitclass(spec)\n",
    "class Vector(object):\n",
    "    def __init__(self, x, y):\n",
    "        self._x = x\n",
    "        self._y = y\n",
    "\n",
    "    def CalculateLength(self):\n",
    "        self._length = np.sqrt(self._x**2 + self._y**2)\n",
    "        return self._length"
   ]
  },
  {
   "cell_type": "code",
   "execution_count": null,
   "metadata": {
    "collapsed": true
   },
   "outputs": [],
   "source": [
    "vectos = Vector(5., 10.)\n",
    "vectos.CalculateLength()"
   ]
  },
  {
   "cell_type": "markdown",
   "metadata": {
    "collapsed": true
   },
   "source": [
    "### Принципы ускорения программ на Python\n",
    "* выделить самые ресурсоемкие участки кода (циклы по точкам расчетной сетки)\n",
    "* обернуть эти участки в функции\n",
    "* внутри функций ликвидировать операции со сложными структурами данных\n",
    "* задействовать JIT-компиляцию: добавить к функциям спецификатор @numba.jit(nopython=True)\n",
    "\n",
    "$$\n",
    "    \\dots \\dots \\dots \\dots\n",
    "$$"
   ]
  },
  {
   "cell_type": "markdown",
   "metadata": {},
   "source": [
    "Также: с помощью Numba можно программировать под __GPU [http://numba.pydata.org/numbadoc/dev/cuda/examples.html]:__"
   ]
  },
  {
   "cell_type": "code",
   "execution_count": null,
   "metadata": {
    "collapsed": true
   },
   "outputs": [],
   "source": [
    "# чтобы код в этой ячейка стал рабочим требуется корректная установка библиотек для работы с Nvidia GPU\n",
    "from numba import cuda, float32\n",
    "\n",
    "# Controls threads per block and shared memory usage.\n",
    "# The computation will be done on blocks of TPBxTPB elements.\n",
    "TPB = 16\n",
    "\n",
    "@cuda.jit\n",
    "def fast_matmul(A, B, C):\n",
    "    # Define an array in the shared memory\n",
    "    # The size and type of the arrays must be known at compile time\n",
    "    sA = cuda.shared.array(shape=(TPB, TPB), dtype=float32)\n",
    "    sB = cuda.shared.array(shape=(TPB, TPB), dtype=float32)\n",
    "\n",
    "    x, y = cuda.grid(2)\n",
    "\n",
    "    tx = cuda.threadIdx.x\n",
    "    ty = cuda.threadIdx.y\n",
    "    bpg = cuda.gridDim.x    # blocks per grid\n",
    "\n",
    "    if x >= C.shape[0] and y >= C.shape[1]:\n",
    "        # Quit if (x, y) is outside of valid C boundary\n",
    "        return\n",
    "\n",
    "    # Each thread computes one element in the result matrix.\n",
    "    # The dot product is chunked into dot products of TPB-long vectors.\n",
    "    tmp = 0.\n",
    "    for i in range(bpg):\n",
    "        # Preload data into shared memory\n",
    "        sA[tx, ty] = A[x, ty + i * TPB]\n",
    "        sB[tx, ty] = B[tx + i * TPB, y]\n",
    "\n",
    "        # Wait until all threads finish preloading\n",
    "        cuda.syncthreads()\n",
    "\n",
    "        # Computes partial product on the shared memory\n",
    "        for j in range(TPB):\n",
    "            tmp += sA[tx, j] * sB[j, ty]\n",
    "\n",
    "        # Wait until all threads finish computing\n",
    "        cuda.syncthreads()\n",
    "\n",
    "    C[x, y] = tmp"
   ]
  },
  {
   "cell_type": "markdown",
   "metadata": {
    "collapsed": true
   },
   "source": [
    "## Вопросы?"
   ]
  },
  {
   "cell_type": "markdown",
   "metadata": {},
   "source": [
    "### При подготовке материалов курса использовалась следующая литература:\n",
    "1. __H.P. Langtangen.__ A primer on scientific programming with Python.\n",
    "2. __Шамин Р.В.__ Современные численные методы в объектно-ориентированном изложении на C#."
   ]
  },
  {
   "cell_type": "markdown",
   "metadata": {},
   "source": [
    "## Спасибо за внимание в течение семестра."
   ]
  }
 ],
 "metadata": {
  "anaconda-cloud": {},
  "kernelspec": {
   "display_name": "Python 3",
   "language": "python",
   "name": "python3"
  },
  "language_info": {
   "codemirror_mode": {
    "name": "ipython",
    "version": 3
   },
   "file_extension": ".py",
   "mimetype": "text/x-python",
   "name": "python",
   "nbconvert_exporter": "python",
   "pygments_lexer": "ipython3",
   "version": "3.6.3"
  }
 },
 "nbformat": 4,
 "nbformat_minor": 1
}
