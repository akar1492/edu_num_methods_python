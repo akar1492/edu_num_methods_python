{
 "cells": [
  {
   "cell_type": "markdown",
   "metadata": {
    "nbpresent": {
     "id": "22452b86-4e4c-43d7-a446-3b998ec7f7c6"
    }
   },
   "source": [
    "__Автор__: Карпаев Алексей, ассистент кафедры информатики и вычислительной математики"
   ]
  },
  {
   "cell_type": "markdown",
   "metadata": {},
   "source": [
    "# Числовые функции, векторы и комплексные числа: программная реализация, ОО подход."
   ]
  },
  {
   "cell_type": "code",
   "execution_count": 1,
   "metadata": {
    "collapsed": true
   },
   "outputs": [],
   "source": [
    "import numpy as np"
   ]
  },
  {
   "cell_type": "markdown",
   "metadata": {
    "nbpresent": {
     "id": "ebb9c3ab-f619-4332-ac7f-94bf73808543"
    }
   },
   "source": [
    "## Класс для представления полиномов\n",
    "Рассмотрим реализацию класса для представления функций специального вида - алгебраических полиномов:\n",
    "\n",
    "$$\n",
    "P_{n}(x) = \\sum_{i=0}^{n} c_i x^i\n",
    "$$\n",
    "\n",
    "Коэффициенты полинома $n$-степени можно хранить в списке. Порядок коэффициентов в списке для полинома выше имеет вид: $[c_0, c_1,...,c_n]$.\n",
    "\n",
    "__Поля класса__:\n",
    "* список коэффициентов\n",
    "* ... (по Вашему усмотрению)\n",
    "\n",
    "__Методы класса__:\n",
    "* \"сеттер\" для коэффициентов\n",
    "* вычислить значение в точке x\n",
    "* сложить полиномы\n",
    "* перемножить полиномы\n",
    "* вычислить полином-производную от данного полинома\n",
    "* ... (по Вашему усмотрению)\n",
    "\n",
    "\n",
    "Как бы мы хотели обращаться с объектами класса Polynomial:"
   ]
  },
  {
   "cell_type": "code",
   "execution_count": 2,
   "metadata": {
    "nbpresent": {
     "id": "56c59f38-a686-4b6c-9aef-c2986473d326"
    }
   },
   "outputs": [
    {
     "ename": "NameError",
     "evalue": "name 'Polynomial' is not defined",
     "output_type": "error",
     "traceback": [
      "\u001b[0;31m---------------------------------------------------------------------------\u001b[0m",
      "\u001b[0;31mNameError\u001b[0m                                 Traceback (most recent call last)",
      "\u001b[0;32m<ipython-input-2-eb8af8338263>\u001b[0m in \u001b[0;36m<module>\u001b[0;34m()\u001b[0m\n\u001b[1;32m      1\u001b[0m \u001b[0;31m# нерабочий код\u001b[0m\u001b[0;34m\u001b[0m\u001b[0;34m\u001b[0m\u001b[0m\n\u001b[0;32m----> 2\u001b[0;31m \u001b[0mpolynomialA\u001b[0m \u001b[0;34m=\u001b[0m \u001b[0mPolynomial\u001b[0m\u001b[0;34m(\u001b[0m\u001b[0;34m)\u001b[0m\u001b[0;34m\u001b[0m\u001b[0m\n\u001b[0m\u001b[1;32m      3\u001b[0m \u001b[0mpolynomialA\u001b[0m\u001b[0;34m.\u001b[0m\u001b[0mSetCoefficients\u001b[0m\u001b[0;34m(\u001b[0m\u001b[0;34m[\u001b[0m\u001b[0;36m1.5\u001b[0m\u001b[0;34m,\u001b[0m \u001b[0;34m-\u001b[0m\u001b[0;36m4\u001b[0m\u001b[0;34m]\u001b[0m\u001b[0;34m)\u001b[0m\u001b[0;34m\u001b[0m\u001b[0m\n\u001b[1;32m      4\u001b[0m \u001b[0;34m\u001b[0m\u001b[0m\n\u001b[1;32m      5\u001b[0m \u001b[0mpolynomialB\u001b[0m \u001b[0;34m=\u001b[0m \u001b[0mPolynomial\u001b[0m\u001b[0;34m(\u001b[0m\u001b[0;34m)\u001b[0m\u001b[0;34m\u001b[0m\u001b[0m\n",
      "\u001b[0;31mNameError\u001b[0m: name 'Polynomial' is not defined"
     ]
    }
   ],
   "source": [
    "# нерабочий код\n",
    "polynomialA = Polynomial()\n",
    "polynomialA.SetCoefficients([1.5, -4])\n",
    "\n",
    "polynomialB = Polynomial()\n",
    "polynomialB.SetCoefficients([0, 1.2, 0, 0, -6.7, -1.5])\n",
    "polynomialC = polynomialA.Add(polynomialB)\n",
    "polynomialC.PrintCoefficients()\n",
    "\n",
    "polynomialD = polynomialB.CalculateDerivative()\n",
    "polynomialD.PrintCoefficients()"
   ]
  },
  {
   "cell_type": "markdown",
   "metadata": {
    "nbpresent": {
     "id": "89ed40c5-8fd5-4396-9b02-408e34f20d31"
    }
   },
   "source": [
    "### Реализация класса Polynomial: __основные методы__"
   ]
  },
  {
   "cell_type": "code",
   "execution_count": 3,
   "metadata": {
    "collapsed": true,
    "nbpresent": {
     "id": "16bfda49-52b8-4118-89e6-2ab2bcda1d62"
    }
   },
   "outputs": [],
   "source": [
    "class Polynomial:\n",
    "    \n",
    "    def __init__(self):\n",
    "        print('A blanc object of class ' + self.__class__.__name__ + ' is created.')\n",
    "    \n",
    "    def SetCoefficients(self, listOfCoefficients):\n",
    "        self._listOfCoefficients = np.array(listOfCoefficients)\n",
    "    \n",
    "    # вместо функции Evaluate(self, x): вычисление значения через оператор \"()\"\n",
    "    def __call__(self, x):\n",
    "        value = 0.\n",
    "        for i in range(len(self._listOfCoefficients)):\n",
    "            value += self._listOfCoefficients[i]*(x**i)\n",
    "         \n",
    "        return value"
   ]
  },
  {
   "cell_type": "markdown",
   "metadata": {
    "nbpresent": {
     "id": "2dc852f3-d4b6-4ae4-8a6a-3695e84f082f"
    }
   },
   "source": [
    "### Класс Polynomial: добавление операции сложения"
   ]
  },
  {
   "cell_type": "code",
   "execution_count": 4,
   "metadata": {
    "collapsed": true,
    "nbpresent": {
     "id": "db2fb1b4-f0f7-46d1-b81a-abc31126c133"
    }
   },
   "outputs": [],
   "source": [
    "# нерабочий код: реализация только метода сложения полиномов\n",
    "class Polynomial:\n",
    "    \n",
    "    # здесь находятся методы из предыдущего пункта \n",
    "    # ............................................\n",
    "    \n",
    "    def PerformAddition(self, other):\n",
    "        \n",
    "        # если степени полиномов различны\n",
    "        if len(self._listOfCoefficients) > len(other._listOfCoefficients):\n",
    "            \n",
    "            # векторизованная операция: копируем список коэффициентов\n",
    "            sumOfCoefficients = self._listOfCoefficients.copy()\n",
    "            \n",
    "            for i in range(len(other._listOfCoefficients)):\n",
    "                # прибавляем коэффициенты полинома меньшей степени\n",
    "                sumOfCoefficients[i] += other._listOfCoefficients[i]\n",
    "        \n",
    "        else:\n",
    "            # аналогично\n",
    "            sumOfCoefficients = other._listOfCoefficients.copy()\n",
    "            \n",
    "            for i in range(len(self._listOfCoefficients)):\n",
    "                sumOfCoefficients[i] += self._listOfCoefficients[i]\n",
    "        \n",
    "        sumOfPolynomials = Polynomial()\n",
    "        sumOfPolynomials.SetCoefficients(sumOfCoefficients)\n",
    "        return sumOfPolynomials"
   ]
  },
  {
   "cell_type": "markdown",
   "metadata": {},
   "source": [
    "### Класс Polynomial: добавление операции умножения\n",
    "Формула произведения полиномов:\n",
    "$$\n",
    "\\left(\\sum_{i=0}^m c_ix^i \\right) \\left(\\sum_{j=0}^n d_jx^j\\right)\n",
    "= \\sum_{i=0}^m \\sum_{j=0}^n c_id_j x^{i+j}\n",
    "$$"
   ]
  },
  {
   "cell_type": "code",
   "execution_count": 5,
   "metadata": {
    "collapsed": true
   },
   "outputs": [],
   "source": [
    "# нерабочий код: реализация только метода перемножения полиномов\n",
    "class Polynomial:\n",
    "    \n",
    "    # здесь находятся методы из предыдущего пункта \n",
    "    # ............................................\n",
    "    \n",
    "    def PerformMultiplication(self, other):\n",
    "        orderSelf = len(self._listOfCoefficients) - 1\n",
    "        orderOther = len(other._listOfCoefficients) - 1\n",
    "        \n",
    "        # вычисляем элементы нового массива коэффициентов\n",
    "        newListOfCoefficients = np.zeros(orderSelf + orderOther + 1)\n",
    "        for i in range(orderSelf + 1):\n",
    "            for j in range(orderOther + 1):\n",
    "                newListOfCoefficients[i + j] += self._listOfCoefficients[i]*\\\n",
    "                                                other.listOfCoefficients[j]\n",
    "        \n",
    "        multOfPolynomials = Polynomial()\n",
    "        multOfPolynomials.SetCoefficients(newListOfCoefficients)\n",
    "        return multOfPolynomials # новый полином в качестве возвращаемого значения"
   ]
  },
  {
   "cell_type": "markdown",
   "metadata": {
    "nbpresent": {
     "id": "0c8f141b-7184-4963-8368-d7088ff574b0"
    }
   },
   "source": [
    "### Класс Polynomial: добавление операции дифференцирования\n",
    "В прошлых лекциях был создан класс для представления производной от функции $f$, в котором реализовано приближенное вычисление значения через конечно-разностную формулу. Можно было бы этим воспользоваться, однако в учебных целях создадим метод класса Polynomial, выполняющий аналитическое дифференцирование:\n",
    "\n",
    "$$\n",
    "{d\\over dx}\\sum_{i=0}^n c_i \\cdot x^i = \\sum_{i=1}^n ic_i \\cdot x^{i-1}\n",
    "$$\n"
   ]
  },
  {
   "cell_type": "code",
   "execution_count": 6,
   "metadata": {
    "collapsed": true,
    "nbpresent": {
     "id": "27b1e16e-f11d-44e8-a611-543fa51d7d25"
    }
   },
   "outputs": [],
   "source": [
    "# нерабочий код: реализация только метода дифференцирования\n",
    "class Polynomial:\n",
    "    \n",
    "    # здесь находятся методы из предыдущего пункта \n",
    "    # ............................................\n",
    "    \n",
    "    # вспомогательная функция: изменяет список коэффициентов self\n",
    "    def PreCalculateDerivative(self):\n",
    "        for i in range(1, len(self._listOfCoefficients)):\n",
    "            self._listOfCoefficients[i-1] = i*self._listOfCoefficients[i]\n",
    "        self._listOfCoefficients[-1] = 0. # степень полинома-производной меньше степени изначального полинома\n",
    "\n",
    "    # основная функция\n",
    "    def Derivative(self): \n",
    "        selfCopy = Polynomial()\n",
    "        selfCopy.SetCoefficients(self._listOfCoefficients.copy()) # создаем копию списка коэффициентов чтобы не менять изначальный полином\n",
    "        selfCopy.PreCalculateDerivative()\n",
    "        return selfCopy # возвращаем полином-производную, с измененным списком коэффициентов"
   ]
  },
  {
   "cell_type": "markdown",
   "metadata": {},
   "source": [
    "### Класс Polynomal: все методы вместе\n"
   ]
  },
  {
   "cell_type": "code",
   "execution_count": 7,
   "metadata": {
    "collapsed": true
   },
   "outputs": [],
   "source": [
    "class Polynomial:\n",
    "    \n",
    "    def __init__(self):\n",
    "        print('A blanc object of class ' + self.__class__.__name__ + ' is created.')\n",
    "    \n",
    "    \n",
    "    def SetCoefficients(self, listOfCoefficients):\n",
    "        self._listOfCoefficients = np.array(listOfCoefficients)\n",
    "    \n",
    "    \n",
    "    # вычисление значения полинома в точке x через оператор \"()\"\n",
    "    def __call__(self, x):\n",
    "        value = 0.\n",
    "        for i in range(len(self._listOfCoefficients)):\n",
    "            value += self._listOfCoefficients[i]*(x**i)\n",
    "         \n",
    "        return value\n",
    "    \n",
    "    \n",
    "    def PerformAddition(self, other):\n",
    "        # если степени полиномов различны\n",
    "        if len(self._listOfCoefficients) > len(other._listOfCoefficients):\n",
    "            \n",
    "            # векторизованная операция: копируем список коэффициентов\n",
    "            sumOfCoefficients = self._listOfCoefficients.copy()\n",
    "            \n",
    "            for i in range(len(other._listOfCoefficients)):\n",
    "                # прибавляем коэффициенты полинома меньшей степени\n",
    "                sumOfCoefficients[i] += other._listOfCoefficients[i]\n",
    "        \n",
    "        else:\n",
    "            # аналогично\n",
    "            sumOfCoefficients = other._listOfCoefficients.copy()\n",
    "            \n",
    "            for i in range(len(self._listOfCoefficients)):\n",
    "                sumOfCoefficients[i] += self._listOfCoefficients[i]\n",
    "        \n",
    "        sumOfPolynomials = Polynomial()\n",
    "        sumOfPolynomials.SetCoefficients(sumOfCoefficients)\n",
    "        return sumOfPolynomials\n",
    "    \n",
    "    \n",
    "    def PerformMultiplication(self, other):\n",
    "        orderSelf = len(self._listOfCoefficients) - 1\n",
    "        orderOther = len(other._listOfCoefficients) - 1\n",
    "        \n",
    "        # вычисляем элементы нового массива коэффициентов\n",
    "        newListOfCoefficients = np.zeros(orderSelf + orderOther + 1)\n",
    "        for i in range(orderSelf + 1):\n",
    "            for j in range(orderOther + 1):\n",
    "                newListOfCoefficients[i + j] += self._listOfCoefficients[i]*\\\n",
    "                                                other._listOfCoefficients[j]\n",
    "        \n",
    "        multOfPolynomials = Polynomial()\n",
    "        multOfPolynomials.SetCoefficients(newListOfCoefficients)\n",
    "        return multOfPolynomials # новый полином в качестве возвращаемого значения\n",
    "    \n",
    "    \n",
    "    # вспомогательная функция: изменяет список коэффициентов self\n",
    "    def PreCalculateDerivative(self):\n",
    "        for i in range(1, len(self._listOfCoefficients)):\n",
    "            self._listOfCoefficients[i-1] = i*self._listOfCoefficients[i]\n",
    "        self._listOfCoefficients[-1] = 0. # степень полинома-производной меньше степени изначального полинома\n",
    "\n",
    "        \n",
    "    # основная функция\n",
    "    def Derivative(self):\n",
    "        selfCopy = Polynomial()\n",
    "        selfCopy.SetCoefficients(self._listOfCoefficients.copy())\n",
    "        selfCopy.PreCalculateDerivative()\n",
    "        return selfCopy # возвращаем полином-производную, с измененным списком коэффициентов"
   ]
  },
  {
   "cell_type": "markdown",
   "metadata": {
    "nbpresent": {
     "id": "9f0656ec-4412-4c60-b00a-9b7f870a0986"
    }
   },
   "source": [
    "### Класс Polynomial: использование\n",
    "\n",
    "Протестируем работу класса на полиномах\n",
    "$$\n",
    "p_1(x) = 2 - 4 x + 8 x^2 + 16 x^3,\\quad p_2(x)= 32 x - 64 x^4 - 128 x^5\n",
    "$$\n"
   ]
  },
  {
   "cell_type": "code",
   "execution_count": 8,
   "metadata": {
    "nbpresent": {
     "id": "8e089f84-186b-4a70-ba45-a3cfd6e04481"
    }
   },
   "outputs": [
    {
     "name": "stdout",
     "output_type": "stream",
     "text": [
      "A blanc object of class Polynomial is created.\n",
      "A blanc object of class Polynomial is created.\n",
      "Evaluation at point x0: \n",
      " 2733.104 \t -641977.98912\n",
      "A blanc object of class Polynomial is created.\n",
      "A blanc object of class Polynomial is created.\n",
      "A blanc object of class Polynomial is created.\n",
      "Derivative at point x0 = -2540790613.64\n"
     ]
    }
   ],
   "source": [
    "polynomial1 = Polynomial()\n",
    "polynomial1.SetCoefficients([2., -4., 8., 16.])\n",
    "\n",
    "polynomial2 = Polynomial()\n",
    "polynomial2.SetCoefficients([0., 32., 0., 0., -64, -128.])\n",
    "\n",
    "x0 = 5.4 # случайная точка\n",
    "\n",
    "# выводим значения на экран\n",
    "print ('Evaluation at point x0:', '\\n', \\\n",
    "polynomial1(x0), '\\t', polynomial2(x0))\n",
    "\n",
    "polynomial3 = polynomial1.PerformAddition(polynomial2)\n",
    "polynomial4 = polynomial1.PerformMultiplication(polynomial3)\n",
    "\n",
    "polynomial5 = polynomial4.Derivative()\n",
    "\n",
    "print ('Derivative at point x0 = %.2f' % polynomial5(x0))"
   ]
  },
  {
   "cell_type": "markdown",
   "metadata": {},
   "source": [
    "### С полиномами закончили."
   ]
  },
  {
   "cell_type": "markdown",
   "metadata": {
    "nbpresent": {
     "id": "bdc720bb-4985-45ff-9497-1f78b7781757"
    }
   },
   "source": [
    "## Реализация 2D-вектора в виде класса\n",
    "\n",
    "### Что должно находиться внутри класса?\n",
    "__Поля класса__:\n",
    "* координата x\n",
    "* координата y\n",
    "* ... (по Вашему усмотрению)\n",
    "\n",
    "__Методы класса__:\n",
    "* \"сеттеры\" для x и y\n",
    "* сложить 2 вектора\n",
    "* вычесть один вектор из другого\n",
    "* произвести скалярное произведение векторов\n",
    "* вычислить длину вектора\n",
    "* сравнить 2 вектора\n",
    "* вывести строчное представление вектора на экран\n",
    "* ...(по Вашему усмотрению)\n",
    "\n",
    "### __Реализация: Пример 1__:"
   ]
  },
  {
   "cell_type": "code",
   "execution_count": 9,
   "metadata": {
    "collapsed": true,
    "nbpresent": {
     "id": "01701780-2311-43bc-8bf7-8bdc3aff2ac7"
    }
   },
   "outputs": [],
   "source": [
    "class MuggleVector2D:\n",
    "    def __init__(self):\n",
    "        print('A blanc object of class ' + self.__class__.__name__ + ' is created.')\n",
    "    \n",
    "    def SetX(self, x):\n",
    "        self._x = x\n",
    "    \n",
    "    def SetY(self, y):\n",
    "        self._y = y\n",
    "        \n",
    "    def PerformAddition(self, other): # other --- также объект класса Vector2D\n",
    "        vectorSum = MuggleVector2D()\n",
    "        vectorSum.SetX(self._x + other._x)\n",
    "        vectorSum.SetY(self._y + other._y)\n",
    "        return vectorSum\n",
    "\n",
    "    def PerformSubstraction(self, other):\n",
    "        vectorSub = MuggleVector2D()\n",
    "        vectorSub.SetX(self._x - other._x)\n",
    "        vectorSub.SetY(self._y - other._y)\n",
    "        return vectorSub\n",
    "\n",
    "    def CalculateDotProduct(self, other):\n",
    "        return self._x*other._x + self._y*other._y\n",
    "\n",
    "    def CalculateLength(self):\n",
    "        return np.sqrt(self.CalculateDotProduct(self))\n",
    "\n",
    "    def CheckEquality(self, other):\n",
    "        return self._x == other._x and self._y == other._y\n",
    "\n",
    "    # магический метод для перегрузки функции print()\n",
    "    def __str__(self):\n",
    "        return 'Vector (%.2f, %.2f);' % (self._x, self._y)"
   ]
  },
  {
   "cell_type": "markdown",
   "metadata": {
    "nbpresent": {
     "id": "78d2f674-7c47-409a-981a-553914611c28"
    }
   },
   "source": [
    "Пример использования:"
   ]
  },
  {
   "cell_type": "code",
   "execution_count": 10,
   "metadata": {
    "nbpresent": {
     "id": "58429688-2321-4a4b-b276-02f494eb7611"
    }
   },
   "outputs": [
    {
     "name": "stdout",
     "output_type": "stream",
     "text": [
      "A blanc object of class MuggleVector2D is created.\n",
      "A blanc object of class MuggleVector2D is created.\n",
      "A blanc object of class MuggleVector2D is created.\n",
      "A blanc object of class MuggleVector2D is created.\n",
      "Vector (12.90, 36.90);\n",
      "Vector (-7.90, -49.70);\n"
     ]
    }
   ],
   "source": [
    "vector1 = MuggleVector2D()\n",
    "vector1.SetX(2.5)\n",
    "vector1.SetY(-6.4)\n",
    "\n",
    "vector2 = MuggleVector2D()\n",
    "vector2.SetX(10.4)\n",
    "vector2.SetY(43.3)\n",
    "\n",
    "vector3 = vector1.PerformAddition(vector2)\n",
    "vector4 = vector1.PerformSubstraction(vector2)\n",
    " \n",
    "print(vector3) # проверка работы \"магического\" метода  __str__()\n",
    "print(vector4) # проверка работы \"магического\" метода  __str__()"
   ]
  },
  {
   "cell_type": "markdown",
   "metadata": {
    "nbpresent": {
     "id": "829e7ade-dc30-4a77-a917-cb8f32787d64"
    }
   },
   "source": [
    "Все бы неплохо, но подобное использоваие выглядит не сильно эстетичным. Привычней, если мы сможем обращаться с векторами на стандартный манер, используя арифметические операторы:"
   ]
  },
  {
   "cell_type": "code",
   "execution_count": 11,
   "metadata": {},
   "outputs": [
    {
     "name": "stdout",
     "output_type": "stream",
     "text": [
      "A blanc object of class MuggleVector2D is created.\n",
      "A blanc object of class MuggleVector2D is created.\n"
     ]
    },
    {
     "ename": "TypeError",
     "evalue": "unsupported operand type(s) for +: 'MuggleVector2D' and 'MuggleVector2D'",
     "output_type": "error",
     "traceback": [
      "\u001b[0;31m---------------------------------------------------------------------------\u001b[0m",
      "\u001b[0;31mTypeError\u001b[0m                                 Traceback (most recent call last)",
      "\u001b[0;32m<ipython-input-11-d28b77cc1a0b>\u001b[0m in \u001b[0;36m<module>\u001b[0;34m()\u001b[0m\n\u001b[1;32m      8\u001b[0m \u001b[0mvector2\u001b[0m\u001b[0;34m.\u001b[0m\u001b[0mSetY\u001b[0m\u001b[0;34m(\u001b[0m\u001b[0;36m43.3\u001b[0m\u001b[0;34m)\u001b[0m\u001b[0;34m\u001b[0m\u001b[0m\n\u001b[1;32m      9\u001b[0m \u001b[0;34m\u001b[0m\u001b[0m\n\u001b[0;32m---> 10\u001b[0;31m \u001b[0mvector3\u001b[0m \u001b[0;34m=\u001b[0m \u001b[0mvector1\u001b[0m \u001b[0;34m+\u001b[0m \u001b[0mvector2\u001b[0m\u001b[0;34m\u001b[0m\u001b[0m\n\u001b[0m\u001b[1;32m     11\u001b[0m \u001b[0;34m\u001b[0m\u001b[0m\n\u001b[1;32m     12\u001b[0m \u001b[0mprint\u001b[0m\u001b[0;34m(\u001b[0m\u001b[0mvector3\u001b[0m\u001b[0;34m)\u001b[0m\u001b[0;34m\u001b[0m\u001b[0m\n",
      "\u001b[0;31mTypeError\u001b[0m: unsupported operand type(s) for +: 'MuggleVector2D' and 'MuggleVector2D'"
     ]
    }
   ],
   "source": [
    "# нерабочий код\n",
    "vector1 = MuggleVector2D()\n",
    "vector1.SetX(2.5)\n",
    "vector1.SetY(-6.4)\n",
    "\n",
    "vector2 = MuggleVector2D()\n",
    "vector2.SetX(10.4)\n",
    "vector2.SetY(43.3)\n",
    "\n",
    "vector3 = vector1 + vector2\n",
    "\n",
    "print(vector3)"
   ]
  },
  {
   "cell_type": "markdown",
   "metadata": {},
   "source": [
    "Для простоты операторы можно рассматривать как функции, например:"
   ]
  },
  {
   "cell_type": "code",
   "execution_count": 12,
   "metadata": {},
   "outputs": [
    {
     "ename": "SyntaxError",
     "evalue": "invalid syntax (<ipython-input-12-2a9b06dfdd78>, line 2)",
     "output_type": "error",
     "traceback": [
      "\u001b[0;36m  File \u001b[0;32m\"<ipython-input-12-2a9b06dfdd78>\"\u001b[0;36m, line \u001b[0;32m2\u001b[0m\n\u001b[0;31m    def \"+\"(number1, number2):\u001b[0m\n\u001b[0m          ^\u001b[0m\n\u001b[0;31mSyntaxError\u001b[0m\u001b[0;31m:\u001b[0m invalid syntax\n"
     ]
    }
   ],
   "source": [
    "# нерабочий код\n",
    "def \"+\"(number1, number2):\n",
    "    return number1 + number2\n",
    "\n",
    "def \"-\"(number1, number2):\n",
    "    return number1 - number2\n",
    "    \n",
    "def \"*\"(number1, number2):\n",
    "    return number1*number2\n",
    "\n",
    "def \"/\"(number1, number2):\n",
    "    if type(number1) == float or type(number2) == float:\n",
    "        return float(number1)/float(number2)\n",
    "    else:\n",
    "        return number1/number2 # целочисленное деление"
   ]
  },
  {
   "cell_type": "markdown",
   "metadata": {},
   "source": [
    "__Проблема__: действия стандартных арифметических операторов \"+\", \"-\", \"*\", \"/\" средствами языка реализованы только для ограниченного числа типов переменных: целые, вещественные и комплексные числа, массивы NumPy, списки, итд. Поэтому попытка использования операторов с объектами вручную созданных классов приведет к ошибке:"
   ]
  },
  {
   "cell_type": "code",
   "execution_count": 13,
   "metadata": {},
   "outputs": [
    {
     "name": "stdout",
     "output_type": "stream",
     "text": [
      "A blanc object of class MuggleVector2D is created.\n",
      "A blanc object of class MuggleVector2D is created.\n"
     ]
    },
    {
     "ename": "TypeError",
     "evalue": "unsupported operand type(s) for +: 'MuggleVector2D' and 'MuggleVector2D'",
     "output_type": "error",
     "traceback": [
      "\u001b[0;31m---------------------------------------------------------------------------\u001b[0m",
      "\u001b[0;31mTypeError\u001b[0m                                 Traceback (most recent call last)",
      "\u001b[0;32m<ipython-input-13-8f43df9487da>\u001b[0m in \u001b[0;36m<module>\u001b[0;34m()\u001b[0m\n\u001b[1;32m      8\u001b[0m \u001b[0;34m\u001b[0m\u001b[0m\n\u001b[1;32m      9\u001b[0m \u001b[0;31m# исполнение кода приведет к ошибкам\u001b[0m\u001b[0;34m\u001b[0m\u001b[0;34m\u001b[0m\u001b[0m\n\u001b[0;32m---> 10\u001b[0;31m \u001b[0mvector3\u001b[0m \u001b[0;34m=\u001b[0m  \u001b[0mvector1\u001b[0m \u001b[0;34m+\u001b[0m \u001b[0mvector2\u001b[0m\u001b[0;34m\u001b[0m\u001b[0m\n\u001b[0m\u001b[1;32m     11\u001b[0m \u001b[0mdotProduct1\u001b[0m \u001b[0;34m=\u001b[0m \u001b[0mvector1\u001b[0m\u001b[0;34m*\u001b[0m\u001b[0mvector2\u001b[0m\u001b[0;34m\u001b[0m\u001b[0m\n",
      "\u001b[0;31mTypeError\u001b[0m: unsupported operand type(s) for +: 'MuggleVector2D' and 'MuggleVector2D'"
     ]
    }
   ],
   "source": [
    "vector1 = MuggleVector2D()\n",
    "vector1.SetX(2.5)\n",
    "vector1.SetY(-6.4)\n",
    "\n",
    "vector2 = MuggleVector2D()\n",
    "vector2.SetX(10.4)\n",
    "vector2.SetY(43.3)\n",
    "\n",
    "# исполнение кода приведет к ошибкам\n",
    "vector3 =  vector1 + vector2\n",
    "dotProduct1 = vector1*vector2"
   ]
  },
  {
   "cell_type": "markdown",
   "metadata": {},
   "source": [
    "Для определения действий арифметических (и прочих) операторов для объектов собственноручно написанных классов применяются т.н. __магические методы__."
   ]
  },
  {
   "cell_type": "markdown",
   "metadata": {
    "nbpresent": {
     "id": "6fe7b895-bd25-4635-95d9-edc34e4f896a"
    }
   },
   "source": [
    "## Магические методы\n",
    "Служат для переопределения действий стандартных операторов \"+\", \"-\", \"*\", \"/\", \"()\", \"[]\" итд при применении их к объектам класса, в которых определены соответсвующие магические методы. Каким образом определять работу данных методов? Как угодно, в зависимости от смысла операции для объектов конкретного класса (\"object1 + object2\"): это может быть класс 2D-вектор, комплексное число, кватернион, полином, ..."
   ]
  },
  {
   "cell_type": "code",
   "execution_count": 14,
   "metadata": {
    "nbpresent": {
     "id": "206d0738-b198-4da4-a832-3ea736b14642"
    }
   },
   "outputs": [
    {
     "ename": "NameError",
     "evalue": "name 'a' is not defined",
     "output_type": "error",
     "traceback": [
      "\u001b[0;31m---------------------------------------------------------------------------\u001b[0m",
      "\u001b[0;31mNameError\u001b[0m                                 Traceback (most recent call last)",
      "\u001b[0;32m<ipython-input-14-3036f2531b70>\u001b[0m in \u001b[0;36m<module>\u001b[0;34m()\u001b[0m\n\u001b[1;32m      5\u001b[0m \u001b[0;31m# слева - стандартное действие операторов определено с помощью магических методов\u001b[0m\u001b[0;34m\u001b[0m\u001b[0;34m\u001b[0m\u001b[0m\n\u001b[1;32m      6\u001b[0m \u001b[0;31m# справа - что происходит \"за кулисами\": явный вызов магических методов\u001b[0m\u001b[0;34m\u001b[0m\u001b[0;34m\u001b[0m\u001b[0m\n\u001b[0;32m----> 7\u001b[0;31m \u001b[0mc\u001b[0m \u001b[0;34m=\u001b[0m \u001b[0ma\u001b[0m \u001b[0;34m+\u001b[0m \u001b[0mb\u001b[0m    \u001b[0;31m#  c = a.--add--(b)\u001b[0m\u001b[0;34m\u001b[0m\u001b[0m\n\u001b[0m\u001b[1;32m      8\u001b[0m \u001b[0;34m\u001b[0m\u001b[0m\n\u001b[1;32m      9\u001b[0m \u001b[0mc\u001b[0m \u001b[0;34m=\u001b[0m \u001b[0ma\u001b[0m \u001b[0;34m-\u001b[0m \u001b[0mb\u001b[0m    \u001b[0;31m#  c = a.--sub--(b)\u001b[0m\u001b[0;34m\u001b[0m\u001b[0m\n",
      "\u001b[0;31mNameError\u001b[0m: name 'a' is not defined"
     ]
    }
   ],
   "source": [
    "# c, a, b --- объекты собственноручно написанных произвольных классов, \n",
    "# в которых определены магические методы\n",
    "\n",
    "# нерабочий код\n",
    "# слева - стандартное действие операторов определено с помощью магических методов\n",
    "# справа - что происходит \"за кулисами\": явный вызов магических методов\n",
    "c = a + b    #  c = a.--add--(b)\n",
    "\n",
    "c = a - b    #  c = a.--sub--(b)\n",
    "\n",
    "c = a*b      #  c = a.--mul--(b)\n",
    "\n",
    "c = a/b      #  c = a.--div--(b)\n",
    "\n",
    "c = a**e     #  c = a.--pow--(e)"
   ]
  },
  {
   "cell_type": "markdown",
   "metadata": {
    "nbpresent": {
     "id": "4171992b-cf6f-40f7-a663-1eafb8fc0b16"
    }
   },
   "source": [
    "Cписок магических методов, соответствующих операторам сравнения:"
   ]
  },
  {
   "cell_type": "code",
   "execution_count": 15,
   "metadata": {
    "nbpresent": {
     "id": "6d39fa62-a28a-43d1-aa0c-3b939bd9d656"
    }
   },
   "outputs": [
    {
     "ename": "NameError",
     "evalue": "name 'a' is not defined",
     "output_type": "error",
     "traceback": [
      "\u001b[0;31m---------------------------------------------------------------------------\u001b[0m",
      "\u001b[0;31mNameError\u001b[0m                                 Traceback (most recent call last)",
      "\u001b[0;32m<ipython-input-15-b2adc31bc773>\u001b[0m in \u001b[0;36m<module>\u001b[0;34m()\u001b[0m\n\u001b[1;32m      1\u001b[0m \u001b[0;31m# нерабочий код\u001b[0m\u001b[0;34m\u001b[0m\u001b[0;34m\u001b[0m\u001b[0m\n\u001b[0;32m----> 2\u001b[0;31m \u001b[0ma\u001b[0m \u001b[0;34m==\u001b[0m \u001b[0mb\u001b[0m       \u001b[0;31m#  a.__eq__(b)\u001b[0m\u001b[0;34m\u001b[0m\u001b[0m\n\u001b[0m\u001b[1;32m      3\u001b[0m \u001b[0;34m\u001b[0m\u001b[0m\n\u001b[1;32m      4\u001b[0m \u001b[0ma\u001b[0m \u001b[0;34m!=\u001b[0m \u001b[0mb\u001b[0m       \u001b[0;31m#  a.__ne__(b)\u001b[0m\u001b[0;34m\u001b[0m\u001b[0m\n\u001b[1;32m      5\u001b[0m \u001b[0;34m\u001b[0m\u001b[0m\n",
      "\u001b[0;31mNameError\u001b[0m: name 'a' is not defined"
     ]
    }
   ],
   "source": [
    "# нерабочий код\n",
    "a == b       #  a.__eq__(b)\n",
    "\n",
    "a != b       #  a.__ne__(b)\n",
    "\n",
    "a < b        #  a.__lt__(b)\n",
    "\n",
    "a <= b       #  a.__le__(b)\n",
    "\n",
    "a > b        #  a.__gt__(b)\n",
    "\n",
    "a >= b       #  a.__ge__(b)"
   ]
  },
  {
   "cell_type": "markdown",
   "metadata": {
    "nbpresent": {
     "id": "22b289bf-e3bb-4ccd-b878-e822a59dc596"
    }
   },
   "source": [
    "### Пример 2: класс для векторов на плоскости с магическими методами"
   ]
  },
  {
   "cell_type": "code",
   "execution_count": 16,
   "metadata": {
    "collapsed": true,
    "nbpresent": {
     "id": "100faa7f-6115-40ff-84fb-296c7dfbb07c"
    }
   },
   "outputs": [],
   "source": [
    "class MagicVector2D:\n",
    "    \n",
    "    def __init__(self):\n",
    "        print('A blanc object of class ' + self.__class__.__name__ + ' is created.')\n",
    "    \n",
    "    \n",
    "    def SetX(self, x):\n",
    "        self._x = x\n",
    "    \n",
    "    \n",
    "    def SetY(self, y):\n",
    "        self._y = y\n",
    "        \n",
    "    \n",
    "    def __add__(self, other): # other --- также объект класса Vector2D\n",
    "        vectorSum = MagicVector2D()\n",
    "        vectorSum.SetX(self._x + other._x)\n",
    "        vectorSum.SetY(self._y + other._y)\n",
    "        return vectorSum\n",
    "\n",
    "    \n",
    "    def __sub__(self, other):\n",
    "        vectorSub = MagicVector2D()\n",
    "        vectorSub.SetX(self._x - other._x)\n",
    "        vectorSub.SetY(self._y - other._y)\n",
    "        return vectorSub\n",
    "    \n",
    "    \n",
    "    def __mul__(self, other):\n",
    "        return self._x*other._x + self._y*other._y\n",
    "\n",
    "    def __abs__(self):\n",
    "        return np.sqrt(self*self)\n",
    "\n",
    "    def __eq__(self, other):\n",
    "        return self._x == other._x and self._y == other._y\n",
    "\n",
    "    # магический метод для перегрузки функции print()\n",
    "    def __str__(self):\n",
    "        return 'Vector (%.2f, %.2f);' % (self._x, self._y)"
   ]
  },
  {
   "cell_type": "code",
   "execution_count": 17,
   "metadata": {
    "nbpresent": {
     "id": "8585d84a-d914-4a7a-a32b-fb686b6dface"
    }
   },
   "outputs": [
    {
     "name": "stdout",
     "output_type": "stream",
     "text": [
      "A blanc object of class MagicVector2D is created.\n",
      "A blanc object of class MagicVector2D is created.\n",
      "A blanc object of class MagicVector2D is created.\n",
      "Vector (12.90, 36.90); Vector (-7.90, -49.70);\n",
      "-251.12 39.0898963928\n",
      "False\n"
     ]
    }
   ],
   "source": [
    "# использование класса и его магических методов\n",
    "vector1 = MagicVector2D()\n",
    "vector1.SetX(2.5)\n",
    "vector1.SetY(-6.4)\n",
    "\n",
    "vector2 = MagicVector2D()\n",
    "vector2.SetX(10.4)\n",
    "vector2.SetY(43.3)\n",
    "\n",
    "# теперь эти строки кода будут работать\n",
    "vector3 = vector1 + vector2\n",
    "dotProduct = vector1*vector2\n",
    "\n",
    "dotProduct1 = vector1*vector2\n",
    "length1 = abs(vector3)\n",
    "\n",
    "\n",
    "print (vector3, vector4) # здесь действие оператора определяется магическим методом __str__\n",
    "print (dotProduct1, length1) # здесь - функция действует стандартным образом\n",
    "print (vector3 == vector2) # здесь - также стандартным образом"
   ]
  },
  {
   "cell_type": "markdown",
   "metadata": {
    "nbpresent": {
     "id": "3dc18250-5af1-42b2-adf9-7fa467b64f99"
    }
   },
   "source": [
    "__Использование версии класса с магическими методами и короче и привычней.__"
   ]
  },
  {
   "cell_type": "markdown",
   "metadata": {
    "nbpresent": {
     "id": "43ca5ea5-1575-4b5c-82fc-857561885920"
    }
   },
   "source": [
    "### Пример 3: реализация класса комплексных чисел.\n",
    "Хотя в стандартной библиотеке языка уже реализованы классы с магическими методами для представления комплексных чисел, в учебных целях создадим собственную реализацию. Действуем аналогично реализации класса 2D-вектора:\n",
    "\n",
    "__Поля класса__:\n",
    "* вещественная часть __re__\n",
    "* мнимая часть __im__\n",
    "* ... (по Вашему усмотрению)\n",
    "\n",
    "__Методы класса__:\n",
    "* \"сеттеры\" для __im__ и __re__\n",
    "* сложить 2 комплексных числа\n",
    "* вычесть одно комплексное число из другого\n",
    "* умножить одно число на другое\n",
    "* вычислить модуль комплексного числа\n",
    "* сравнить 2 комплексных числа\n",
    "* вывести на экран строчное представление комплексного числа\n",
    "* ... (по Вашему усмотрению)\n",
    "\n",
    "### Реализация (сразу с использованием магических методов):"
   ]
  },
  {
   "cell_type": "code",
   "execution_count": 18,
   "metadata": {
    "collapsed": true,
    "nbpresent": {
     "id": "6db8b6a5-593a-44da-9cee-bc216369b1b6"
    }
   },
   "outputs": [],
   "source": [
    "class MagicComplex:\n",
    "    def __init__(self):\n",
    "        print('A blanc object of class ' + self.__class__.__name__ + ' is created.')\n",
    "    \n",
    "    def SetRe(self, re):\n",
    "        self._re = re\n",
    "        \n",
    "    def SetIm(self, im):\n",
    "        self._im = im\n",
    "\n",
    "    def __add__(self, other):\n",
    "        complexSum = MagicComplex()\n",
    "        complexSum.SetRe(self._re + other._re)\n",
    "        complexSum.SetIm(self._im + other._im)\n",
    "        return complexSum\n",
    "\n",
    "    def __sub__(self, other):\n",
    "        complexSub = MagicComplex()\n",
    "        complexSub.SetRe(self._re - other._re)\n",
    "        complexSub.SetIm(self._im - other._im)\n",
    "        return complexSub\n",
    "        \n",
    "\n",
    "    def __mul__(self, other):\n",
    "        complexMul = MagicComplex()\n",
    "        complexMul.SetRe(self._re*other._re - self._im*other._im)\n",
    "        complexMul.SetIm(self._im*other._re + self._re*other._im)\n",
    "        return complexMul\n",
    "        \n",
    "\n",
    "    def __abs__(self):\n",
    "        return np.sqrt(self._re**2 + self._im**2)\n",
    "    \n",
    "\n",
    "    def __eq__(self, other):\n",
    "        return self._re == other._re and \\\n",
    "               self._im == other._im\n",
    "    \n",
    "    # магический метод для перегрузки функции print()\n",
    "    def __str__(self):\n",
    "        return '%.2f + %.2fj' % (self._re, self._im)"
   ]
  },
  {
   "cell_type": "code",
   "execution_count": 19,
   "metadata": {},
   "outputs": [
    {
     "name": "stdout",
     "output_type": "stream",
     "text": [
      "A blanc object of class MagicComplex is created.\n",
      "A blanc object of class MagicComplex is created.\n",
      "A blanc object of class MagicComplex is created.\n",
      "A blanc object of class MagicComplex is created.\n",
      "1.00 + 3.00j\n",
      "2.00 + 4.00j\n",
      "3.00 + 7.00j\n",
      "-10.00 + 10.00j\n"
     ]
    }
   ],
   "source": [
    "# использование класса MagicComplex\n",
    "complex1 = MagicComplex()\n",
    "complex1.SetRe(1.)\n",
    "complex1.SetIm(3.)\n",
    "\n",
    "complex2 = MagicComplex()\n",
    "complex2.SetRe(2.)\n",
    "complex2.SetIm(4.)\n",
    "\n",
    "complex3 = complex1 + complex2\n",
    "complex4 = complex1*complex2\n",
    "length1 = abs(complex3)\n",
    "\n",
    "listOfComplex = [complex1, complex2, complex3, complex4]\n",
    "\n",
    "for complexNumber in listOfComplex:\n",
    "    print(complexNumber)"
   ]
  },
  {
   "cell_type": "markdown",
   "metadata": {
    "collapsed": true,
    "nbpresent": {
     "id": "8724473e-2f99-4fde-8788-4bebe76c7ea3"
    }
   },
   "source": [
    "# Вопросы?"
   ]
  }
 ],
 "metadata": {
  "anaconda-cloud": {},
  "kernelspec": {
   "display_name": "Python 3",
   "language": "python",
   "name": "python3"
  },
  "language_info": {
   "codemirror_mode": {
    "name": "ipython",
    "version": 3
   },
   "file_extension": ".py",
   "mimetype": "text/x-python",
   "name": "python",
   "nbconvert_exporter": "python",
   "pygments_lexer": "ipython3",
   "version": "3.6.3"
  }
 },
 "nbformat": 4,
 "nbformat_minor": 1
}
