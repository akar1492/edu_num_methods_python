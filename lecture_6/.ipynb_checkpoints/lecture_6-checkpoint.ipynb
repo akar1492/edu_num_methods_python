{
 "cells": [
  {
   "cell_type": "markdown",
   "metadata": {
    "nbpresent": {
     "id": "22452b86-4e4c-43d7-a446-3b998ec7f7c6"
    }
   },
   "source": [
    "__Автор__: Карпаев Алексей, ассистент кафедры информатики и вычислительной математики"
   ]
  },
  {
   "cell_type": "markdown",
   "metadata": {},
   "source": [
    "# Классы: продолжение 2"
   ]
  },
  {
   "cell_type": "markdown",
   "metadata": {
    "nbpresent": {
     "id": "d15f7ec7-8c0d-4940-8c26-64e23ab4dce0"
    }
   },
   "source": [
    "__С прошлой лекции__: реализация функции через функтор:"
   ]
  },
  {
   "cell_type": "code",
   "execution_count": 142,
   "metadata": {
    "collapsed": true,
    "nbpresent": {
     "id": "f047ed26-df25-4f9e-8bed-e41ab307cc4f"
    }
   },
   "outputs": [],
   "source": [
    "import math as m\n",
    "\n",
    "class MyFunction:\n",
    "    def __init__(self, function):\n",
    "        self._function = function  # math.function\n",
    "    \n",
    "    # вместо функции CalculateValue: вычисление значения через оператор \"()\"\n",
    "    def __call__(self, x):\n",
    "        return self._function(x)\n",
    "    \n",
    "    \n",
    "class SimpleDerivative:\n",
    "    def __init__(self, functor, step):\n",
    "        self._functor = functor\n",
    "        self._step = float(step)\n",
    "    \n",
    "    # вместо функции CalculateValue: вычисление значения через оператор \"()\"\n",
    "    def __call__(self, x):\n",
    "        return (self._functor(x + self._step) - self._functor(x - self._step))/(2*self._step)"
   ]
  },
  {
   "cell_type": "markdown",
   "metadata": {
    "nbpresent": {
     "id": "0b03fa94-587e-4a3c-a239-85df8e4f151e"
    }
   },
   "source": [
    "Тестирование на списке функций, реализованных через функтор MyFunction, для единообразия (в прошлый раз в списке находились функции из математической библиотеки):"
   ]
  },
  {
   "cell_type": "code",
   "execution_count": 143,
   "metadata": {
    "collapsed": false,
    "nbpresent": {
     "id": "82da7b27-db5a-4400-ada0-f0c35f1e85ae"
    }
   },
   "outputs": [
    {
     "name": "stdout",
     "output_type": "stream",
     "text": [
      "Evaluation at x = 12.46:\n",
      "#0; function = -0.11; derivative = 0.99\n",
      "#1; function = 0.99; derivative = 0.11\n",
      "#2; function = 257160.84; derivative = 257160.84\n",
      "#3; function = -0.11; derivative = 1.01\n",
      "\n",
      "\n",
      "Whats inside?\n",
      "[<__main__.MyFunction instance at 0x109817680>, <__main__.MyFunction instance at 0x109871bd8>, <__main__.MyFunction instance at 0x10983eb90>, <__main__.MyFunction instance at 0x10983e710>] \n",
      "\n",
      "[<__main__.SimpleDerivative instance at 0x10983e170>, <__main__.SimpleDerivative instance at 0x10983e5a8>, <__main__.SimpleDerivative instance at 0x10983e7a0>, <__main__.SimpleDerivative instance at 0x10983ed40>]\n"
     ]
    }
   ],
   "source": [
    "import numpy as np\n",
    "\n",
    "# ...Numerical... - чтобы не путать с символьными функциями\n",
    "listOfNumericalFunctors = [MyFunction(m.sin), MyFunction(m.cos), MyFunction(m.exp), MyFunction(m.tan)]\n",
    "\n",
    "h0 = 1e-5\n",
    "listOfNumericalDerivatives = [SimpleDerivative(functor, h0) for functor in listOfNumericalFunctors]\n",
    "\n",
    "x = 12.457457\n",
    "\n",
    "print 'Evaluation at x = %.2f:' % x\n",
    "for i, functor, derivative in zip(range(len(listOfNumericalFunctors)), listOfNumericalFunctors, listOfNumericalDerivatives):\n",
    "    print '#%d; function = %.2f; derivative = %.2f' % (i, functor(x), derivative(x))\n",
    "\n",
    "    \n",
    "print '\\n\\nWhats inside?\\n', listOfNumericalFunctors,\\\n",
    "'\\n\\n', listOfNumericalDerivatives # смотрим, что за объекты"
   ]
  },
  {
   "cell_type": "markdown",
   "metadata": {
    "nbpresent": {
     "id": "8648782f-ced8-47d1-8df5-cf01385892ce"
    }
   },
   "source": [
    "### Закончили с этим."
   ]
  },
  {
   "cell_type": "markdown",
   "metadata": {
    "nbpresent": {
     "id": "ebb9c3ab-f619-4332-ac7f-94bf73808543"
    }
   },
   "source": [
    "## Класс для представления полиномов\n",
    "Коэффициенты полинома __n__-степени можно хранить в списке.\n",
    "\n",
    "$$\n",
    "2 - 6 x^2 + 12 x^3\n",
    "$$\n",
    "\n",
    "\n",
    "Порядок коэффициентов в списке для полинома выше имеет вид: __[2, 0, -6, 12]__\n",
    "\n",
    "__Поля класса__:\n",
    "* Список коэффициентов\n",
    "\n",
    "__Методы класса__:\n",
    "* Сложение полиномов\n",
    "* Перемножение полиномов\n",
    "* Взятие производной\n",
    "* Вывод коэффициентов на экран\n",
    "* ....\n",
    "\n",
    "\n",
    "Как мы бы хотели обращаться с объектами класса Polynomial:"
   ]
  },
  {
   "cell_type": "code",
   "execution_count": 99,
   "metadata": {
    "collapsed": false,
    "nbpresent": {
     "id": "56c59f38-a686-4b6c-9aef-c2986473d326"
    }
   },
   "outputs": [
    {
     "ename": "AttributeError",
     "evalue": "Polynomial instance has no attribute 'PrintCoefficients'",
     "output_type": "error",
     "traceback": [
      "\u001b[0;31m---------------------------------------------------------------------------\u001b[0m",
      "\u001b[0;31mAttributeError\u001b[0m                            Traceback (most recent call last)",
      "\u001b[0;32m<ipython-input-99-f463467fc2b1>\u001b[0m in \u001b[0;36m<module>\u001b[0;34m()\u001b[0m\n\u001b[1;32m      1\u001b[0m \u001b[0;31m# нерабочий код\u001b[0m\u001b[0;34m\u001b[0m\u001b[0;34m\u001b[0m\u001b[0m\n\u001b[1;32m      2\u001b[0m \u001b[0mpolynomial1\u001b[0m \u001b[0;34m=\u001b[0m \u001b[0mPolynomial\u001b[0m\u001b[0;34m(\u001b[0m\u001b[0;34m[\u001b[0m\u001b[0;36m1.5\u001b[0m\u001b[0;34m,\u001b[0m \u001b[0;34m-\u001b[0m\u001b[0;36m4\u001b[0m\u001b[0;34m]\u001b[0m\u001b[0;34m)\u001b[0m\u001b[0;34m\u001b[0m\u001b[0m\n\u001b[0;32m----> 3\u001b[0;31m \u001b[0mpolynomial1\u001b[0m\u001b[0;34m.\u001b[0m\u001b[0mPrintCoefficients\u001b[0m\u001b[0;34m(\u001b[0m\u001b[0;34m)\u001b[0m\u001b[0;34m\u001b[0m\u001b[0m\n\u001b[0m\u001b[1;32m      4\u001b[0m \u001b[0;34m\u001b[0m\u001b[0m\n\u001b[1;32m      5\u001b[0m \u001b[0mpolynomial2\u001b[0m \u001b[0;34m=\u001b[0m \u001b[0mPolynomial\u001b[0m\u001b[0;34m(\u001b[0m\u001b[0;34m[\u001b[0m\u001b[0;36m0\u001b[0m\u001b[0;34m,\u001b[0m \u001b[0;36m1.2\u001b[0m\u001b[0;34m,\u001b[0m \u001b[0;36m0\u001b[0m\u001b[0;34m,\u001b[0m \u001b[0;36m0\u001b[0m\u001b[0;34m,\u001b[0m \u001b[0;34m-\u001b[0m\u001b[0;36m6.7\u001b[0m\u001b[0;34m,\u001b[0m \u001b[0;34m-\u001b[0m\u001b[0;36m1.5\u001b[0m\u001b[0;34m]\u001b[0m\u001b[0;34m)\u001b[0m\u001b[0;34m\u001b[0m\u001b[0m\n",
      "\u001b[0;31mAttributeError\u001b[0m: Polynomial instance has no attribute 'PrintCoefficients'"
     ]
    }
   ],
   "source": [
    "# нерабочий код\n",
    "polynomial1 = Polynomial([1.5, -4])\n",
    "polynomial1.PrintCoefficients()\n",
    "\n",
    "polynomial2 = Polynomial([0, 1.2, 0, 0, -6.7, -1.5])\n",
    "polynomial3 = polynomial1.Add(polynomial2)\n",
    "polynomial3.PrintCoefficients()\n",
    "\n",
    "polynomial4 = polynomial2.TakeDerivative()\n",
    "polynomial4.PrintCoefficients()"
   ]
  },
  {
   "cell_type": "markdown",
   "metadata": {
    "nbpresent": {
     "id": "89ed40c5-8fd5-4396-9b02-408e34f20d31"
    }
   },
   "source": [
    "### Реализация класса Polynomial: __основные методы__"
   ]
  },
  {
   "cell_type": "code",
   "execution_count": 144,
   "metadata": {
    "collapsed": true,
    "nbpresent": {
     "id": "16bfda49-52b8-4118-89e6-2ab2bcda1d62"
    }
   },
   "outputs": [],
   "source": [
    "class Polynomial:\n",
    "    \"\"\" Classic implementation as a functor \"\"\"\n",
    "    \n",
    "    def __init__(self, listOfCoefficients):\n",
    "        self._listOfCoefficients = listOfCoefficients\n",
    "    \n",
    "    # вместо функции CalculateValue: вычисление значения через оператор \"()\"\n",
    "    def __call__(self, x):\n",
    "        value = 0.\n",
    "        for i in range(len(self._listOfCoefficients)):\n",
    "            value += self._listOfCoefficients[i]* x**i\n",
    "        return value"
   ]
  },
  {
   "cell_type": "markdown",
   "metadata": {
    "nbpresent": {
     "id": "2dc852f3-d4b6-4ae4-8a6a-3695e84f082f"
    }
   },
   "source": [
    "### Класс Polynomial: добавление операции сложения"
   ]
  },
  {
   "cell_type": "code",
   "execution_count": null,
   "metadata": {
    "collapsed": false,
    "nbpresent": {
     "id": "db2fb1b4-f0f7-46d1-b81a-abc31126c133"
    }
   },
   "outputs": [],
   "source": [
    "# нерабочий код\n",
    "class Polynomial:\n",
    "    ...\n",
    "\n",
    "    def Add(self, other):\n",
    "    \"\"\" Summation of the polynomials implemented via the summation of their \n",
    "        coefficients lists.\n",
    "    \"\"\"\n",
    "        \n",
    "        # если степени полиномов различны\n",
    "        if len(self._listOfCoefficients) > len(other._listOfCoefficients):\n",
    "            \n",
    "            # векторизованная операция: копируем список коэффициентов; не просто присваивание одной ссылки другой: создается е\n",
    "            # создается новый список - копия списка коэффициентов\n",
    "            sumOfCoefficients = self._listOfCoefficients[:] \n",
    "            \n",
    "            for i in range(len(other._listOfCoefficients)):\n",
    "                # прибавляем коэффициенты полинома меньшей степени\n",
    "                sumOfCoefficients[i] += other._listOfCoefficients[i]\n",
    "        \n",
    "        else:\n",
    "            # аналогично\n",
    "            sumOfCoefficients = other._listOfCoefficients[:]\n",
    "            \n",
    "            for i in range(len(self._listOfCoefficients)):\n",
    "                sumOfCoefficients[i] += self._listOfCoefficients[i]\n",
    "        \n",
    "        return Polynomial(sumOfCoefficients)\n",
    "    \n",
    "    ..."
   ]
  },
  {
   "cell_type": "markdown",
   "metadata": {},
   "source": [
    "### Класс Polynomial: добавление операции умножения\n",
    "Формула перемножения полиномов:\n",
    "$$\n",
    "\\left(\\sum_{i=0}^Mc_ix^i\\right)\\left(\\sum_{j=0}^N d_jx^j\\right)\n",
    "= \\sum_{i=0}^M \\sum_{j=0}^N c_id_j x^{i+j}\n",
    "$$"
   ]
  },
  {
   "cell_type": "code",
   "execution_count": 92,
   "metadata": {
    "collapsed": false
   },
   "outputs": [
    {
     "ename": "SyntaxError",
     "evalue": "invalid syntax (<ipython-input-92-3e7177420435>, line 3)",
     "output_type": "error",
     "traceback": [
      "\u001b[0;36m  File \u001b[0;32m\"<ipython-input-92-3e7177420435>\"\u001b[0;36m, line \u001b[0;32m3\u001b[0m\n\u001b[0;31m    ...\u001b[0m\n\u001b[0m    ^\u001b[0m\n\u001b[0;31mSyntaxError\u001b[0m\u001b[0;31m:\u001b[0m invalid syntax\n"
     ]
    }
   ],
   "source": [
    "# нерабочий код\n",
    "class Polynomial:\n",
    "    ...\n",
    "    \n",
    "    def __mul__(self, other):\n",
    "        orderSelf = len(self._listOfCoefficients) - 1\n",
    "        orderOther = len(other._listOfCoefficients) - 1\n",
    "        \n",
    "        # вычисляем элементы нового массива коэффициентов\n",
    "        newListOfCoefficients = list(np.zeros(orderSelf + orderOther + 1))\n",
    "        for i in range(0, orderSelf + 1):\n",
    "            for j in range(0, orderOther + 1):\n",
    "                newListOfCoefficients[i + j] += self._listOfCoefficients[i]*\\\n",
    "                                                other.listOfCoefficients[j]\n",
    "        \n",
    "        return Polynomial(newListOfCoefficients) # новый полином в качестве возвращаемого значения\n",
    "    \n",
    "    ..."
   ]
  },
  {
   "cell_type": "markdown",
   "metadata": {
    "nbpresent": {
     "id": "0c8f141b-7184-4963-8368-d7088ff574b0"
    }
   },
   "source": [
    "### Класс Polynomial: добавление операции дифференцирования\n",
    "Правило для дифференцирования полинома\n",
    "$$\n",
    "{d\\over dx}\\sum_{i=0}^n c_i \\cdot x^i = \\sum_{i=1}^n ic_i \\cdot x^{i-1}\n",
    "$$\n"
   ]
  },
  {
   "cell_type": "code",
   "execution_count": 93,
   "metadata": {
    "collapsed": false,
    "nbpresent": {
     "id": "27b1e16e-f11d-44e8-a611-543fa51d7d25"
    }
   },
   "outputs": [
    {
     "ename": "SyntaxError",
     "evalue": "invalid syntax (<ipython-input-93-590d3153106c>, line 3)",
     "output_type": "error",
     "traceback": [
      "\u001b[0;36m  File \u001b[0;32m\"<ipython-input-93-590d3153106c>\"\u001b[0;36m, line \u001b[0;32m3\u001b[0m\n\u001b[0;31m    ...\u001b[0m\n\u001b[0m    ^\u001b[0m\n\u001b[0;31mSyntaxError\u001b[0m\u001b[0;31m:\u001b[0m invalid syntax\n"
     ]
    }
   ],
   "source": [
    "# нерабочий код\n",
    "class Polynomial:\n",
    "    ...\n",
    "    \n",
    "    # вспомогательная функция: изменяет список коэффициентов self\n",
    "    def TakeDerivative(self):\n",
    "        for i in range(1, len(self._listOfCoefficients)):\n",
    "            self._listOfCoefficients[i-1] = i*self._listOfCoefficients[i]\n",
    "        del self._listOfCoefficients[-1] # степень полинома-производной меньше степени изначального полинома\n",
    "\n",
    "    # основная функция\n",
    "    def Derivative(self): \n",
    "        # создаем копию списка коэффициентов чтобы не менять изначальный полином\n",
    "        selfCopy = Polynomial(self._listOfCoefficients[:])\n",
    "        selfCopy.TakeDerivative()\n",
    "        return selfCopy # возвращаем полином-производную, с измененным списком коэффициентов\n",
    "    \n",
    "    ..."
   ]
  },
  {
   "cell_type": "markdown",
   "metadata": {},
   "source": [
    "### Класс Polynomal: все методы вместе\n"
   ]
  },
  {
   "cell_type": "code",
   "execution_count": 145,
   "metadata": {
    "collapsed": false
   },
   "outputs": [],
   "source": [
    "class Polynomial:\n",
    "    \"\"\" Classic implementation as a functor \"\"\"\n",
    "    \n",
    "    def __init__(self, listOfCoefficients):\n",
    "        self._listOfCoefficients = listOfCoefficients\n",
    "    \n",
    "    # вместо функции CalculateValue: вычисление значения через оператор \"()\"\n",
    "    def __call__(self, x):\n",
    "        value = 0.\n",
    "        for i in range(len(self._listOfCoefficients)):\n",
    "            value += self._listOfCoefficients[i]* x**i\n",
    "        return value\n",
    "    \n",
    "    \n",
    "    def PerformAddition(self, other):\n",
    "        \"\"\" \n",
    "        Summation of the polynomials implemented via the summation of their \n",
    "        coefficients lists.\n",
    "        \"\"\"\n",
    "        \n",
    "        # если степени полиномов различны\n",
    "        if len(self._listOfCoefficients) > len(other._listOfCoefficients):\n",
    "            \n",
    "            # векторизованная операция: копируем список коэффициентов; не просто присваивание одной ссылки другой: создается е\n",
    "            # создается новый список - копия списка коэффициентов\n",
    "            sumOfCoefficients = self._listOfCoefficients[:] \n",
    "            \n",
    "            for i in range(len(other._listOfCoefficients)):\n",
    "                # прибавляем коэффициенты полинома меньшей степени\n",
    "                sumOfCoefficients[i] += other._listOfCoefficients[i]\n",
    "        \n",
    "        else:\n",
    "            # аналогично\n",
    "            sumOfCoefficients = other._listOfCoefficients[:]\n",
    "            \n",
    "            for i in range(len(self._listOfCoefficients)):\n",
    "                sumOfCoefficients[i] += self._listOfCoefficients[i]\n",
    "        \n",
    "        return Polynomial(sumOfCoefficients)\n",
    "    \n",
    "    \n",
    "    def PerformMultiplication(self, other):\n",
    "        orderSelf = len(self._listOfCoefficients) - 1\n",
    "        orderOther = len(other._listOfCoefficients) - 1\n",
    "        \n",
    "        # вычисляем элементы нового массива коэффициентов\n",
    "        newListOfCoefficients = list(np.zeros(orderSelf + orderOther + 1))\n",
    "        for i in range(0, orderSelf + 1):\n",
    "            for j in range(0, orderOther + 1):\n",
    "                newListOfCoefficients[i + j] += self._listOfCoefficients[i]*\\\n",
    "                                                other._listOfCoefficients[j]\n",
    "        \n",
    "        return Polynomial(newListOfCoefficients) # новый полином в качестве возвращаемого значения\n",
    "    \n",
    "    \n",
    "    # вспомогательная функция: изменяет список коэффициентов self\n",
    "    def TakeDerivative(self):\n",
    "        for i in range(1, len(self._listOfCoefficients)):\n",
    "            self._listOfCoefficients[i-1] = i*self._listOfCoefficients[i]\n",
    "        del self._listOfCoefficients[-1] # степень полинома-производной меньше степени изначального полинома\n",
    "\n",
    "    # основная функция\n",
    "    def Derivative(self): \n",
    "        # создаем копию списка коэффициентов чтобы не менять изначальный полином\n",
    "        selfCopy = Polynomial(self._listOfCoefficients[:])\n",
    "        selfCopy.TakeDerivative()\n",
    "        return selfCopy # возвращаем полином-производную, с измененным списком коэффициентов"
   ]
  },
  {
   "cell_type": "markdown",
   "metadata": {
    "nbpresent": {
     "id": "9f0656ec-4412-4c60-b00a-9b7f870a0986"
    }
   },
   "source": [
    "### Класс Polynomial: использование\n",
    "\n",
    "Протестируем работу класса на полиномах\n",
    "$$\n",
    "p_1(x) = 2 - 4 x + 8 x^2 + 16 x^3,\\quad p_2(x)= 32 x - 64 x^4 - 128 x^5\n",
    "$$\n"
   ]
  },
  {
   "cell_type": "code",
   "execution_count": 146,
   "metadata": {
    "collapsed": false,
    "nbpresent": {
     "id": "8e089f84-186b-4a70-ba45-a3cfd6e04481"
    }
   },
   "outputs": [
    {
     "name": "stdout",
     "output_type": "stream",
     "text": [
      "Evaluation at point x0: \n",
      "2733.104 \t-641977.98912\n",
      "Derivative at point x0 = -2540790613.64\n"
     ]
    }
   ],
   "source": [
    "import numpy as np\n",
    "\n",
    "polynomial1 = Polynomial([2., -4., 8., 16.]) # это теперь функтор;\n",
    "polynomial2 = Polynomial([0., 32., 0., 0., -64, -128.]) # это тоже\n",
    "\n",
    "x0 = 5.4\n",
    "# выводим значения на экран (пользуемся функторами соответствующим образом)\n",
    "print 'Evaluation at point x0:', '\\n', \\\n",
    "polynomial1(x0), '\\t', polynomial2(x0)\n",
    "\n",
    "polynomial3 = polynomial1.PerformAddition(polynomial2)\n",
    "polynomial4 = polynomial1.PerformMultiplication(polynomial3)\n",
    "\n",
    "polynomial5 = polynomial4.Derivative()\n",
    "\n",
    "print 'Derivative at point x0 = %.2f' % polynomial5(5.4)"
   ]
  },
  {
   "cell_type": "markdown",
   "metadata": {
    "nbpresent": {
     "id": "bdc720bb-4985-45ff-9497-1f78b7781757"
    }
   },
   "source": [
    "## С полиномами закончили. Далее - реализация 2D-вектора в виде класса\n",
    "\n",
    "### Что должно находиться внутри класса?\n",
    "__Поля класса__:\n",
    "* координата x\n",
    "* координата y\n",
    "* длина вектора\n",
    "\n",
    "\n",
    "Математические операции для векторов:\n",
    "\n",
    "$$\n",
    "\\begin{align*}\n",
    "(a,b) + (c,d) = (a+c, b+d)\\\\\n",
    "(a,b) - (c,d) = (a-c, b-d)\\\\\n",
    "(a,b)\\cdot(c,d) = ac + bd\\\\\n",
    "(a,b) = (c, d)\\hbox{ if }a=c\\hbox{ and }b=d\n",
    "\\end{align*}\n",
    "$$\n",
    "\n",
    "__Отсюда: методы класса__:\n",
    "* сложить 2 вектора\n",
    "* вычесть один вектор из другого\n",
    "* произвести скалярное произведение векторов\n",
    "* определить длину вектора\n",
    "* сравнение 2-х векторов\n",
    "* вывод координат вектора на экран\n",
    "* ...\n",
    "\n",
    "### __Реализация: Пример 1__:"
   ]
  },
  {
   "cell_type": "code",
   "execution_count": 147,
   "metadata": {
    "collapsed": true,
    "nbpresent": {
     "id": "01701780-2311-43bc-8bf7-8bdc3aff2ac7"
    }
   },
   "outputs": [],
   "source": [
    "class MuggleVector2D:\n",
    "    def __init__(self, x, y):\n",
    "        self._x = x;  \n",
    "        self._y = y;\n",
    "        # длину вектора инициализируем в соответсвующей функции\n",
    "\n",
    "    def PerformAddition(self, other): # other --- также объект класса Vector2D\n",
    "        return MuggleVector2D(self._x + other._x, self._y + other._y)\n",
    "\n",
    "    def PerformSubstraction(self, other):\n",
    "        return MuggleVector2D(self._x - other._x, self._y - other._y)\n",
    "\n",
    "    def CalculateDotProduct(self, other):\n",
    "        return self._x*other._x + self._y*other._y\n",
    "\n",
    "    def CalculateLength(self):\n",
    "        self._length = m.sqrt(self._x**2 + self._y**2) # инициализация длины\n",
    "        return m.sqrt(self._x**2 + self._y**2)\n",
    "\n",
    "    def CheckEquality(self, other):\n",
    "        return self._x == other._x and self._y == other._y\n",
    "\n",
    "    def PrintCoordinates(self):\n",
    "        print 'Coordinates are (%g, %g)' % (self._x, self._y) # вывод на печать"
   ]
  },
  {
   "cell_type": "markdown",
   "metadata": {
    "nbpresent": {
     "id": "78d2f674-7c47-409a-981a-553914611c28"
    }
   },
   "source": [
    "Примеры использования:"
   ]
  },
  {
   "cell_type": "code",
   "execution_count": 148,
   "metadata": {
    "collapsed": false,
    "nbpresent": {
     "id": "58429688-2321-4a4b-b276-02f494eb7611"
    }
   },
   "outputs": [
    {
     "name": "stdout",
     "output_type": "stream",
     "text": [
      "Dot product = -251.12\n",
      "Coordinates are (-7.9, -49.7)\n"
     ]
    }
   ],
   "source": [
    "vector1 = MuggleVector2D(2.5, -6.4)\n",
    "vector2 = MuggleVector2D(10.4, 43.3)\n",
    "\n",
    "vector3 = vector1.PerformAddition(vector2)\n",
    "vector4 = vector1.PerformSubstraction(vector2)\n",
    "print 'Dot product = %.2f' % vector1.CalculateDotProduct(vector2)\n",
    "\n",
    "vector4.CheckEquality(vector2)\n",
    "vector4.PrintCoordinates()"
   ]
  },
  {
   "cell_type": "markdown",
   "metadata": {
    "nbpresent": {
     "id": "829e7ade-dc30-4a77-a917-cb8f32787d64"
    }
   },
   "source": [
    "Все бы неплохо, но подобное использоваие выглядит не сильно эстетичным. Привычней, если мы сможем обращаться с векторами на стандартный манер, используя арифметические операторы:"
   ]
  },
  {
   "cell_type": "code",
   "execution_count": 149,
   "metadata": {
    "collapsed": false
   },
   "outputs": [
    {
     "ename": "NameError",
     "evalue": "name 'Vector2D' is not defined",
     "output_type": "error",
     "traceback": [
      "\u001b[0;31m---------------------------------------------------------------------------\u001b[0m",
      "\u001b[0;31mNameError\u001b[0m                                 Traceback (most recent call last)",
      "\u001b[0;32m<ipython-input-149-0457c556cba3>\u001b[0m in \u001b[0;36m<module>\u001b[0;34m()\u001b[0m\n\u001b[1;32m      1\u001b[0m \u001b[0;31m# нерабочий код\u001b[0m\u001b[0;34m\u001b[0m\u001b[0;34m\u001b[0m\u001b[0m\n\u001b[0;32m----> 2\u001b[0;31m \u001b[0mvector1\u001b[0m \u001b[0;34m=\u001b[0m \u001b[0mVector2D\u001b[0m\u001b[0;34m(\u001b[0m\u001b[0;36m0\u001b[0m\u001b[0;34m,\u001b[0m \u001b[0;36m1\u001b[0m\u001b[0;34m)\u001b[0m\u001b[0;34m\u001b[0m\u001b[0m\n\u001b[0m\u001b[1;32m      3\u001b[0m \u001b[0mvector2\u001b[0m \u001b[0;34m=\u001b[0m \u001b[0mVector2D\u001b[0m\u001b[0;34m(\u001b[0m\u001b[0;36m1\u001b[0m\u001b[0;34m,\u001b[0m \u001b[0;36m0\u001b[0m\u001b[0;34m)\u001b[0m\u001b[0;34m\u001b[0m\u001b[0m\n\u001b[1;32m      4\u001b[0m \u001b[0mvector3\u001b[0m \u001b[0;34m=\u001b[0m \u001b[0mvector1\u001b[0m \u001b[0;34m+\u001b[0m \u001b[0mvector2\u001b[0m\u001b[0;34m\u001b[0m\u001b[0m\n\u001b[1;32m      5\u001b[0m \u001b[0;34m\u001b[0m\u001b[0m\n",
      "\u001b[0;31mNameError\u001b[0m: name 'Vector2D' is not defined"
     ]
    }
   ],
   "source": [
    "# нерабочий код\n",
    "vector1 = Vector2D(0, 1)\n",
    "vector2 = Vector2D(1, 0)\n",
    "vector3 = vector1 + vector2\n",
    "\n",
    "print vector3"
   ]
  },
  {
   "cell_type": "markdown",
   "metadata": {},
   "source": [
    "Для простоты, операторы можно рассматривать как функции, например:"
   ]
  },
  {
   "cell_type": "code",
   "execution_count": 110,
   "metadata": {
    "collapsed": false
   },
   "outputs": [
    {
     "ename": "SyntaxError",
     "evalue": "invalid syntax (<ipython-input-110-2de04095a7b1>, line 2)",
     "output_type": "error",
     "traceback": [
      "\u001b[0;36m  File \u001b[0;32m\"<ipython-input-110-2de04095a7b1>\"\u001b[0;36m, line \u001b[0;32m2\u001b[0m\n\u001b[0;31m    def \"+\"(number1, number2):\u001b[0m\n\u001b[0m          ^\u001b[0m\n\u001b[0;31mSyntaxError\u001b[0m\u001b[0;31m:\u001b[0m invalid syntax\n"
     ]
    }
   ],
   "source": [
    "# нерабочий код\n",
    "def \"+\"(number1, number2):\n",
    "    return number1 + number2\n",
    "\n",
    "def \"-\"(a, b):\n",
    "    return number1 - number2\n",
    "    \n",
    "def \"*\"(a, b):\n",
    "    return number1*number2\n",
    "\n",
    "def \"/\"(number1, number2):\n",
    "    if type(number1) == float or type(number2) == float:\n",
    "        return float(number1)/float(number2)\n",
    "    else:\n",
    "        return number1/number2 # целочисленное деление"
   ]
  },
  {
   "cell_type": "markdown",
   "metadata": {},
   "source": [
    "__Проблема__: действия стандартных арифметических операторов \"+\", \"-\", \"*\", \"/\" средствами языка реализованы только для ограниченного числа типов переменных: целые, вещественные и комплексные числа, массивы NumPy, списки, итд. Поэтому, попытка использования операторов с объектами вручную созданных классов приведет к ошибке:"
   ]
  },
  {
   "cell_type": "code",
   "execution_count": 150,
   "metadata": {
    "collapsed": false
   },
   "outputs": [
    {
     "ename": "TypeError",
     "evalue": "unsupported operand type(s) for +: 'instance' and 'instance'",
     "output_type": "error",
     "traceback": [
      "\u001b[0;31m---------------------------------------------------------------------------\u001b[0m",
      "\u001b[0;31mTypeError\u001b[0m                                 Traceback (most recent call last)",
      "\u001b[0;32m<ipython-input-150-4f10f9116e5c>\u001b[0m in \u001b[0;36m<module>\u001b[0;34m()\u001b[0m\n\u001b[1;32m      2\u001b[0m \u001b[0;34m\u001b[0m\u001b[0m\n\u001b[1;32m      3\u001b[0m \u001b[0;31m# исполнение кода приведет к ошибкам\u001b[0m\u001b[0;34m\u001b[0m\u001b[0;34m\u001b[0m\u001b[0m\n\u001b[0;32m----> 4\u001b[0;31m \u001b[0mvector4\u001b[0m \u001b[0;34m=\u001b[0m  \u001b[0mvector1\u001b[0m \u001b[0;34m+\u001b[0m \u001b[0mvector2\u001b[0m\u001b[0;34m\u001b[0m\u001b[0m\n\u001b[0m\u001b[1;32m      5\u001b[0m \u001b[0mvector5\u001b[0m \u001b[0;34m=\u001b[0m \u001b[0mvector1\u001b[0m\u001b[0;34m*\u001b[0m\u001b[0mvector2\u001b[0m\u001b[0;34m\u001b[0m\u001b[0m\n",
      "\u001b[0;31mTypeError\u001b[0m: unsupported operand type(s) for +: 'instance' and 'instance'"
     ]
    }
   ],
   "source": [
    "vector1, vector2, vector3 = MuggleVector2D(2, 3), MuggleVector2D(5, 6), MuggleVector2D(9,10)\n",
    "\n",
    "# исполнение кода приведет к ошибкам\n",
    "vector4 =  vector1 + vector2\n",
    "vector5 = vector1*vector2"
   ]
  },
  {
   "cell_type": "markdown",
   "metadata": {},
   "source": [
    "Для определения действий арифметических (и прочих) операторов для объектов собственноручно написанных классов применяются т.н. __магические методы__."
   ]
  },
  {
   "cell_type": "markdown",
   "metadata": {
    "nbpresent": {
     "id": "6fe7b895-bd25-4635-95d9-edc34e4f896a"
    }
   },
   "source": [
    "## Магические методы\n",
    "Служат для переопределения действий стандартных операторов \"+\", \"-\", \"*\", \"/\", \"()\", \"[]\" итд при применении их к объектам класса, в которых определены соответсвующие магические методы. Каким образом определять работу данных методов? Как угодно, в зависимости от смысла операции для объектов конкретного класса (\"object1 + object2\"): это может быть класс 2D-вектор, комплексное число, кватернион, полином, дифференциальный оператор, ..."
   ]
  },
  {
   "cell_type": "code",
   "execution_count": 117,
   "metadata": {
    "collapsed": false,
    "nbpresent": {
     "id": "206d0738-b198-4da4-a832-3ea736b14642"
    }
   },
   "outputs": [
    {
     "ename": "NameError",
     "evalue": "name 'a' is not defined",
     "output_type": "error",
     "traceback": [
      "\u001b[0;31m---------------------------------------------------------------------------\u001b[0m",
      "\u001b[0;31mNameError\u001b[0m                                 Traceback (most recent call last)",
      "\u001b[0;32m<ipython-input-117-2339ebebffd4>\u001b[0m in \u001b[0;36m<module>\u001b[0;34m()\u001b[0m\n\u001b[1;32m      5\u001b[0m \u001b[0;31m# слева - стандартное действие операторов определено с помощью магических методов\u001b[0m\u001b[0;34m\u001b[0m\u001b[0;34m\u001b[0m\u001b[0m\n\u001b[1;32m      6\u001b[0m \u001b[0;31m# справа - что происходит за кулисами: явный вызов магических методов\u001b[0m\u001b[0;34m\u001b[0m\u001b[0;34m\u001b[0m\u001b[0m\n\u001b[0;32m----> 7\u001b[0;31m \u001b[0mc\u001b[0m \u001b[0;34m=\u001b[0m \u001b[0ma\u001b[0m \u001b[0;34m+\u001b[0m \u001b[0mb\u001b[0m    \u001b[0;31m#  c = a.--add--(b)\u001b[0m\u001b[0;34m\u001b[0m\u001b[0m\n\u001b[0m\u001b[1;32m      8\u001b[0m \u001b[0;34m\u001b[0m\u001b[0m\n\u001b[1;32m      9\u001b[0m \u001b[0mc\u001b[0m \u001b[0;34m=\u001b[0m \u001b[0ma\u001b[0m \u001b[0;34m-\u001b[0m \u001b[0mb\u001b[0m    \u001b[0;31m#  c = a.--sub--(b)\u001b[0m\u001b[0;34m\u001b[0m\u001b[0m\n",
      "\u001b[0;31mNameError\u001b[0m: name 'a' is not defined"
     ]
    }
   ],
   "source": [
    "# c, a, b --- объекты собственноручно написанных произвольных классов, \n",
    "# в которых определены магические методы\n",
    "\n",
    "# нерабочий код\n",
    "# слева - стандартное действие операторов определено с помощью магических методов\n",
    "# справа - что происходит за кулисами: явный вызов магических методов\n",
    "c = a + b    #  c = a.--add--(b)\n",
    "\n",
    "c = a - b    #  c = a.--sub--(b)\n",
    "\n",
    "c = a*b      #  c = a.--mul--(b)\n",
    "\n",
    "c = a/b      #  c = a.--div--(b)\n",
    "\n",
    "c = a**e     #  c = a.--pow--(e)"
   ]
  },
  {
   "cell_type": "markdown",
   "metadata": {
    "nbpresent": {
     "id": "4171992b-cf6f-40f7-a663-1eafb8fc0b16"
    }
   },
   "source": [
    "Cписок магических методов, соответствующих операторам сравнения:"
   ]
  },
  {
   "cell_type": "code",
   "execution_count": 118,
   "metadata": {
    "collapsed": false,
    "nbpresent": {
     "id": "6d39fa62-a28a-43d1-aa0c-3b939bd9d656"
    }
   },
   "outputs": [
    {
     "ename": "NameError",
     "evalue": "name 'a' is not defined",
     "output_type": "error",
     "traceback": [
      "\u001b[0;31m---------------------------------------------------------------------------\u001b[0m",
      "\u001b[0;31mNameError\u001b[0m                                 Traceback (most recent call last)",
      "\u001b[0;32m<ipython-input-118-b2adc31bc773>\u001b[0m in \u001b[0;36m<module>\u001b[0;34m()\u001b[0m\n\u001b[1;32m      1\u001b[0m \u001b[0;31m# нерабочий код\u001b[0m\u001b[0;34m\u001b[0m\u001b[0;34m\u001b[0m\u001b[0m\n\u001b[0;32m----> 2\u001b[0;31m \u001b[0ma\u001b[0m \u001b[0;34m==\u001b[0m \u001b[0mb\u001b[0m       \u001b[0;31m#  a.__eq__(b)\u001b[0m\u001b[0;34m\u001b[0m\u001b[0m\n\u001b[0m\u001b[1;32m      3\u001b[0m \u001b[0;34m\u001b[0m\u001b[0m\n\u001b[1;32m      4\u001b[0m \u001b[0ma\u001b[0m \u001b[0;34m!=\u001b[0m \u001b[0mb\u001b[0m       \u001b[0;31m#  a.__ne__(b)\u001b[0m\u001b[0;34m\u001b[0m\u001b[0m\n\u001b[1;32m      5\u001b[0m \u001b[0;34m\u001b[0m\u001b[0m\n",
      "\u001b[0;31mNameError\u001b[0m: name 'a' is not defined"
     ]
    }
   ],
   "source": [
    "# нерабочий код\n",
    "a == b       #  a.__eq__(b)\n",
    "\n",
    "a != b       #  a.__ne__(b)\n",
    "\n",
    "a < b        #  a.__lt__(b)\n",
    "\n",
    "a <= b       #  a.__le__(b)\n",
    "\n",
    "a > b        #  a.__gt__(b)\n",
    "\n",
    "a >= b       #  a.__ge__(b)"
   ]
  },
  {
   "cell_type": "markdown",
   "metadata": {
    "nbpresent": {
     "id": "22b289bf-e3bb-4ccd-b878-e822a59dc596"
    }
   },
   "source": [
    "### Пример 2: класс для векторов на плоскости с магическими методами"
   ]
  },
  {
   "cell_type": "code",
   "execution_count": 119,
   "metadata": {
    "collapsed": true,
    "nbpresent": {
     "id": "100faa7f-6115-40ff-84fb-296c7dfbb07c"
    }
   },
   "outputs": [],
   "source": [
    "class MagicVector2D:\n",
    "    def __init__(self, x, y):\n",
    "        self._x = x;  \n",
    "        self._y = y\n",
    "\n",
    "    def __add__(self, other): # other --- также объект класса Vector2D\n",
    "        return MagicVector2D(self._x + other._x, self._y + other._y)\n",
    "\n",
    "    def __sub__(self, other):\n",
    "        return MagicVector2D(self._x - other._x, self._y - other._y)\n",
    "\n",
    "    def __mul__(self, other):\n",
    "        return self._x*other._x + self._y*other._y\n",
    "\n",
    "    def __abs__(self):\n",
    "        return m.sqrt(self._x**2 + self._y**2)\n",
    "\n",
    "    def __eq__(self, other):\n",
    "        return self._x == other._x and self._y == other._y\n",
    "\n",
    "    # переопределение оператора print, стоящего перед объектом\n",
    "    def __str__(self):\n",
    "        return '(%g, %g)' % (self._x, self._y)"
   ]
  },
  {
   "cell_type": "code",
   "execution_count": 151,
   "metadata": {
    "collapsed": false,
    "nbpresent": {
     "id": "8585d84a-d914-4a7a-a32b-fb686b6dface"
    }
   },
   "outputs": [
    {
     "name": "stdout",
     "output_type": "stream",
     "text": [
      "(2.1, 2.4) (-0.7, 0.6)\n",
      "2.33 0.921954445729\n",
      "False\n"
     ]
    }
   ],
   "source": [
    "# тестирование класса и его магических методов\n",
    "\n",
    "vector1 = MagicVector2D(0.7, 1.5)\n",
    "vector2 = MagicVector2D(1.4, 0.9)\n",
    "vector3 = vector1 + vector2\n",
    "vector4 = vector1 - vector2\n",
    "dotProduct1 = vector1*vector2\n",
    "exampleLength = abs(vector4)\n",
    "\n",
    "\n",
    "print vector3, vector4 # здесь действие оператора определяется магическим методом __str__\n",
    "print dotProduct1, exampleLength # здесь - оператор действует стандартным образом\n",
    "print vector4 == vector2 # здесь - также стандартным образом"
   ]
  },
  {
   "cell_type": "markdown",
   "metadata": {
    "nbpresent": {
     "id": "3dc18250-5af1-42b2-adf9-7fa467b64f99"
    }
   },
   "source": [
    "__Использование версии класса с магическими методами и короче и привычней.__"
   ]
  },
  {
   "cell_type": "markdown",
   "metadata": {
    "nbpresent": {
     "id": "43ca5ea5-1575-4b5c-82fc-857561885920"
    }
   },
   "source": [
    "### Пример 3: реализация класса комплексных чисел.\n",
    "Хоть в средствах языка уже представлен функционал для работы с комплексными числами - пример ручной реализации не помешает. Действуем аналогично реализации класса вектора на плоскости:\n",
    "\n",
    "__Поля класса__:\n",
    "* вещественная часть __re__\n",
    "* мнимая часть __im__\n",
    "* модуль\n",
    "\n",
    "__Методы класса__:\n",
    "* сложить 2 комплексных числа\n",
    "* вычесть одно комплексное число из другого\n",
    "* умножить одно число на другое\n",
    "* вычислить модуль комплексного числа\n",
    "* сравнить 2 комплексных числа\n",
    "* вывести на экран вещественную и мнимую части\n",
    "* ... (по-усмотрению)\n",
    "\n",
    "### Реализация, сразу с использованием магических методов:"
   ]
  },
  {
   "cell_type": "code",
   "execution_count": 152,
   "metadata": {
    "collapsed": true,
    "nbpresent": {
     "id": "6db8b6a5-593a-44da-9cee-bc216369b1b6"
    }
   },
   "outputs": [],
   "source": [
    "class Complex:\n",
    "    def __init__(self, re, im):\n",
    "        self._re = re\n",
    "        self._im = im\n",
    "\n",
    "    def __add__(self, other):\n",
    "        return Complex(self._re + other._re,\n",
    "                       self._im + other._im)\n",
    "\n",
    "    def __sub__(self, other):\n",
    "        return Complex(self._re - other._re,\n",
    "                       self._im - other._im)\n",
    "\n",
    "    def __mul__(self, other):\n",
    "        return Complex(self._re*other._re - self._im*other._im,\n",
    "                       self._im*other._re + self._re*other._im)\n",
    "\n",
    "    def __div__(self, other):\n",
    "        aRe, aIm, bRe, bIm = self._re, self._im, \\\n",
    "                         other._re, other._im # для краткости\n",
    "       \n",
    "        normSquared = float(bRe**2 + bIm**2)\n",
    "        return Complex((aRe*bRe + aIm*bIm)/normSquared, (aIm*bRe - aRe*bIm)/normSquared)\n",
    "    \n",
    "    def __abs__(self):\n",
    "        self._norm = m.sqrt(self._re**2 + self._im**2)\n",
    "        return m.sqrt(self._re**2 + self._im**2)\n",
    "\n",
    "    # определяет обратный элемент на множестве комплексных чисел элементу self\n",
    "    def __neg__(self):\n",
    "        return Complex(-self._re, -self._im)\n",
    "\n",
    "    def __eq__(self, other):\n",
    "        return self._re == other._re and \\\n",
    "               self._im == other._im\n",
    "\n",
    "    def __str__(self):\n",
    "        return '(%g, %g)' % (self._re, self._im)\n",
    "\n",
    "    def __repr__(self):\n",
    "        return 'Complex' + str(self)"
   ]
  },
  {
   "cell_type": "markdown",
   "metadata": {
    "nbpresent": {
     "id": "1bbb6bff-4442-4d87-a55d-e784ee2b8428"
    }
   },
   "source": [
    "Класс, реализующий вещественные числа - __наследуем__:"
   ]
  },
  {
   "cell_type": "code",
   "execution_count": 153,
   "metadata": {
    "collapsed": false,
    "nbpresent": {
     "id": "d181e9fa-76c1-4de5-b55e-c25a1f3d10b8"
    }
   },
   "outputs": [],
   "source": [
    "class Real(Complex):\n",
    "    def __init__(self, re): # переопределяем конструктор\n",
    "        Complex.__init__(self, re, 0.0)\n",
    "    \n",
    "    def __str__(self): # переопределяем вывод полей на экран\n",
    "        return '%g' % self._re"
   ]
  },
  {
   "cell_type": "code",
   "execution_count": 154,
   "metadata": {
    "collapsed": false
   },
   "outputs": [
    {
     "name": "stdout",
     "output_type": "stream",
     "text": [
      "#0 (1, 3) \tComplex(1, 3)\n",
      "#1 (2, 4) \tComplex(2, 4)\n",
      "#2 (3, 7) \tComplex(3, 7)\n",
      "#3 (-10, 10) \tComplex(-10, 10)\n",
      "#4 (0.7, 0.1) \tComplex(0.7, 0.1)\n",
      "#5 7.61577310586 \t7.615773105863909\n",
      "#6 (-1, -3) \tComplex(-1, -3)\n"
     ]
    }
   ],
   "source": [
    "# тестирование класса Complex и Real и их магических методов\n",
    "number1 = Complex(1., 3.)\n",
    "number2 = Complex(2., 4.)\n",
    "\n",
    "number3 = number1 + number2\n",
    "number4 = number1*number2\n",
    "number5 = number1/number2\n",
    "number6 = abs(number3)\n",
    "number7 = -number1\n",
    "\n",
    "listOfNumbers = [number1, number2, number3, number4, number5, number6, number7]\n",
    "\n",
    "for number, i in zip(listOfNumbers, range(len(listOfNumbers))):\n",
    "    print '#%d' % i, number, '\\t', repr(number)"
   ]
  },
  {
   "cell_type": "markdown",
   "metadata": {
    "nbpresent": {
     "id": "176efcfc-deaf-475b-990a-0b6ece09eda7"
    }
   },
   "source": [
    "__Проблема__: что делать, если хотим взаимодейстовать с \"обыкновенными\" вещественными числами?"
   ]
  },
  {
   "cell_type": "code",
   "execution_count": 155,
   "metadata": {
    "collapsed": false,
    "nbpresent": {
     "id": "8c96495f-7cc9-4642-a082-2dca40b7786a"
    }
   },
   "outputs": [
    {
     "ename": "AttributeError",
     "evalue": "'float' object has no attribute '_re'",
     "output_type": "error",
     "traceback": [
      "\u001b[0;31m---------------------------------------------------------------------------\u001b[0m",
      "\u001b[0;31mAttributeError\u001b[0m                            Traceback (most recent call last)",
      "\u001b[0;32m<ipython-input-155-01552a08e5b7>\u001b[0m in \u001b[0;36m<module>\u001b[0;34m()\u001b[0m\n\u001b[0;32m----> 1\u001b[0;31m \u001b[0mnumber1\u001b[0m \u001b[0;34m=\u001b[0m \u001b[0mComplex\u001b[0m\u001b[0;34m(\u001b[0m\u001b[0;36m1.\u001b[0m\u001b[0;34m,\u001b[0m \u001b[0;36m2.\u001b[0m\u001b[0;34m)\u001b[0m \u001b[0;34m+\u001b[0m \u001b[0;36m4.7\u001b[0m \u001b[0;31m# исполнение кода приведет к ошибке\u001b[0m\u001b[0;34m\u001b[0m\u001b[0m\n\u001b[0m\u001b[1;32m      2\u001b[0m \u001b[0;32mprint\u001b[0m \u001b[0mnumber1\u001b[0m\u001b[0;34m\u001b[0m\u001b[0m\n",
      "\u001b[0;32m<ipython-input-152-891955b61c67>\u001b[0m in \u001b[0;36m__add__\u001b[0;34m(self, other)\u001b[0m\n\u001b[1;32m      5\u001b[0m \u001b[0;34m\u001b[0m\u001b[0m\n\u001b[1;32m      6\u001b[0m     \u001b[0;32mdef\u001b[0m \u001b[0m__add__\u001b[0m\u001b[0;34m(\u001b[0m\u001b[0mself\u001b[0m\u001b[0;34m,\u001b[0m \u001b[0mother\u001b[0m\u001b[0;34m)\u001b[0m\u001b[0;34m:\u001b[0m\u001b[0;34m\u001b[0m\u001b[0m\n\u001b[0;32m----> 7\u001b[0;31m         return Complex(self._re + other._re,\n\u001b[0m\u001b[1;32m      8\u001b[0m                        self._im + other._im)\n\u001b[1;32m      9\u001b[0m \u001b[0;34m\u001b[0m\u001b[0m\n",
      "\u001b[0;31mAttributeError\u001b[0m: 'float' object has no attribute '_re'"
     ]
    }
   ],
   "source": [
    "number1 = Complex(1., 2.) + 4.7 # исполнение кода приведет к ошибке\n",
    "print number1"
   ]
  },
  {
   "cell_type": "markdown",
   "metadata": {
    "nbpresent": {
     "id": "8904f36e-7915-481b-bad6-9aa2be80b423"
    }
   },
   "source": [
    "__Решение__: переопределяем соответствующие методы согласно образцу ниже:"
   ]
  },
  {
   "cell_type": "code",
   "execution_count": 125,
   "metadata": {
    "collapsed": false,
    "nbpresent": {
     "id": "bd376ae4-39c5-4557-ba02-696b4568a837"
    }
   },
   "outputs": [
    {
     "ename": "SyntaxError",
     "evalue": "invalid syntax (<ipython-input-125-0d66b730a3b7>, line 6)",
     "output_type": "error",
     "traceback": [
      "\u001b[0;36m  File \u001b[0;32m\"<ipython-input-125-0d66b730a3b7>\"\u001b[0;36m, line \u001b[0;32m6\u001b[0m\n\u001b[0;31m    ....\u001b[0m\n\u001b[0m    ^\u001b[0m\n\u001b[0;31mSyntaxError\u001b[0m\u001b[0;31m:\u001b[0m invalid syntax\n"
     ]
    }
   ],
   "source": [
    "# нерабочий код\n",
    "class Complex: \n",
    "\n",
    "# пример на функции сложения\n",
    "\n",
    "    ....\n",
    "    \n",
    "    def __add__(self, other):\n",
    "            \n",
    "            # в функции isinstance: 1-й аргумент - что нужно проверить; \n",
    "            # 2-й -- кортеж из типов,\\\n",
    "            # принадлежность к которым проверяются\n",
    "            if isinstance(other, (float, int)):\n",
    "                other = Complex(other) # приведение к типу Complex\n",
    "            \n",
    "            # если other уже типа Complex - все в порядке,\\\n",
    "            # дополнительно делать ничего не требуется\n",
    "            return Complex(self._re + other._re, self._im + other._im)\n",
    "    \n",
    "    # далее переопределяем соответсвующие функции\n",
    "    ....\n",
    "    ....\n",
    "    ...."
   ]
  },
  {
   "cell_type": "markdown",
   "metadata": {
    "collapsed": true,
    "nbpresent": {
     "id": "8724473e-2f99-4fde-8788-4bebe76c7ea3"
    }
   },
   "source": [
    "# Вопросы?"
   ]
  }
 ],
 "metadata": {
  "anaconda-cloud": {},
  "kernelspec": {
   "display_name": "Python [default]",
   "language": "python",
   "name": "python2"
  },
  "language_info": {
   "codemirror_mode": {
    "name": "ipython",
    "version": 2
   },
   "file_extension": ".py",
   "mimetype": "text/x-python",
   "name": "python",
   "nbconvert_exporter": "python",
   "pygments_lexer": "ipython2",
   "version": "2.7.12"
  }
 },
 "nbformat": 4,
 "nbformat_minor": 1
}
