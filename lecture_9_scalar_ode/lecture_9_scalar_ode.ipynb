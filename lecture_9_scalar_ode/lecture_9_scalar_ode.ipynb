{
 "cells": [
  {
   "cell_type": "markdown",
   "metadata": {},
   "source": [
    "__Автор__: Карпаев Алексей, ассистент кафедры информатики и вычислительной математики."
   ]
  },
  {
   "cell_type": "markdown",
   "metadata": {},
   "source": [
    "# Метод конечных разностей для численного решения ОДУ: программная реализация, ОО подход¶"
   ]
  },
  {
   "cell_type": "markdown",
   "metadata": {},
   "source": [
    "## Математическая постановка задачи\n",
    "\n",
    "В данной лекции будем рассматривать __задачу Коши для автономного ОДУ__:\n",
    "\n",
    "$$ \\frac{d u}{d t} = f\\left(u \\right), $$\n",
    "$$ u \\left( 0 \\right) = u_0 $$\n",
    "$$ t > 0 $$\n",
    "В качестве конкретного примера возьмем __логистическое уравнение__, имеющее правую часть следующего вида:\n",
    "$$\n",
    "f \\left( u; \\alpha, R \\right) = \\alpha \\cdot u \\cdot \\left( 1 - \\frac{u}{R} \\right)\n",
    "$$\n",
    "\n",
    "Уравнение описывает динамику популяции с учетом влияния факторов окружающей среды, ограничивающих экспоненциальный рост населения со временем."
   ]
  },
  {
   "cell_type": "markdown",
   "metadata": {},
   "source": [
    "## Процесс численного решения уравнения\n",
    "Производим дискретизацию расчетной области: вводим равномерную сетку с шагом $\\Delta t = \\frac{T}{N}$ c числом отрезков разбиения $N$. Для нахождения численного решения будем рассматривать следующий набор численных методов:\n",
    "* Явный метод Эйлера 1-го порядка точности\n",
    "* Метод Эйлера с пересчетом 2-го порядка точности\n",
    "* Один из явных методов Рунге-Кутты 3-го порядка точности\n",
    "* Один из явных методов Рунге-Кутты 4-го порядка точности\n",
    "* Неявный метод трапеций 2-го порядка точности\n",
    "\n",
    "Все методы являются __одношаговыми__ и относятся к семейству __методов Рунге-Кутты__."
   ]
  },
  {
   "cell_type": "markdown",
   "metadata": {},
   "source": [
    "## Программная реализация\n",
    "### Процедурный подход"
   ]
  },
  {
   "cell_type": "code",
   "execution_count": null,
   "metadata": {
    "collapsed": true
   },
   "outputs": [],
   "source": [
    "import numpy as np\n",
    "import matplotlib.pyplot as plt\n",
    "plt.rc('font', size=20)"
   ]
  },
  {
   "cell_type": "code",
   "execution_count": null,
   "metadata": {
    "collapsed": true
   },
   "outputs": [],
   "source": [
    "# параметры сетки и уравнения\n",
    "numBlocks = 10\n",
    "tEnd = 40.\n",
    "dt = float(tEnd)/float(numBlocks)\n",
    "initialValue = 0.1"
   ]
  },
  {
   "cell_type": "code",
   "execution_count": 1,
   "metadata": {
    "collapsed": true
   },
   "outputs": [],
   "source": [
    "class LogisticRightHandSide:\n",
    "        \n",
    "    def SetAlpha(self, alpha):\n",
    "        self._alpha = float(alpha)\n",
    "        \n",
    "    def SetR(self, R):\n",
    "        self._R = float(R)\n",
    "    \n",
    "    def __call__(self, u):\n",
    "        return self._alpha*u*(1. - u/self._R)\n",
    "\n",
    "\n",
    "def PlotSolution(timeArray, solutionArray, title):\n",
    "    plt.plot(timeArray, 100*solutionArray, '-', linewidth=4) ## 100 --- for %\n",
    "    plt.grid('on')\n",
    "    plt.title(title)\n",
    "    plt.xlabel('Время, с')\n",
    "    plt.ylabel('Население, %')\n",
    "    plt.show()"
   ]
  },
  {
   "cell_type": "code",
   "execution_count": null,
   "metadata": {
    "collapsed": true
   },
   "outputs": [],
   "source": [
    "rhs1 = LogisticRightHandSide()\n",
    "rhs1.SetAlpha(0.2)\n",
    "rhs1.SetR(1.)"
   ]
  },
  {
   "cell_type": "markdown",
   "metadata": {},
   "source": [
    "Реализация функций для численного решения различными методами:"
   ]
  },
  {
   "cell_type": "code",
   "execution_count": null,
   "metadata": {
    "collapsed": true
   },
   "outputs": [],
   "source": [
    "def SolveViaForwardEuler(f, tEnd, numBlocks, initialValue):\n",
    "    dt = float(tEnd)/numBlocks\n",
    "    timeArray = np.linspace(0, tEnd, numBlocks + 1)\n",
    "    solutionArray = np.zeros(numBlocks + 1)\n",
    "    \n",
    "    solutionArray[0] = initialValue\n",
    "    # timestepping\n",
    "    for i in range(numBlocks):\n",
    "        solutionArray[i + 1] = solutionArray[i] + dt*f(solutionArray[i])\n",
    "    return timeArray, solutionArray\n",
    "\n",
    "# запуск расчета\n",
    "timeArrayFE, solutionArrayFE = SolveViaForwardEuler(rhs1, tEnd, numBlocks, initialValue)\n",
    "\n",
    "\n",
    "#############################################################################\n",
    "def SolveViaPredictorCorrectorEuler(f, tEnd, numBlocks, initialValue):\n",
    "    dt = float(tEnd)/numBlocks\n",
    "    timeArray = np.linspace(0, tEnd, numBlocks + 1)\n",
    "    solutionArray = np.zeros(numBlocks + 1)\n",
    "    \n",
    "    solutionArray[0] = initialValue\n",
    "    # timesteping\n",
    "    for i in range(numBlocks):\n",
    "        uStar = solutionArray[i] + dt*f(solutionArray[i])\n",
    "        solutionArray[i + 1] = solutionArray[i] + dt/2. \\\n",
    "                            * (f(solutionArray[i]) + f(uStar))\n",
    "    \n",
    "    return timeArray, solutionArray\n",
    "\n",
    "                            \n",
    "# запуск расчета\n",
    "timeArrayPCE, solutionArrayPCE = SolveViaPredictorCorrectorEuler(rhs1, tEnd, numBlocks, initialValue)\n",
    "\n",
    "\n",
    "\n",
    "###################################################################\n",
    "def SolveViaRK4(f, tEnd, numBlocks, initialValue):\n",
    "    dt = float(tEnd)/numBlocks\n",
    "    timeArray = np.linspace(0, tEnd, numBlocks+1)\n",
    "    solutionArray = np.zeros(numBlocks+1)\n",
    "    \n",
    "    solutionArray[0] = initialValue\n",
    "    # timestepping\n",
    "    for i in range(numBlocks):\n",
    "        k1 = f(solutionArray[i])\n",
    "        k2 = f(solutionArray[i] + dt/2.*k1)\n",
    "        k3 = f(solutionArray[i] + dt/2.*k2)\n",
    "        k4 = f(solutionArray[i] + dt*k3)\n",
    "        \n",
    "        solutionArray[i + 1] = solutionArray[i] + dt/6. * (k1 + 2.*k2 + 2.*k3 + k4)    \n",
    "    \n",
    "    return timeArray, solutionArray\n",
    "\n",
    "# запуск расчета\n",
    "timeArrayRK4, solutionArrayRK4 = SolveViaRK4(rhs1, tEnd, numBlocks, initialValue)"
   ]
  },
  {
   "cell_type": "code",
   "execution_count": null,
   "metadata": {
    "collapsed": true
   },
   "outputs": [],
   "source": [
    "# построение графиков численных решений\n",
    "plt.figure(figsize=(11,7))\n",
    "plt.title('Populations dynamics')\n",
    "plt.plot(timeArrayFE, solutionArrayFE, label='Forward Euler')\n",
    "plt.plot(timeArrayPCE, solutionArrayPCE, label='Predictor-Corrector Euler')\n",
    "plt.plot(timeArrayRK4, solutionArrayRK4, label='Runge-Kutta 4')\n",
    "plt.legend()\n",
    "plt.xlabel('Time, s')\n",
    "plt.ylabel('Population')\n",
    "plt.grid('on')\n",
    "plt.show()"
   ]
  },
  {
   "cell_type": "markdown",
   "metadata": {},
   "source": [
    "### Объектно-ориентированный подход"
   ]
  },
  {
   "cell_type": "markdown",
   "metadata": {},
   "source": [
    "Рассмотрим реализацию класса для проведения вычислений с помощью явного метода Эйлера. Класс __ForwardEuler__:"
   ]
  },
  {
   "cell_type": "markdown",
   "metadata": {},
   "source": [
    "__Поля класса__:\n",
    "* функция правой части ОДУ\n",
    "* начальное условие\n",
    "* множество точек сетки и ее параметры: кол-во точек, отрезков, шаг сетки\n",
    "* массив для хранения значений численного решения\n",
    "* начальный и конечный моменты времени\n",
    "* ...(по Вашему усмотрению)\n",
    "\n",
    "__Методы класса__:\n",
    "* конструктор\n",
    "* сеттеры для функции правой части, начального условия, параметров сетки \n",
    "* решить ОДУ (timestepping - цикл по точкам сетки)\n",
    "* построить график численного решения\n",
    "* ...(по Вашему усмотрению)"
   ]
  },
  {
   "cell_type": "code",
   "execution_count": null,
   "metadata": {
    "collapsed": true
   },
   "outputs": [],
   "source": [
    "import timeit\n",
    "\n",
    "class ForwardEulerVersion1:\n",
    "    \n",
    "    def __init__(self):\n",
    "        print('A blanc object of class ' + self.__class__.__name__ + ' is created.')\n",
    "        \n",
    "    def SetRightHandSide(self, f):\n",
    "        self._f = f\n",
    "    \n",
    "    def SetInitialCondition(self, value):\n",
    "        self._initialValue = value\n",
    "       \n",
    "    def SetGrid(self, numBlocks, tStart, tEnd):\n",
    "        self._numBlocks, self._numPoints = numBlocks, numBlocks + 1\n",
    "        self._dt = float(tEnd)/float(self._numBlocks)\n",
    "        self._solutionArray = np.zeros(self._numPoints)\n",
    "        self._timeArray = np.linspace(tStart, tEnd, self._numPoints)\n",
    "        self._tStart, self._tEnd = tStart, tEnd\n",
    "        \n",
    "        # вспомогательная переменная, используется для вывода прогресса решения на экран\n",
    "        self._isLessThanloo = True\n",
    "        if self._numBlocks > 100:\n",
    "            self._isLessThanloo = False\n",
    "        \n",
    "        \n",
    "    \n",
    "    def Solve(self):\n",
    "        #self._counter = 0\n",
    "        print('Start of timestepping via %s method...' % self.__class__.__name__)\n",
    "        self._solutionArray[0] = self._initialValue\n",
    "        \n",
    "        start = timeit.default_timer()\n",
    "        for i in range(self._numBlocks):\n",
    "            \n",
    "            # для краткости\n",
    "            uOld, dt, f, t = self._solutionArray[i], self._dt, \\\n",
    "                             self._f, self._timeArray\n",
    "                                \n",
    "            # шаг явного метода Эйлера \n",
    "            self._solutionArray[i + 1] = uOld + dt*f(uOld)\n",
    "            #self._counter += 1\n",
    "            \n",
    "            # каждые 100 шагов - вывод на экран\n",
    "            if self._isLessThanloo or ((i + 1) % (self._numBlocks//100) == 0):\n",
    "                print('Step #%d completed.' % (i + 1))\n",
    "            \n",
    "        end = float(timeit.default_timer() - start)\n",
    "        print('Timestepping complete; calculations took %.2e s.' % end)\n",
    "    \n",
    "        return self._solutionArray, self._timeArray\n",
    "    \n",
    "    \n",
    "    def PlotSolution(self):\n",
    "        plt.figure(figsize=(11,7))\n",
    "        plt.plot(self._timeArray, self._solutionArray, '-', linewidth=4)\n",
    "        plt.grid('on')\n",
    "        plt.title('Solution via %s method' % self.__class__.__name__)\n",
    "        plt.xlabel('Time, s')\n",
    "        plt.ylabel('Population')\n",
    "        plt.show()"
   ]
  },
  {
   "cell_type": "markdown",
   "metadata": {},
   "source": [
    "Функцию рассчета численного решения на неявном слое по времени можно оформить как отдельный метод класса __AdvanceNextStep__:"
   ]
  },
  {
   "cell_type": "code",
   "execution_count": null,
   "metadata": {
    "collapsed": true
   },
   "outputs": [],
   "source": [
    "class ForwardEulerVersion2:\n",
    "    \n",
    "    def __init__(self):\n",
    "        print('A blanc object of class ' + self.__class__.__name__ + ' is created.')\n",
    "        \n",
    "    def SetRightHandSide(self, f):\n",
    "        self._f = f\n",
    "    \n",
    "    def SetInitialCondition(self, value):\n",
    "        self._initialValue = value\n",
    "       \n",
    "    def SetGrid(self, numBlocks, tStart, tEnd):\n",
    "        self._numBlocks, self._numPoints = numBlocks, numBlocks + 1\n",
    "        self._dt = float(tEnd)/float(self._numBlocks)\n",
    "        self._solutionArray = np.zeros(self._numPoints)\n",
    "        self._timeArray = np.linspace(tStart, tEnd, self._numPoints)\n",
    "        self._tStart, self._tEnd = tStart, tEnd\n",
    "        \n",
    "        # вспомогательная переменная, используется для вывода прогресса решения на экран\n",
    "        self._isLessThanloo = True\n",
    "        if self._numBlocks > 100:\n",
    "            self._isLessThanloo = False\n",
    "        \n",
    "        \n",
    "    def Solve(self):\n",
    "        print('Start of timestepping via %s method...' % self.__class__.__name__)\n",
    "        self._solutionArray[0] = self._initialValue\n",
    "        \n",
    "        start = timeit.default_timer()\n",
    "        for i in range(self._numBlocks):\n",
    "            self._solutionArray[i + 1] = self.AdvanceNextStep(i)\n",
    "            \n",
    "            # каждые 100 шагов - вывод на экран\n",
    "            if self._isLessThanloo or ((i + 1) % (self._numBlocks//100) == 0):\n",
    "                print('Step #%d completed.' % (i + 1))\n",
    "            \n",
    "        end = float(timeit.default_timer() - start)\n",
    "        print('Timestepping complete; calculations took %.2e s.' % end)\n",
    "    \n",
    "        return self._solutionArray, self._timeArray\n",
    "    \n",
    "    \n",
    "    def AdvanceNextStep(self, i):\n",
    "        # для краткости\n",
    "        uOld, dt, f = self._solutionArray[i], self._dt, self._f,  \n",
    "        # шаг явного метода Эйлера\n",
    "        uNew = uOld + dt*f(uOld)\n",
    "        \n",
    "        return uNew\n",
    "        \n",
    "    \n",
    "    def PlotSolution(self):\n",
    "        plt.figure(figsize=(11,7))\n",
    "        plt.plot(self._timeArray, self._solutionArray, '-', linewidth=4)\n",
    "        plt.grid('on')\n",
    "        plt.title('Solution via %s method' % self.__class__.__name__)\n",
    "        plt.xlabel('Time, s')\n",
    "        plt.ylabel('Population')\n",
    "        plt.show()"
   ]
  },
  {
   "cell_type": "markdown",
   "metadata": {},
   "source": [
    "Теперь протестируем последнюю версию класса-солвера на логистическом уравнении. Говорящие имена методов класса позволяют стороннему пользователю/разработчику разобраться в коде модуля, в котором обычно запускают расчеты:"
   ]
  },
  {
   "cell_type": "code",
   "execution_count": null,
   "metadata": {
    "collapsed": true
   },
   "outputs": [],
   "source": [
    "listOfMethods = [ForwardEulerVersion2()]\n",
    "\n",
    "for method in listOfMethods:\n",
    "    method.SetRightHandSide(rhs1)\n",
    "    method.SetInitialCondition(0.1)\n",
    "    method.SetGrid(numBlocks=200, tStart=0., tEnd=40.)\n",
    "    method.Solve()\n",
    "    method.PlotSolution()"
   ]
  },
  {
   "cell_type": "markdown",
   "metadata": {},
   "source": [
    "В задании потребуется написать классы для одношаговых методов численного решения ОДУ: несколько явных и 1 неявный (метод трапеций 2-го порядка точности).\n",
    "\n",
    "## Примечания по реализации неявного метода трапеций\n",
    "Формула для проведения вычислений:\n",
    "\n",
    "$$ u_{n+1} = u_n + \\frac{\\Delta t}{2} \\left( f(u_n, t_n) + f(u_{n+1}, t_{n+1}) \\right), \\quad n = 0,...,N $$ \n",
    "\n",
    "Для решения получившегося нелинейного уравнения относительно $u_{n+1}$ использовать итерационный метод Ньютона:\n",
    "\n",
    "$$ F(u_{n+1}) \\equiv  u_{n+1} - \\frac{\\Delta t}{2} f(u_{n+1}, t_{n+1}) - u_n - \\frac{\\Delta t}{2} f(u_n, t_n) = 0$$\n",
    "\n",
    "$$ u_{n+1}^{(k+1)} = u_{n+1}^{(k)} - \\frac{F( u_{n+1}^{(k)} )}{ F'(u_{n+1}^{(k)}) } $$ \n",
    "\n",
    "$$\n",
    "k = 0,...,K \\quad   \\Vert u_{n+1}^{(K)} - u_{n+1}^{(K-1)} \\Vert \\leq \\varepsilon\n",
    "$$\n",
    "\n",
    "Для ускорения сходимости начальное приближение рассчитывать по формуле явного метода Эйлера:\n",
    "\n",
    "$$ u_{n+1}^{(0)} = u_n + \\Delta t  f(u_n, t_n) $$\n",
    "\n",
    "Для приближенного вычисления производной использовать формулу центральной разности 2-го порядка точности:\n",
    "\n",
    "$$\n",
    "    F'(u_{n+1}^{(k)}) \\approx F'_{num}(u_{n+1}^{(k)}) = \\frac{F(u_{n+1}^{(k)} + h) - F(u_{n+1}^{(k)} - h)}{2h}\n",
    "$$\n",
    "\n",
    "Решение нелинейного уравнения с помощью метода Ньютона можно оформить как внутри класса, так и в виде отдельной функции. При вычислении производной задействовать функторы, реализованные в __Задаче 2__."
   ]
  },
  {
   "cell_type": "markdown",
   "metadata": {
    "collapsed": true
   },
   "source": [
    "## Вопросы?"
   ]
  }
 ],
 "metadata": {
  "anaconda-cloud": {},
  "kernelspec": {
   "display_name": "Python 3",
   "language": "python",
   "name": "python3"
  },
  "language_info": {
   "codemirror_mode": {
    "name": "ipython",
    "version": 3
   },
   "file_extension": ".py",
   "mimetype": "text/x-python",
   "name": "python",
   "nbconvert_exporter": "python",
   "pygments_lexer": "ipython3",
   "version": "3.6.3"
  }
 },
 "nbformat": 4,
 "nbformat_minor": 1
}
