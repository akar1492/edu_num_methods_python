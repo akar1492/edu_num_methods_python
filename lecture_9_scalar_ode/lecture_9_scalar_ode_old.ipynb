{
 "cells": [
  {
   "cell_type": "markdown",
   "metadata": {},
   "source": [
    "__Автор__: Карпаев Алексей, ассистент кафедры информатики и вычислительной математики."
   ]
  },
  {
   "cell_type": "markdown",
   "metadata": {},
   "source": [
    "# Метод конечных разностей для численного решения ОДУ: программная реализация, ОО подход\n",
    "\n",
    "# (TODO: разобраться с путаницей в выводе решений функций из \"прмежуточной части\")"
   ]
  },
  {
   "cell_type": "markdown",
   "metadata": {},
   "source": [
    "## Математическая постановка задачи\n",
    "\n",
    "В данной лекции будем рассматривать __задачу Коши для автономного ОДУ__:\n",
    "\n",
    "$$ \\frac{d u}{d t} = f\\left(u \\right), $$\n",
    "$$ u \\left( 0 \\right) = u_0 $$\n",
    "$$ t \\in D = (0, T) $$ // TODO: check interals\n",
    "\n",
    "В качестве конкретного примера возьмем __логистическое уравнение__, имеющее правую часть следующего вида:\n",
    "$$\n",
    "f \\left( u; \\alpha, R \\right) = \\alpha \\cdot u \\cdot \\left( 1 - \\frac{u}{R} \\right)\n",
    "$$\n",
    "\n",
    "Уравнение описывает динамику популяции с учетом влияния факторов окружающей среды, ограничивающих экспоненциальный рост населения со временем."
   ]
  },
  {
   "cell_type": "markdown",
   "metadata": {},
   "source": [
    "## Процесс численного решения уравнения\n",
    "Производим дискретизацию расчетной области: вводим равномерную сетку с шагом $\\Delta t = \\frac{T}{N}$ c числом отрезков разбиения $N$. Для нахождения численного решения будем рассматривать следующий набор численных методов:\n",
    "* Явный метод Эйлера\n",
    "* Метод Эйлера с пересчетом (__TODO: check \"модфифицированный метод Эйлера\"__)\n",
    "* Один из явных методов Рунге-Кутты 3-го порядка аппроксимации\n",
    "* Метод RK-4\n",
    "* Неявный метод Эйлера\n",
    "* Неявный метод трапеций\n",
    "\n",
    "Все методы являются __одношаговыми__ и относятся к семейству __методов Рунге-Кутты__.\n",
    "\n",
    "### Алгоритм нахождения численного решения (напоминание из курса \"Вычислительная математика\")\n",
    "    \n",
    "1. Инициализация параметров задачи\n",
    "2. Инициализация начального условия\n",
    "2. while t_current < T do: //cursive; также разобраться с выбором языка\n",
    "       perform_step()\n",
    "   //Значения численного решения в узлах сетки находятся последовательно, одно за другим.\n",
    "3. Визуализация численного решения (опционально).\n",
    "\n",
    "Каждый пункт алгоритма вам уже знаком; тем не менее, остановимся подробней на функции perform_step() из пунтка №3.\n",
    "### Функция  perform_step()\n",
    "\n",
    "__Передваритеьный вопрос__: в чем формальное отличие явных методов от неявных? \n",
    "\n",
    "__Ответ__: при использовании __явного__ метода для нахождения $u^{n+1}$ требуется решать __линейное уравнение__, решение которого тривиально получается аналитически --- полученная явная формула транслируется в строку кода.\n",
    "    При использовании __неявного__ метода пояляется __нелинейное__ уравнение, решение которого уже ищут приближенно при помощи какого-либо итерационного метода. Мы будем использовать __метод Ньютона__, алгоритм которого закодмируем в программе.\n",
    "    \n",
    "__Для единообразия__ программной реализации метод Ньютона будет также использоваться и в явном методе, для нахождения корня линейного уравнения."
   ]
  },
  {
   "cell_type": "code",
   "execution_count": null,
   "metadata": {
    "collapsed": true
   },
   "outputs": [],
   "source": [
    "class NewtonSolver:\n",
    "    def __init__(self, numIterations):\n",
    "        self._numIterations = numIterations\n",
    "        \n",
    "    def SetFunction(self):\n",
    "        # TODOTODOTODO #"
   ]
  },
  {
   "cell_type": "markdown",
   "metadata": {},
   "source": [
    "## Программная реализация\n",
    "### Процедурный подход"
   ]
  },
  {
   "cell_type": "code",
   "execution_count": 1,
   "metadata": {
    "collapsed": true
   },
   "outputs": [],
   "source": [
    "# necessary libraries\n",
    "import numpy as np\n",
    "import matplotlib.pyplot as plt\n",
    "plt.rc('font', size=20) # for the font adjustments"
   ]
  },
  {
   "cell_type": "code",
   "execution_count": 11,
   "metadata": {},
   "outputs": [
    {
     "data": {
      "text/plain": [
       "int"
      ]
     },
     "execution_count": 11,
     "metadata": {},
     "output_type": "execute_result"
    }
   ],
   "source": [
    "# grid & model perameters\n",
    "numBlocks = 10\n",
    "tEnd = 40\n",
    "dt = float(tEnd)/float(numBlocks)\n",
    "initialValue = 0.1\n",
    "\n",
    "type(numBlocks)"
   ]
  },
  {
   "cell_type": "code",
   "execution_count": 12,
   "metadata": {
    "collapsed": true
   },
   "outputs": [],
   "source": [
    "# right-hand side and additional plot function\n",
    "def Rhs(u):\n",
    "    return 0.2*u*(1 - u)\n",
    "\n",
    "def PlotSolution(timeArray, solutionArray, title):\n",
    "    plt.plot(timeArray, 100*solutionArray, '-', linewidth=4, markersize = 10) ## 100 --- for %\n",
    "    plt.grid('on')\n",
    "    plt.title(title)\n",
    "    plt.xlabel('Время, с')\n",
    "    plt.ylabel('Население,%')\n",
    "    plt.show()"
   ]
  },
  {
   "cell_type": "code",
   "execution_count": 13,
   "metadata": {},
   "outputs": [
    {
     "name": "stdout",
     "output_type": "stream",
     "text": [
      "checkin\n",
      "checkin\n"
     ]
    },
    {
     "data": {
      "image/png": "[encoded data removed]",
      "text/plain": [
       "<matplotlib.figure.Figure at 0x1138772b0>"
      ]
     },
     "metadata": {},
     "output_type": "display_data"
    }
   ],
   "source": [
    "-"
   ]
  },
  {
   "cell_type": "markdown",
   "metadata": {
    "collapsed": true
   },
   "source": [
    "Итак, мы получили некий результат..."
   ]
  },
  {
   "cell_type": "markdown",
   "metadata": {},
   "source": [
    "// В вышеприведенных функциях численного решения ОДУ присутствует сравнительно небольшое количество строк, и их написание занимает пару минут - подходит для быстрого получения результатов. Однако, если нам требуется провести детальный анализ численного решения с учетом применения различных методов численного решения ОДУ или программа создается для многократного использования в т.ч. и сторонними пользователями/разработчиками, то использование объектно-ориентированного стиля является более предпочтительным. // перечитать и убрать весь абзац, скорее всего.\n",
    "\n",
    "// Из вышеприведенных реализаций видно, что в коде присутствуют дословно повторяющиеся участки, т.о. перед нами опять возникла задача сокращения размера программы, которую поможет решить применение классов и механизмов наследования. // -> Посмотрим, как можно продемонстрировать ОО подход к данной задачей.\n",
    "\n",
    "Попробуем создать класс, в который в который поместим функционал, требующийся для реализации вычислений по модифицированному методу Эйлера (class ModifiedEuler). Какой набор полей и методов может потребоватья для этого? (назовите):"
   ]
  },
  {
   "cell_type": "markdown",
   "metadata": {},
   "source": [
    "__Поля класса__:\n",
    "* функция правой части ОДУ\n",
    "* начальное условие\n",
    "* массив точек сетки и ее параметры: кол-во точек, промежутков, шаг сетки\n",
    "* массив значений численного решения \n",
    "* начальный и конечный моменты времени\n",
    "* номер текущего шага по времени \n",
    "* (что-либо еще)\n",
    "\n",
    "__Методы класса__:\n",
    "* Конструктор\n",
    "* Задать начальные условия\n",
    "* Задать функцию правой части\n",
    "* Решить: \"timestepping\" - цикл по точкам сетки; на каждом шаге цикла вызывается функция SolveEquation()\n",
    "* Построить график численного решения\n",
    "* Построить график аналитического решения\n",
    "* Сравнить численное и аналитичическое решения по определенной норме"
   ]
  },
  {
   "cell_type": "code",
   "execution_count": null,
   "metadata": {
    "collapsed": true
   },
   "outputs": [],
   "source": [
    "# оформление функции правой части в виде функтора\n",
    "class LogisticRightHandSide:   \n",
    "    def __call__(self, u):\n",
    "        return 0.2*u*(1 - u)"
   ]
  },
  {
   "cell_type": "code",
   "execution_count": 2,
   "metadata": {
    "collapsed": true
   },
   "outputs": [],
   "source": [
    "# we group up in this class everything connected with the math. formulaion\n",
    "class Problem:\n",
    "    def __init__(self):\n",
    "        self._initialCondition = 0.1\n",
    "        self._alpha = 2.0\n",
    "        self._R = 1.0\n",
    "    def Rhs(self, u):\n",
    "        return self._alpha*u*(1 - u/float(self._R))"
   ]
  },
  {
   "cell_type": "code",
   "execution_count": null,
   "metadata": {
    "collapsed": true
   },
   "outputs": [],
   "source": [
    "# we group up in this class everything connected with the mesh and the corresponding solution\n",
    "class Mesh(self, numBlocks, tStart, tEnd):\n",
    "        def __init__(self);  \n",
    "            self._numBlocks, self._numPoints = numBlocks, numBlocks + 1\n",
    "            self._dt = float(tEnd)/float(self._numBlocks)\n",
    "            self._solutionArray = np.zeros(self._numPoints)\n",
    "            self._timeArray = np.linspace(tStart, tEnd, self._numPoints)\n",
    "            self._tStart, self._tEnd = tStart, tEnd\n",
    "        \n",
    "            # вспомогательная переменная, используется для вывода прогресса решения на экран\n",
    "            self._isLessThanloo = True\n",
    "            if self._numBlocks > 100:\n",
    "                xck ,self._isLessThanloo = False"
   ]
  },
  {
   "cell_type": "code",
   "execution_count": null,
   "metadata": {
    "collapsed": true
   },
   "outputs": [],
   "source": [
    "import time\n",
    "# (Problem-grid-solver-divine was taken from I.Tsybulin lectures\n",
    "class ModifiedEulerSolver_version1:\n",
    "    def __init__(self, problem, mesh):\n",
    "        self._problem = problem\n",
    "        self._mesh = mesh\n",
    "        print ('A %s solver initialized.' % self.__class__.__name__)\n",
    "\n",
    "    def GetStepNumber(self):\n",
    "        return self._counter\n",
    "        \n",
    "    \n",
    "    def Solve(self):\n",
    "        \"\"\"Timestepping:\n",
    "        Calculates numerical solution from 0 <= t <= T.\"\"\" \n",
    "        start = time.clock()\n",
    "        self._counter = 0\n",
    "        \n",
    "        print ('Start of timestepping via %s method...' % self.__class__.__name__)\n",
    "        self._solutionArray[0] = self._problem._initialValue\n",
    "        for i in range(self._numBlocks):\n",
    "            \n",
    "            # для краткости\n",
    "            uOld, dt, f, t = self._mesh._solutionArray[self._counter], self._dt, \\\n",
    "                             self._rightHandSideFunction, self._timeArray\n",
    "                                \n",
    "            # шаг модифицированного метода Эйлера\n",
    "            uStar = uOld + dt*f(uOld)\n",
    "            uNew = uOld + dt/2.*(f(uOld) + f(uStar))\n",
    "            \n",
    "            self._solutionArray[i + 1] = uNew\n",
    "            self._counter += 1\n",
    "            \n",
    "            # каждые 100 шагов - вывод на экран\n",
    "            if self._isLessThanloo or (self._counter % (self._numBlocks//100) == 0):\n",
    "                print ('Step #%d completed.' % (self._counter))\n",
    "            \n",
    "        end = float(time.clock() - start)\n",
    "        print ('Timestepping complete; calculations took %.2e s.' % end)\n",
    "    \n",
    "        return self._solutionArray, self._timeArray\n",
    "    \n",
    "    \n",
    "    def PlotSolution(self):\n",
    "        plt.figure()\n",
    "        plt.plot(self._timeArray, self._solutionArray, '-', linewidth=4)\n",
    "        plt.grid('on')\n",
    "        plt.title('Solution via %s method' % self.__class__.__name__)\n",
    "        plt.xlabel('t, s')\n",
    "        plt.ylabel('Normalized population')\n",
    "        plt.show()"
   ]
  },
  {
   "cell_type": "markdown",
   "metadata": {},
   "source": [
    "Функцию рассчета численного решения на неявном слое по времени желательно оформить как отдельный метод класса __AdvanceNextStep()__:"
   ]
  },
  {
   "cell_type": "code",
   "execution_count": null,
   "metadata": {
    "collapsed": true
   },
   "outputs": [],
   "source": [
    "class ModifiedEuler_version2:\n",
    "    def __init__(self):\n",
    "        print ('A %s solver initialized.' % self.__class__.__name__)\n",
    "        \n",
    "    def SetRightHandSide(self, function):\n",
    "        self._rightHandSideFunction = function\n",
    "    \n",
    "    def SetInitialCondition(self, value):\n",
    "        self._initialValue = value\n",
    "       \n",
    "    def SetGrid(self, numBlocks, tStart, tEnd):\n",
    "        self._numBlocks, self._numPoints = numBlocks, numBlocks + 1\n",
    "        self._dt = float(tEnd)/float(self._numBlocks)\n",
    "        self._solutionArray = np.zeros(self._numPoints)\n",
    "        self._timeArray = np.linspace(tStart, tEnd, self._numPoints)\n",
    "        self._tStart, self._tEnd = tStart, tEnd\n",
    "        \n",
    "        # вспомогательная переменная для вывода на экран\n",
    "        self._isLessThanloo = True\n",
    "        if self._numBlocks > 100:\n",
    "            self._isLessThanloo = False\n",
    "        \n",
    "        \n",
    "    def GetStepNumber(self):\n",
    "        return self._counter\n",
    "    \n",
    "    \n",
    "    def AdvanceNextStep(self):\n",
    "        \"\"\"Calculates solution value at a new timelayer via Modified Euler method formula.\"\"\"    \n",
    "        \n",
    "        # для краткости\n",
    "        uOld, dt, f, i, t = self._solutionArray[self._counter], self._dt, \\\n",
    "                                self._rightHandSideFunction, self.GetStepNumber(), self._timeArray\n",
    "                                \n",
    "        # шаг модифицированного метода Эйлера\n",
    "        uStar = uOld + dt*f(uOld)\n",
    "        uNew = uOld + dt/2. * (f(uOld) + f(uStar))\n",
    "        \n",
    "        return uNew\n",
    "        \n",
    "    \n",
    "    def Solve(self):\n",
    "        \"\"\"Calculates numerical solution for 0 <= t <= T.\"\"\" \n",
    "        start = time.clock()\n",
    "        self._counter = 0\n",
    "        \n",
    "        print ('Start of timestepping via %s method...' % self.__class__.__name__)\n",
    "        self._solutionArray[0] = self._initialValue\n",
    "        for i in range(self._numBlocks):\n",
    "            self._solutionArray[i + 1] = self.AdvanceNextStep()\n",
    "            self._counter += 1\n",
    "            \n",
    "            # каждые 100 шагов - вывод на экран для отслеживания прогресса\n",
    "            if self._isLessThanloo or (self._counter % (self._numBlocks//100) == 0):\n",
    "                print ('Step #%d completed.' % (self._counter))\n",
    "            \n",
    "        end = float(time.clock() - start)\n",
    "        print ('Timestepping complete; calculations took %.2e s.' % end)\n",
    "        \n",
    "        return self._solutionArray, self._timeArray\n",
    "    \n",
    "    \n",
    "    def PlotSolution(self):\n",
    "        plt.figure()\n",
    "        plt.plot(self._timeArray, self._solutionArray, '-', linewidth=4)\n",
    "        plt.grid('on')\n",
    "        plt.title('Solution via %s method' % self.__class__.__name__)\n",
    "        plt.xlabel('t, s')\n",
    "        plt.ylabel('Normalized population')\n",
    "        plt.show()"
   ]
  },
  {
   "cell_type": "markdown",
   "metadata": {},
   "source": [
    "Теперь протестируем последнюю версию класса-солвера на логистическом уравнении. Говорящие имена методов класса позволяют стороннему пользователю/разработчику разобраться в коде модуля, в котором обычно запускают расчеты:"
   ]
  },
  {
   "cell_type": "code",
   "execution_count": null,
   "metadata": {
    "collapsed": true
   },
   "outputs": [],
   "source": [
    "listOfRightHandSides = [LogisticRightHandSide()]\n",
    "\n",
    "listOfMethods = [ModifiedEuler_version1, ModifiedEuler_version2] #  ExplicitEuler, ImplicitEuler, RungeKutta4, ...\n",
    "\n",
    "for rightHandSide in listOfRightHandSides:\n",
    "    for method in listOfMethods:\n",
    "        solver = method() # создание объекта solver класса ModifiedEuler_version1\n",
    "        solver.SetRightHandSide(rightHandSide)\n",
    "        solver.SetInitialCondition(0.1)\n",
    "        solver.SetGrid(numBlocks=200, tStart=0., tEnd=40.)\n",
    "        solver.Solve()\n",
    "        solver.PlotSolution()"
   ]
  },
  {
   "cell_type": "markdown",
   "metadata": {},
   "source": [
    "В функции правой части также присутствуют параметры $\\alpha$ и $R$. Для вычисления производной функции правой части по переменной $u$ параметры придется задать в качестве полей соответсвующего класса:"
   ]
  },
  {
   "cell_type": "code",
   "execution_count": null,
   "metadata": {
    "collapsed": true
   },
   "outputs": [],
   "source": [
    "class LogisticRightHandSideFull:\n",
    "    def __init__(self, alpha, R):\n",
    "        self._alpha, self._R = float(alpha), float(R)\n",
    "    \n",
    "    def __call__(self, u):\n",
    "        return self._alpha*u*(1 - u/self._R)"
   ]
  },
  {
   "cell_type": "markdown",
   "metadata": {},
   "source": [
    "В случае неавтономного ОДУ с правой частью $f(u, t)$ для вычисления $\\frac{\\partial f}{\\partial u}$ c помощью функтора __Derivative__ из Задачи 2 переменную $t$ также придется передавать в класс в качестве параметра."
   ]
  },
  {
   "cell_type": "markdown",
   "metadata": {},
   "source": [
    "## Построение иерархии классов, реализующих различные методы численного интегрирования ОДУ"
   ]
  },
  {
   "cell_type": "markdown",
   "metadata": {
    "collapsed": true
   },
   "source": [
    "В задании потребуется написать классы для одношаговых методов ч.и. ОДУ: несколько явных и 1 неявный (метод трапеций 2-го порядка точности). В родительский класс __AbstractOneStepODESolver__ поместить поля и методы класса __ModifiedEuler_version2__, свойственные всем одношаговым методам ч.и. ОДУ. Классы, реализующие остальные одношаговые методы, получить при помощи наследования.\n",
    "\n",
    "__Критерий корректности реализации иерархии классов__: отсутствие или минимум повторяющихся строк кода."
   ]
  },
  {
   "cell_type": "markdown",
   "metadata": {},
   "source": [
    "### Реализация неявного метода трапеций\n",
    "Формула для проведения вычислений:\n",
    "\n",
    "$$ u_{n+1} = u_n + \\frac{\\Delta t}{2} \\left( f(u_n, t_n) + f(u_{n+1}, t_{n+1}) \\right), \\quad n =0,...,N-1 $$ \n",
    "\n",
    "Для решения получившегося нелинейного уравнения относительно $u_{n+1}$ будем использовать итерационный метод Ньютона:\n",
    "\n",
    "$$ F(u_{n+1}) \\equiv  u_{n+1} - \\frac{\\Delta t}{2} f(u_{n+1}, t_{n+1}) - u_n - \\frac{\\Delta t}{2} f(u_n, t_n) = 0$$\n",
    "\n",
    "$$ u_{n+1}^{(k+1)} = u_{n+1}^{(k)} - \\frac{F( u_{n+1}^{(k)} )}{ F'(u_{n+1}^{(k)}) }, \\quad u_{n+1}^{(0)} = u_n + \\Delta t  f(u_n, t_n)$$\n",
    "\n",
    "$$\n",
    "k = 0,...,K \\quad   \\Vert u_{n+1}^{(K)} - u_{n+1}^{(K-1)} \\Vert \\leq \\varepsilon\n",
    "$$\n",
    "\n",
    "Для ускорения сходимости начальное приближение будем рассчитывать по формуле явного метода Эйлера, а для приближенного вычисления производной будем использовать формулу центральной разности 2-го порядка точности:\n",
    "\n",
    "$$\n",
    "    F'(u_{n+1}^{(k)}) \\approx \\frac{F(u_{n+1}^{(k)} + h) - F(u_{n+1}^{(k)} - h)}{2h}\n",
    "$$\n",
    "\n",
    "Решение нелинейного уравнения с помощью метода Ньютона можно оформить как внутри класса, так и в виде отдельной функции. При вычислении производной задействовать функторы, реализованные в Задаче 2."
   ]
  }
 ],
 "metadata": {
  "anaconda-cloud": {},
  "kernelspec": {
   "display_name": "Python 3",
   "language": "python",
   "name": "python3"
  },
  "language_info": {
   "codemirror_mode": {
    "name": "ipython",
    "version": 3
   },
   "file_extension": ".py",
   "mimetype": "text/x-python",
   "name": "python",
   "nbconvert_exporter": "python",
   "pygments_lexer": "ipython3",
   "version": "3.6.3"
  }
 },
 "nbformat": 4,
 "nbformat_minor": 1
}
