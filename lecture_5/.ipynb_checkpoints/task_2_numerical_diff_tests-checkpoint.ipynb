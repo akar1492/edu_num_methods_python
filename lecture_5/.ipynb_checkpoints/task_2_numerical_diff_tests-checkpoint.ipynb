{
 "cells": [
  {
   "cell_type": "code",
   "execution_count": 1,
   "metadata": {
    "collapsed": true
   },
   "outputs": [],
   "source": [
    "import math as m\n",
    "import numpy as np\n",
    "import matplotlib.pyplot as plt"
   ]
  },
  {
   "cell_type": "code",
   "execution_count": 32,
   "metadata": {},
   "outputs": [],
   "source": [
    "class AbstractDerivative:\n",
    "    \n",
    "    def __init__(self, f):\n",
    "        self.f = f\n",
    "        self._maxStencilSize = 5\n",
    "        self.SetCoeffs()\n",
    "    \n",
    "    def SetStep(self, h):\n",
    "        self._h = float(h)\n",
    "        self._stencilPoints = np.array([self._h*i \\\n",
    "                                   for i in range(int(-(self._maxStencilSize - 1)/2), \\\n",
    "                                           int((self._maxStencilSize - 1)/2) + 1)])\n",
    "        \n",
    "    def SetCoeffs(self):\n",
    "        raise NotImplementedError\n",
    "                                            \n",
    "    def __call__(self, x):\n",
    "        movedStencilPoints = self._stencilPoints + float(x)\n",
    "                       \n",
    "        value = 0.\n",
    "        for i in range(self._maxStencilSize):\n",
    "            value += self._coeffs[i]*self.f(movedStencilPoints[i])\n",
    "        value /= self._h\n",
    "        \n",
    "        return value"
   ]
  },
  {
   "cell_type": "markdown",
   "metadata": {},
   "source": [
    "### Классы наследники"
   ]
  },
  {
   "cell_type": "code",
   "execution_count": 33,
   "metadata": {
    "collapsed": true
   },
   "outputs": [],
   "source": [
    "class Derivative1stOrderRight(AbstractDerivative):\n",
    "    \n",
    "    #def __init(self, func, step=1e-4):\n",
    "        #AbstractDerivative.__init__(self, func, step)\n",
    "        \n",
    "    def SetCoeffs(self):\n",
    "        self._coeffs = np.zeros(self._maxStencilSize)\n",
    "        self._coeffs[2] = -1.\n",
    "        self._coeffs[3] = 1.\n",
    "        \n",
    "class Derivative2ndOrderCentral(AbstractDerivative):\n",
    "    \n",
    "    def SetCoeffs(self):\n",
    "        self._coeffs = np.zeros(self._maxStencilSize)\n",
    "        self._coeffs[1] = -1./2\n",
    "        self._coeffs[3] = 1./2"
   ]
  },
  {
   "cell_type": "markdown",
   "metadata": {},
   "source": [
    "### Тестирование"
   ]
  },
  {
   "cell_type": "code",
   "execution_count": 50,
   "metadata": {},
   "outputs": [],
   "source": [
    "testFunc = m.sin #lambda t: m.sin(t)\n",
    "h = 1e-2\n",
    "derivative1stOrder = Derivative2ndOrderCentral(testFunc)\n",
    "derivative1stOrder.SetStep(1e-4)\n",
    "#derivative2ndOrder = Derivative2ndOrderCentral(testFunc, h)\n",
    "derivative1stOrder.f = m.cos\n",
    "derivative1stOrder.SetStep(5.*1e-16)"
   ]
  },
  {
   "cell_type": "code",
   "execution_count": 51,
   "metadata": {},
   "outputs": [
    {
     "data": {
      "image/png": "[encoded data removed]",
      "text/plain": [
       "<matplotlib.figure.Figure at 0x10f8d1470>"
      ]
     },
     "metadata": {},
     "output_type": "display_data"
    }
   ],
   "source": [
    "xData = np.linspace(0, 5, 100)\n",
    "yData1 = np.array([derivative1stOrder(x) for x in xData])\n",
    "\n",
    "plt.figure()\n",
    "plt.plot(xData, yData1, lw=4)\n",
    "plt.grid('on')\n",
    "plt.show()"
   ]
  },
  {
   "cell_type": "code",
   "execution_count": null,
   "metadata": {
    "collapsed": true
   },
   "outputs": [],
   "source": []
  }
 ],
 "metadata": {
  "kernelspec": {
   "display_name": "Python 3",
   "language": "python",
   "name": "python3"
  },
  "language_info": {
   "codemirror_mode": {
    "name": "ipython",
    "version": 3
   },
   "file_extension": ".py",
   "mimetype": "text/x-python",
   "name": "python",
   "nbconvert_exporter": "python",
   "pygments_lexer": "ipython3",
   "version": "3.6.3"
  }
 },
 "nbformat": 4,
 "nbformat_minor": 2
}
