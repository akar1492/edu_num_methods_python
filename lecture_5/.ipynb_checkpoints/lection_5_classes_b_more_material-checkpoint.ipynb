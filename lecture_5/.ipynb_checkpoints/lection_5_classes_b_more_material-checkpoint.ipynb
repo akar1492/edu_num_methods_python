{
 "cells": [
  {
   "cell_type": "markdown",
   "metadata": {},
   "source": [
    "# Числовые функции и численное дифференцирование: программная реализация, ОО подход"
   ]
  },
  {
   "cell_type": "code",
   "execution_count": 3,
   "metadata": {
    "collapsed": true
   },
   "outputs": [],
   "source": [
    "import math as m\n",
    "import matplotlib.pyplot as plt\n",
    "plt.rc('font', size=20)\n",
    "%matplotlib inline"
   ]
  },
  {
   "cell_type": "code",
   "execution_count": 4,
   "metadata": {},
   "outputs": [
    {
     "name": "stdout",
     "output_type": "stream",
     "text": [
      "Derivative #1 = -64.37\n",
      "\n",
      "Derivative #2 = 0.99\n",
      "\n"
     ]
    }
   ],
   "source": [
    "def Derivative(f, x, h=1e-4):\n",
    "    return (f(x + h) - f(x))/float(h)\n",
    "\n",
    "# тестирование на паре функций\n",
    "x0 = 0.1 # случайная точка\n",
    "listOfFunctions = [lambda t: t**3 + 3*(t**2) - 65*t, m.sin]\n",
    "\n",
    "i = 0\n",
    "for function in listOfFunctions:\n",
    "    i += 1\n",
    "    print ('Derivative #%d = %.2f\\n' % (i, Derivative(function, x0)))"
   ]
  },
  {
   "cell_type": "markdown",
   "metadata": {
    "nbpresent": {
     "id": "ca07bdae-6030-40f6-9c99-c07f9a94df11"
    },
    "slideshow": {
     "slide_type": "slide"
    }
   },
   "source": [
    "## Представление функции с параметрами в виде класса\n",
    "Пример с вертикальным движением тела в поле силы тяжести: $y(t) = v_0 t - \\frac{g t^2}{2}$. В качестве параметров возьмем $v_0$ и $g$. Каким образом лучше реализовать данную функцию? \n",
    "\n",
    "__Очевидное решение__: функция нескольких аргументов."
   ]
  },
  {
   "cell_type": "code",
   "execution_count": 5,
   "metadata": {
    "collapsed": true,
    "nbpresent": {
     "id": "b76edc00-42df-4e73-81b0-047b9fd37eee"
    },
    "slideshow": {
     "slide_type": "slide"
    }
   },
   "outputs": [],
   "source": [
    "def YVertical(t, v0, g):\n",
    "    return v0*t - 0.5*g*(t**2)"
   ]
  },
  {
   "cell_type": "markdown",
   "metadata": {
    "nbpresent": {
     "id": "0b14001e-07bd-4734-8566-38b02bb2b1d7"
    }
   },
   "source": [
    "Однако при проведении численного дифференцирования данной функции возникнет проблема, так как функции взятия производной в качестве аргумента требуется функция 1 переменной."
   ]
  },
  {
   "cell_type": "markdown",
   "metadata": {
    "nbpresent": {
     "id": "df67a2db-f658-4568-a9b6-079167695b84"
    }
   },
   "source": [
    "К сожалению, функция Derivative() не сможет работать с нашей YVertical.\n",
    "\n",
    "\n",
    "__Неудачное решение__: использование глобальных переменных."
   ]
  },
  {
   "cell_type": "code",
   "execution_count": 6,
   "metadata": {
    "collapsed": true,
    "nbpresent": {
     "id": "058b9055-3db7-4259-8421-848e4eff8cd4"
    }
   },
   "outputs": [],
   "source": [
    "g = 9.8 \n",
    "v0 = 5.2 # случайное значение\n",
    "\n",
    "def YVertical1(t):\n",
    "    return v0*t - 0.5*g*(t**2)"
   ]
  },
  {
   "cell_type": "markdown",
   "metadata": {
    "nbpresent": {
     "id": "7ea23b93-18cc-4467-8f09-e9b46fff3c70"
    }
   },
   "source": [
    "Как известно, использование глобальных переменных требуется сводить к минимуму с целью избегания ошибок из-за путаницы в именах в различных областях видимости.\n",
    "\n",
    "__Еще способ__: Для каждого значения параметра v0 можно написать отдельную функцию (еще неудачней). Написание же n-го количества версий первой для функций с количеством аргументов от 1 до n  представляется не очень оптимальным решением данной задачи. Мы же стремимся к написанию ПО, работающему в самых общих случаях.\n",
    "\n",
    "Как решить проблему? Использовать __классы__. Переменные класса видны всем его методам, поэтому в контексте класса их можно рассматривать в качестве \"глобальных\":"
   ]
  },
  {
   "cell_type": "code",
   "execution_count": 7,
   "metadata": {
    "collapsed": true,
    "nbpresent": {
     "id": "f1619c6b-5372-4fc1-9a05-402a05cc8656"
    }
   },
   "outputs": [],
   "source": [
    "class YVertical:\n",
    "    def __init__(self):\n",
    "        self._g = 9.81\n",
    "        \n",
    "    def SetInitialVelocity(self, v0):\n",
    "        self._v0 = v0\n",
    "        \n",
    "    def Evaluate(self, t):\n",
    "        return self._v0*t - 0.5*self._g*(t**2)"
   ]
  },
  {
   "cell_type": "code",
   "execution_count": 8,
   "metadata": {},
   "outputs": [
    {
     "name": "stdout",
     "output_type": "stream",
     "text": [
      "0.47095\n"
     ]
    }
   ],
   "source": [
    "# использование\n",
    "ball = YVertical()\n",
    "ball.SetInitialVelocity(v0)\n",
    "print(ball.Evaluate(x0))"
   ]
  },
  {
   "cell_type": "markdown",
   "metadata": {},
   "source": [
    "Итак, для представления функции n переменных $ f \\left( x; p_1, ..., p_n \\right) $, часть которых можно считать параметрами в контексте использования функции в программе, создаем класс:\n",
    "\n",
    " \n"
   ]
  },
  {
   "cell_type": "code",
   "execution_count": 9,
   "metadata": {
    "collapsed": true
   },
   "outputs": [],
   "source": [
    "# набросок: класс для функции с n-параметрами\n",
    "class MyFunction:\n",
    "    \n",
    "    def SetP1(self, p1):\n",
    "        self._p1 = p1\n",
    "        \n",
    "    def SetP2(self, p2):\n",
    "        self._p2 = p2\n",
    "        \n",
    "    #....................\n",
    "    \n",
    "    def SetPn(self, pn):\n",
    "        self._pn = pn\n",
    "        \n",
    "    \n",
    "    def Evaluate(self, x):\n",
    "        return ..."
   ]
  },
  {
   "cell_type": "markdown",
   "metadata": {
    "nbpresent": {
     "id": "81fdfaca-d75e-4d3a-9197-e29ae7533f8a"
    }
   },
   "source": [
    "Для большего удобства использования класса в качестве функции, вместо конструкции __object.Evaluate(x)__ хочется использовать более привычную операцию вызова функции __object(x)__. В языке С++ для этого существует __перегрузка операторов__, позволяющая переопределять многие стандартные операторы \"()\", \"+\", \"-\", \" * \", \"/\" и.т.д. В языке Python эту роль на себя берут т.н. __магические методы__.\n",
    "\n",
    "\n",
    "Используем один из них в классе для функции:"
   ]
  },
  {
   "cell_type": "code",
   "execution_count": 10,
   "metadata": {
    "collapsed": true,
    "nbpresent": {
     "id": "73d03824-19bf-4860-973b-84b448f580a0"
    }
   },
   "outputs": [],
   "source": [
    "# набросок для функции с n-параметрами\n",
    "class MyFunction:\n",
    "    \n",
    "    def SetP1(self, p1):\n",
    "        self._p1 = p1\n",
    "        \n",
    "    def SetP2(self, p2):\n",
    "        self._p2 = p2\n",
    "        \n",
    "    #....................\n",
    "    \n",
    "    def SetPn(self, pn):\n",
    "        self._pn = pn\n",
    "\n",
    "    def __call__(self, x): # \"заменяет\" функцию Evaluate(x) \n",
    "        return ...         # object(x) - это то же самое, что вызов object.__self(x)__"
   ]
  },
  {
   "cell_type": "markdown",
   "metadata": {},
   "source": [
    "Итак, еще раз:"
   ]
  },
  {
   "cell_type": "code",
   "execution_count": 11,
   "metadata": {
    "collapsed": true
   },
   "outputs": [],
   "source": [
    "class YVertical:\n",
    "    def __init__(self):\n",
    "        self._g = 9.81\n",
    "        \n",
    "    def SetInitialVelocity(self, v0):\n",
    "        self._v0 = v0\n",
    "        \n",
    "    def __call__(self, t):\n",
    "        return self._v0*t - 0.5*self._g*(t**2)"
   ]
  },
  {
   "cell_type": "code",
   "execution_count": 12,
   "metadata": {},
   "outputs": [
    {
     "name": "stdout",
     "output_type": "stream",
     "text": [
      "0.47095\n"
     ]
    }
   ],
   "source": [
    "# использование\n",
    "Y1 = YVertical()\n",
    "Y1.SetInitialVelocity(v0)\n",
    "print(Y1(x0))"
   ]
  },
  {
   "cell_type": "markdown",
   "metadata": {},
   "source": [
    "Объекты, в которых методом __--call--__() перегружена операция \"()\"  называются __функциональными объектами__ или сокращенно __функторами__."
   ]
  },
  {
   "cell_type": "markdown",
   "metadata": {
    "collapsed": true,
    "nbpresent": {
     "id": "2c860a49-45d7-4d5d-85bd-890752baad14"
    }
   },
   "source": [
    "## Магические методы\n",
    "Их имеется довольно большое количество:\n",
    "\n",
    "* __--init--__(self)\n",
    "Конструктор\n",
    "\n",
    "* __--del--__(self) \n",
    "Деструктор\n",
    "\n",
    "* __--pos--__(self)\n",
    "Определяет поведение для унарного плюса (+some_object)\n",
    "\n",
    "\n",
    "* __--neg--__(self)\n",
    "Определяет поведение для отрицания (-some_object)\n",
    "\n",
    "\n",
    "* __--abs--__(self)\n",
    "Определяет поведение для встроенной функции abs().\n",
    "\n",
    "\n",
    "* __--invert--__(self)\n",
    "Определяет поведение для инвертирования оператором ~.\n",
    "\n",
    "\n",
    "* __--round--__(self, n)\n",
    "Определяет поведение для встроенной функции round(). n это число знаков после запятой, до которого округлить.\n",
    "\n",
    "\n",
    "* __--floor--__(self)\n",
    "Определяет поведение для math.floor(), то есть, округления до ближайшего меньшего целого.\n",
    "\n",
    "\n",
    "* __--ceil--__(self)\n",
    "Определяет поведение для math.ceil(), то есть, округления до ближайшего большего целого.\n",
    "\n",
    "........................."
   ]
  },
  {
   "cell_type": "markdown",
   "metadata": {},
   "source": [
    "## Автоматическое дифференцирование функций.\n",
    "Рассмотрим различные способы реализации операции дифференцирования. \n",
    "\n",
    "__1-й способ__:"
   ]
  },
  {
   "cell_type": "code",
   "execution_count": 13,
   "metadata": {
    "collapsed": true
   },
   "outputs": [],
   "source": [
    "def Derivative(f, x, h=1e-5):\n",
    "    return (f(x + h) - f(x - h))/ (2.*float(h))"
   ]
  },
  {
   "cell_type": "code",
   "execution_count": 14,
   "metadata": {},
   "outputs": [
    {
     "name": "stdout",
     "output_type": "stream",
     "text": [
      "0.24586870806357627\n"
     ]
    }
   ],
   "source": [
    "# использование\n",
    "x0 = 0.4\n",
    "TestFunction = lambda x: (x**3)*m.sin(x)\n",
    "print (Derivative(TestFunction, x0))"
   ]
  },
  {
   "cell_type": "markdown",
   "metadata": {},
   "source": [
    "__2-й способ__: функция, возвращающая функцию (т.н. __замыкание__). __Замыкание__ (англ. closure) — функция, в теле которой присутствуют ссылки на переменные, объявленные вне тела этой функции в окружающем коде и не являющиеся её параметрами."
   ]
  },
  {
   "cell_type": "code",
   "execution_count": 15,
   "metadata": {
    "collapsed": true
   },
   "outputs": [],
   "source": [
    "def Derivative(f, h=1e-5):\n",
    "    \n",
    "    def DfDx(x):\n",
    "        return (f(x + h) - f(x - h))/(2.*h)\n",
    "        \n",
    "    return DfDx # это замыкание помнит значение внешних переменных f и h"
   ]
  },
  {
   "cell_type": "code",
   "execution_count": 16,
   "metadata": {},
   "outputs": [
    {
     "name": "stdout",
     "output_type": "stream",
     "text": [
      "0.24586870806357627\n"
     ]
    }
   ],
   "source": [
    "Derivative1 = Derivative(TestFunction) # теперь Derivative_1 ведет себя как обыкновенная функция\n",
    "print(Derivative1(x0))"
   ]
  },
  {
   "cell_type": "markdown",
   "metadata": {},
   "source": [
    "__3-й способ__: написание отдельного класса, способного вызывать функцию и хранить её состояние в полях."
   ]
  },
  {
   "cell_type": "code",
   "execution_count": 17,
   "metadata": {
    "collapsed": true,
    "nbpresent": {
     "id": "4ec1cfc9-514b-4a55-ab79-15fbc1da6c1e"
    }
   },
   "outputs": [],
   "source": [
    "# класс, реализующий формулу численного дифференцирования\n",
    "class Derivative:\n",
    "    \n",
    "    def SetFunction(self, f):\n",
    "        self._f = f\n",
    "        \n",
    "    def SetStep(self, h):\n",
    "        self._h = h\n",
    "\n",
    "    def __call__(self, x):\n",
    "        f, h = self._f, self._h\n",
    "        return (f(x + h) - f(x - h))/(2*h)"
   ]
  },
  {
   "cell_type": "code",
   "execution_count": 18,
   "metadata": {},
   "outputs": [
    {
     "name": "stdout",
     "output_type": "stream",
     "text": [
      "0.24586870806357627\n"
     ]
    }
   ],
   "source": [
    "# использование\n",
    "derivative1 = Derivative()\n",
    "derivative1.SetFunction(TestFunction)\n",
    "derivative1.SetStep(1e-5)\n",
    "\n",
    "print(derivative1(x0)) # теперь derivative1 ведет себя как обыкновенная функция"
   ]
  },
  {
   "cell_type": "markdown",
   "metadata": {},
   "source": [
    "__В дальнейшем будем использовать последний способ__. Перейдем к использованию класса: протестируем его на различных функциях.\n",
    "\n",
    "Возвращаясь к обычным функциям: напоминаю, что всё в Python является объектом, в том числе и функция. Т.е. ее тоже можно рассматривать как функциональный объект, что позволяет взаимодействовать с ней как с обыкновенной переменной (помещать в списки, к примеру). В языке С для реализации массива из функций пришлось бы использовать указатели на функции, что порождает множество сложностей, если эти функции имеют различное число аргументов и различные возвращаемые значения [ пример объявления указателя: __int (*ptrToFunction)(float, char, char);__ ].\n",
    "\n",
    "Для оценки погрешности численного дифференцирования потребуются аналитические значения производных, которые получим с помощью библиотеки SymPy:"
   ]
  },
  {
   "cell_type": "code",
   "execution_count": 19,
   "metadata": {
    "nbpresent": {
     "id": "0c34f67b-bbda-4056-a4c5-f2c18df783b6"
    }
   },
   "outputs": [
    {
     "name": "stdout",
     "output_type": "stream",
     "text": [
      "[sin(x), cos(x), exp(x), tan(x)] \n",
      "\n",
      " [<function <lambda> at 0x1064bbbf8>, <function <lambda> at 0x1064bbea0>, <function <lambda> at 0x1064bb8c8>, <function <lambda> at 0x1064c6268>]\n"
     ]
    }
   ],
   "source": [
    "import numpy as np\n",
    "import sympy as smp\n",
    "xSym = smp.Symbol('x') # импортируем символ переменной для использования символьными функциями\n",
    "\n",
    "\n",
    "# символьные функции требуют явного указания аргумента (в отличие от \"численных\" из библиотеки math)\n",
    "listOfSymbolicFunctions = [smp.sin(xSym), smp.cos(xSym), smp.exp(xSym), smp.tan(xSym)] \n",
    "#listOfFunctions = [m.sin, m.cos, m.exp, m.tan]\n",
    "\n",
    "# генерируем \"численные\" функции из символьных: этим занимается функция lambdify\n",
    "listOfFunctions = [smp.lambdify(xSym, f) for f in listOfSymbolicFunctions]\n",
    "\n",
    "# используем написанный класс\n",
    "h0 = 1e-5\n",
    "listOfNumericalDerivatives = []\n",
    "\n",
    "for f in listOfFunctions:\n",
    "    listOfNumericalDerivatives.append(Derivative())\n",
    "    listOfNumericalDerivatives[-1].SetFunction(f)\n",
    "    listOfNumericalDerivatives[-1].SetStep(h0)\n",
    "\n",
    "\n",
    "print (listOfSymbolicFunctions, '\\n\\n', listOfFunctions) # смотрим, что за объекты"
   ]
  },
  {
   "cell_type": "markdown",
   "metadata": {},
   "source": [
    "Построение графиков производных"
   ]
  },
  {
   "cell_type": "code",
   "execution_count": 20,
   "metadata": {
    "nbpresent": {
     "id": "5d39e844-5f12-4107-b3d8-4d8d16603ac1"
    }
   },
   "outputs": [
    {
     "data": {
      "image/png": "[encoded data removed]",
      "text/plain": [
       "<matplotlib.figure.Figure at 0x1064ce518>"
      ]
     },
     "metadata": {},
     "output_type": "display_data"
    }
   ],
   "source": [
    "xLeft, xRight = 0., 10.\n",
    "numPoints = 100\n",
    "xData = np.linspace(xLeft, xRight, numPoints)\n",
    "yDataList = []\n",
    "\n",
    "\n",
    "figureSizeConst = (13, 6.7) # в дюймах\n",
    "plt.figure(figsize=figureSizeConst) # строим графики производных в общем окне\n",
    "plt.title('Derivatives', fontsize=15)\n",
    "\n",
    "for function, derivative in zip(listOfFunctions, listOfNumericalDerivatives):   \n",
    "    yData = derivative(xData) # векторизованная операция над массивом xData\n",
    "    yDataList.append(yData)\n",
    "    \n",
    "    plt.plot(xData, yData, '-', linewidth = 4)\n",
    "    plt.grid('on')\n",
    "\n",
    "plt.xlabel('x')\n",
    "plt.ylabel('y')\n",
    "plt.ylim([-2., 4.])\n",
    "plt.show()"
   ]
  },
  {
   "cell_type": "markdown",
   "metadata": {},
   "source": [
    "### Анализ сходимости"
   ]
  },
  {
   "cell_type": "code",
   "execution_count": 24,
   "metadata": {},
   "outputs": [
    {
     "data": {
      "image/png": "[encoded data removed]",
      "text/plain": [
       "<matplotlib.figure.Figure at 0x10f277908>"
      ]
     },
     "metadata": {},
     "output_type": "display_data"
    }
   ],
   "source": [
    "# символьное дифференцирование; используем генераторы списков\n",
    "listOfAnalyticalDerivatives = [smp.lambdify(xSym, smp.diff(f, xSym)) \\\n",
    "                               for f in listOfSymbolicFunctions]\n",
    "#listOfAnaliticalDerivatives = [smp.lambdify(xSym, f) for f in listOfSymbolicDerivatives]\n",
    "\n",
    "# построение зависимости погрешностей формул численного дифференцирования от величины шага \n",
    "x0 = 5.\n",
    "listOfSteps = [2**(-n) for n in range(2, 15)]\n",
    "\n",
    "\n",
    "plt.figure(figsize=figureSizeConst)\n",
    "plt.title('Convergence analysis', fontsize=15)\n",
    "for function, analyticalDerivative in zip(listOfFunctions, listOfAnalyticalDerivatives):\n",
    "    \n",
    "    numericalDerivative = Derivative()\n",
    "    numericalDerivative.SetFunction(function)\n",
    "    \n",
    "    # передаем массив шагов h для вычисления производной в векторизованном формате\n",
    "    numericalDerivative.SetStep(np.array(listOfSteps))\n",
    "    \n",
    "    # векторизованные вычисления производной, модуля разности \n",
    "    listOfErrors = np.fabs(numericalDerivative(x0) - analyticalDerivative(x0))\n",
    "    \n",
    "    plt.loglog(listOfSteps, listOfErrors, '-o', linewidth = 4, markersize=10)\n",
    "    #plt.legend()\n",
    "\n",
    "plt.grid('on')\n",
    "plt.xlabel('Step')\n",
    "plt.ylabel('Error')\n",
    "plt.show()"
   ]
  },
  {
   "cell_type": "markdown",
   "metadata": {},
   "source": [
    "## Более полный класс для представления функций\n",
    "Расширим класс Function(): методы численного дифференцирования можно реализовать и __внутри класса__. Т.к. численное дифференцирование не зависит от конкретного вида функции, то эти методы можно реализовать, а метод вычисления значения сделать чисто виртуальным, затем переопределив его в классах-наследниках (уже конкретных функциях). При создании объекта абстрактного класса его функции будут заниматься дифференцированием \"непонятно чего\", корректно работать же будут работать только в классах наследниках, где функция __--call--(x)__ реализована."
   ]
  },
  {
   "cell_type": "code",
   "execution_count": 67,
   "metadata": {
    "collapsed": true
   },
   "outputs": [],
   "source": [
    "class AbstractFunctionWithDerivatives:\n",
    "    \n",
    "    def __init__(self, step=1e-5):\n",
    "        self._step = float(step) # больше ничего не требуется\n",
    "        \n",
    "    def __call__(self, x):\n",
    "        raise NotImplementedError # вычисление значения пока неизвестной функции (чистая виртуальная)\n",
    "    \n",
    "    # self --- ссылка на сам создаваемый объект. self(x) --- self.__call__(x).\n",
    "    def Calculate1stDerivative(self, x):\n",
    "        h = self._step\n",
    "        return (self(x + h) - self(x - h))/(2.*h)\n",
    "    \n",
    "    def Calculate2ndDerivative(self, x):\n",
    "        h = self._step\n",
    "        return (self(x + h) - 2*self(x) + self(x - h)) / (h)**2\n",
    "    \n",
    "    \n",
    "    \n",
    "class Parabola(AbstractFunctionWithDerivatives):\n",
    "    def __init__(self, a, b, c, d, step=1e-5):\n",
    "        AbstractFunctionWithDerivatives.__init__(self, step)\n",
    "        self._a = a\n",
    "        self._b = b\n",
    "        self._c = c\n",
    "        self._d = d\n",
    "    \n",
    "    def __call__(self, x): # переопределяем\n",
    "        return self._a*x**3 + self._b*x**2 + self._c*x + self._d\n",
    "    \n",
    "    \n",
    "class SpecialFunction(AbstractFunctionWithDerivatives):\n",
    "    def __init__(self, a, b, step=1e-5):\n",
    "        AbstractFunctionWithDerivatives.__init__(self, step)\n",
    "        self._a = a\n",
    "        self._b = b\n",
    "        \n",
    "    def __call__(self, x):\n",
    "        return m.cos(self._a + self._b*m.exp(x**2))"
   ]
  },
  {
   "cell_type": "markdown",
   "metadata": {},
   "source": [
    "Тестируем:"
   ]
  },
  {
   "cell_type": "code",
   "execution_count": 69,
   "metadata": {},
   "outputs": [
    {
     "name": "stdout",
     "output_type": "stream",
     "text": [
      "1st derivative = 178.0\n",
      "2nd derivative = 11323016495.43\n",
      "1st derivative = 258.0\n",
      "2nd derivative = 21822339446.60\n",
      "1st derivative = 332.0\n",
      "2nd derivative = -14350852896.77\n",
      "1st derivative = 400.0\n",
      "2nd derivative = -16293301046.03\n"
     ]
    }
   ],
   "source": [
    "listOfFunctions = [ [Parabola(i, 2*i, -3*i**2, 10*i), SpecialFunction(2*i, 5*i)]\\\n",
    "                   for i in range(2, 6)] # список из списков\n",
    "\n",
    "listOfFunctions = list(map(list, zip(*listOfFunctions))) # транспонируем чтобы можно было пройтись в цикле\n",
    "\n",
    "for function1, function2 in zip(listOfFunctions[0], listOfFunctions[1]):\n",
    "    print ('1st derivative = %.1f' % function1.Calculate1stDerivative(x0))\n",
    "    print ('2nd derivative = %.2f' % function2.Calculate2ndDerivative(x0))"
   ]
  },
  {
   "cell_type": "code",
   "execution_count": null,
   "metadata": {
    "collapsed": true
   },
   "outputs": [],
   "source": []
  }
 ],
 "metadata": {
  "anaconda-cloud": {},
  "kernelspec": {
   "display_name": "Python 3",
   "language": "python",
   "name": "python3"
  },
  "language_info": {
   "codemirror_mode": {
    "name": "ipython",
    "version": 3
   },
   "file_extension": ".py",
   "mimetype": "text/x-python",
   "name": "python",
   "nbconvert_exporter": "python",
   "pygments_lexer": "ipython3",
   "version": "3.6.3"
  },
  "nbpresent": {
   "slides": {
    "06369ab4-ae3b-4734-8ad8-50774d711db3": {
     "id": "06369ab4-ae3b-4734-8ad8-50774d711db3",
     "prev": "230d1ab4-93bd-4ce5-890c-0054d0800139",
     "regions": {
      "33853d23-cfdb-4044-b671-fc2c32236d7c": {
       "attrs": {
        "height": 0.8,
        "width": 0.8,
        "x": 0.1,
        "y": 0.1
       },
       "content": {
        "cell": "81fdfaca-d75e-4d3a-9197-e29ae7533f8a",
        "part": "whole"
       },
       "id": "33853d23-cfdb-4044-b671-fc2c32236d7c"
      }
     }
    },
    "13a386a8-958e-4076-8817-75160c27ecd9": {
     "id": "13a386a8-958e-4076-8817-75160c27ecd9",
     "prev": "c75d12fd-47bc-47d5-b58d-99de0666c5af",
     "regions": {
      "8240c574-0e36-4c51-af34-eb35f46dafda": {
       "attrs": {
        "height": 0.8,
        "width": 0.8,
        "x": 0.1,
        "y": 0.1
       },
       "content": {
        "cell": "2c860a49-45d7-4d5d-85bd-890752baad14",
        "part": "whole"
       },
       "id": "8240c574-0e36-4c51-af34-eb35f46dafda"
      }
     }
    },
    "1d748aec-bf65-4c4c-9ad3-7441c5c313b7": {
     "id": "1d748aec-bf65-4c4c-9ad3-7441c5c313b7",
     "prev": "13a386a8-958e-4076-8817-75160c27ecd9",
     "regions": {
      "5be0b9a1-8d75-4c25-bcdb-8a6901e3d612": {
       "attrs": {
        "height": 0.8,
        "width": 0.8,
        "x": 0.1,
        "y": 0.1
       },
       "content": {
        "cell": "6224f5c3-f435-41d7-a4b4-008221b404b9",
        "part": "whole"
       },
       "id": "5be0b9a1-8d75-4c25-bcdb-8a6901e3d612"
      }
     }
    },
    "230d1ab4-93bd-4ce5-890c-0054d0800139": {
     "id": "230d1ab4-93bd-4ce5-890c-0054d0800139",
     "prev": "b795d86d-d42e-4416-9ab7-e1f6811c2f97",
     "regions": {
      "3d8dc94c-f270-41fb-b2fc-430d5847b0e9": {
       "attrs": {
        "height": 0.8,
        "width": 0.8,
        "x": 0.1,
        "y": 0.1
       },
       "content": {
        "cell": "f1619c6b-5372-4fc1-9a05-402a05cc8656",
        "part": "whole"
       },
       "id": "3d8dc94c-f270-41fb-b2fc-430d5847b0e9"
      }
     }
    },
    "3d27171e-4b95-4b6c-8a72-76a35d24cbf9": {
     "id": "3d27171e-4b95-4b6c-8a72-76a35d24cbf9",
     "prev": "56dc7e8e-cef2-43b6-9063-4c9ec70708e6",
     "regions": {
      "bdcc5047-5b9d-4b74-a3ae-44e15cdc44a9": {
       "attrs": {
        "height": 0.8,
        "width": 0.8,
        "x": 0.1,
        "y": 0.1
       },
       "content": {
        "cell": "5d39e844-5f12-4107-b3d8-4d8d16603ac1",
        "part": "whole"
       },
       "id": "bdcc5047-5b9d-4b74-a3ae-44e15cdc44a9"
      }
     }
    },
    "420d9c2a-4140-4c8d-b87b-49c5a3856a0b": {
     "id": "420d9c2a-4140-4c8d-b87b-49c5a3856a0b",
     "prev": null,
     "regions": {
      "e12c7db3-0fe3-4c44-bb69-22091fe2314b": {
       "attrs": {
        "height": 0.8,
        "width": 0.8,
        "x": 0.1,
        "y": 0.1
       },
       "content": {
        "cell": "ca07bdae-6030-40f6-9c99-c07f9a94df11",
        "part": "whole"
       },
       "id": "e12c7db3-0fe3-4c44-bb69-22091fe2314b"
      }
     }
    },
    "56dc7e8e-cef2-43b6-9063-4c9ec70708e6": {
     "id": "56dc7e8e-cef2-43b6-9063-4c9ec70708e6",
     "prev": "fdee024c-ecff-4acd-853e-eecf7ba8b66d",
     "regions": {
      "9c1ed28a-f97f-49c4-b826-5a9cfbcc6c83": {
       "attrs": {
        "height": 0.8,
        "width": 0.8,
        "x": 0.1,
        "y": 0.1
       },
       "content": {
        "cell": "0c34f67b-bbda-4056-a4c5-f2c18df783b6",
        "part": "whole"
       },
       "id": "9c1ed28a-f97f-49c4-b826-5a9cfbcc6c83"
      }
     }
    },
    "59806d1d-441a-4ed0-b569-a092bd4c1706": {
     "id": "59806d1d-441a-4ed0-b569-a092bd4c1706",
     "prev": "420d9c2a-4140-4c8d-b87b-49c5a3856a0b",
     "regions": {
      "0fb0cbba-96e6-4919-be07-b4e5db45a67d": {
       "attrs": {
        "height": 0.8,
        "width": 0.8,
        "x": 0.1,
        "y": 0.1
       },
       "content": {
        "cell": "b76edc00-42df-4e73-81b0-047b9fd37eee",
        "part": "whole"
       },
       "id": "0fb0cbba-96e6-4919-be07-b4e5db45a67d"
      }
     }
    },
    "90fb7fe0-5d81-47f3-a962-33b715513197": {
     "id": "90fb7fe0-5d81-47f3-a962-33b715513197",
     "prev": "e0c70a8d-b120-45d0-b5c2-b6a0e45ad1df",
     "regions": {
      "dec8fa98-1015-43ad-a9a9-2e7c861245e8": {
       "attrs": {
        "height": 0.8,
        "width": 0.8,
        "x": 0.1,
        "y": 0.1
       },
       "content": {
        "cell": "df67a2db-f658-4568-a9b6-079167695b84",
        "part": "whole"
       },
       "id": "dec8fa98-1015-43ad-a9a9-2e7c861245e8"
      }
     }
    },
    "b795d86d-d42e-4416-9ab7-e1f6811c2f97": {
     "id": "b795d86d-d42e-4416-9ab7-e1f6811c2f97",
     "prev": "c358c3a3-6e42-4656-a954-30010f3f041a",
     "regions": {
      "d5a34d0f-6ada-483e-9e33-a2f27bb5a9c2": {
       "attrs": {
        "height": 0.8,
        "width": 0.8,
        "x": 0.1,
        "y": 0.1
       },
       "content": {
        "cell": "7ea23b93-18cc-4467-8f09-e9b46fff3c70",
        "part": "whole"
       },
       "id": "d5a34d0f-6ada-483e-9e33-a2f27bb5a9c2"
      }
     }
    },
    "c358c3a3-6e42-4656-a954-30010f3f041a": {
     "id": "c358c3a3-6e42-4656-a954-30010f3f041a",
     "prev": "90fb7fe0-5d81-47f3-a962-33b715513197",
     "regions": {
      "284fe2b1-1ca4-4da8-97d8-fd147016ae97": {
       "attrs": {
        "height": 0.8,
        "width": 0.8,
        "x": 0.1,
        "y": 0.1
       },
       "content": {
        "cell": "058b9055-3db7-4259-8421-848e4eff8cd4",
        "part": "whole"
       },
       "id": "284fe2b1-1ca4-4da8-97d8-fd147016ae97"
      }
     }
    },
    "c75d12fd-47bc-47d5-b58d-99de0666c5af": {
     "id": "c75d12fd-47bc-47d5-b58d-99de0666c5af",
     "prev": "06369ab4-ae3b-4734-8ad8-50774d711db3",
     "regions": {
      "e8525ff9-5925-4ca1-8f2a-8bc8ab987fec": {
       "attrs": {
        "height": 0.8,
        "width": 0.8,
        "x": 0.1,
        "y": 0.1
       },
       "content": {
        "cell": "73d03824-19bf-4860-973b-84b448f580a0",
        "part": "whole"
       },
       "id": "e8525ff9-5925-4ca1-8f2a-8bc8ab987fec"
      }
     }
    },
    "e0c70a8d-b120-45d0-b5c2-b6a0e45ad1df": {
     "id": "e0c70a8d-b120-45d0-b5c2-b6a0e45ad1df",
     "prev": "ed36cdae-b45f-4e5f-9004-36f4423697ba",
     "regions": {
      "cd4fe0d5-b97d-4045-ad98-24cef8b241b2": {
       "attrs": {
        "height": 0.8,
        "width": 0.8,
        "x": 0.1,
        "y": 0.1
       },
       "content": {
        "cell": "0f93662a-5438-4155-b4ce-0d499452bfe9",
        "part": "whole"
       },
       "id": "cd4fe0d5-b97d-4045-ad98-24cef8b241b2"
      }
     }
    },
    "ed36cdae-b45f-4e5f-9004-36f4423697ba": {
     "id": "ed36cdae-b45f-4e5f-9004-36f4423697ba",
     "prev": "59806d1d-441a-4ed0-b569-a092bd4c1706",
     "regions": {
      "3b270b75-3f3b-49f6-bcef-5717953d44ac": {
       "attrs": {
        "height": 0.8,
        "width": 0.8,
        "x": 0.1,
        "y": 0.1
       },
       "content": {
        "cell": "0b14001e-07bd-4734-8566-38b02bb2b1d7",
        "part": "whole"
       },
       "id": "3b270b75-3f3b-49f6-bcef-5717953d44ac"
      }
     }
    },
    "fdee024c-ecff-4acd-853e-eecf7ba8b66d": {
     "id": "fdee024c-ecff-4acd-853e-eecf7ba8b66d",
     "prev": "1d748aec-bf65-4c4c-9ad3-7441c5c313b7",
     "regions": {
      "7df91a61-cc2f-438c-ab31-a6d8ca146da1": {
       "attrs": {
        "height": 0.8,
        "width": 0.8,
        "x": 0.1,
        "y": 0.1
       },
       "content": {
        "cell": "4ec1cfc9-514b-4a55-ab79-15fbc1da6c1e",
        "part": "whole"
       },
       "id": "7df91a61-cc2f-438c-ab31-a6d8ca146da1"
      }
     }
    }
   },
   "themes": {}
  }
 },
 "nbformat": 4,
 "nbformat_minor": 1
}
