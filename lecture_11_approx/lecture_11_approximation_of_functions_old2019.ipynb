{
 "cells": [
  {
   "cell_type": "markdown",
   "metadata": {},
   "source": [
    "__Автор__: Карпаев Алексей, ассистент кафедры информатики и вычислительной математики"
   ]
  },
  {
   "cell_type": "markdown",
   "metadata": {},
   "source": [
    "# Аппроксимация функций методом конечных элементов: программная реализация, ОО подход"
   ]
  },
  {
   "cell_type": "code",
   "execution_count": 1,
   "metadata": {
    "collapsed": true
   },
   "outputs": [],
   "source": [
    "import numpy as np\n",
    "import scipy.integrate as intgr\n",
    "import math as m\n",
    "import matplotlib.pyplot as plt\n",
    "import timeit"
   ]
  },
  {
   "cell_type": "markdown",
   "metadata": {},
   "source": [
    "Определение иерархии классов для численного интегрирования:"
   ]
  },
  {
   "cell_type": "code",
   "execution_count": 2,
   "metadata": {
    "collapsed": true
   },
   "outputs": [],
   "source": [
    "class AbstractIntegral:\n",
    "    \n",
    "    def __init__(self):\n",
    "        self._listOfCoefficients = []\n",
    "    \n",
    "    def SetFunction(self, function):\n",
    "        self._f = function\n",
    "    \n",
    "    def SetLeftBorder(self, leftBorder):\n",
    "        self._leftBorder = leftBorder   \n",
    "    \n",
    "    def SetNumBlocks(self, numBlocks):\n",
    "        self._n = numBlocks\n",
    "    \n",
    "    \n",
    "    def SetMethodCoefficients(self):\n",
    "        raise NotImplementedError\n",
    "          \n",
    "            \n",
    "    def __call__(self, x):\n",
    "        self._gridArray = np.linspace(self._leftBorder, x, self._n + 1)\n",
    "        h = np.diff(self._gridArray)[0]\n",
    "        self._gridLength = len(self._gridArray)\n",
    "        \n",
    "        f, left, right = self._f, self._leftBorder, \\\n",
    "                            x\n",
    "        \n",
    "        self._f = np.vectorize(self._f) # раскомментировать, если функция из модуля math\n",
    "        self.SetMethodCoefficients()\n",
    "        value = 0.\n",
    "        \n",
    "        start = timeit.default_timer()\n",
    "        # вычисление интеграла\n",
    "        value = np.dot(self._listOfCoefficients, self._f(self._gridArray))\n",
    "        end = timeit.default_timer() - start\n",
    "        value *= h\n",
    "        \n",
    "        return value\n",
    "    \n",
    "    \n",
    "    \n",
    "class TrapeziumMethod(AbstractIntegral):\n",
    "    \n",
    "    def SetMethodCoefficients(self):\n",
    "        self._listOfCoefficients = np.ones(self._gridLength)\n",
    "        self._listOfCoefficients[0] *= 0.5\n",
    "        self._listOfCoefficients[-1] *= 0.5"
   ]
  },
  {
   "cell_type": "markdown",
   "metadata": {},
   "source": [
    "Определение функций-\"шапочек\" из МКЭ:"
   ]
  },
  {
   "cell_type": "code",
   "execution_count": 3,
   "metadata": {
    "collapsed": true
   },
   "outputs": [],
   "source": [
    "class FEMMesh:\n",
    "    \n",
    "    def __init__(self, xL, xR, numFEs):\n",
    "        # равноотстоящие узлы\n",
    "        self.nodes = list(np.linspace(xL, xR, numFEs + 1))\n",
    "        self._finiteElems = [ [self.nodes[i], self.nodes[i + 1]] \\\n",
    "                             for i in range(len(self.nodes) - 1)] \n",
    "        self.h = float(np.diff(self.nodes)[0])\n",
    "    \n",
    "    \n",
    "    def __str__(self):\n",
    "        counter = 0\n",
    "        for elem in self._finiteElems:\n",
    "            print('Elem #%d: [%.2f, %.2f]' % (counter, elem.xL, elem.xR))\n",
    "            counter += 1\n",
    "    \n",
    "\n",
    "class BasisFunction:\n",
    "    \n",
    "    # индекс \"i\" базисной функции: 1 <= i <= numNodes - 2\n",
    "    def __init__(self, mesh, index):\n",
    "        self._mesh = mesh\n",
    "        self._i = index # \"i\" --- параметр\n",
    "    \n",
    "    def __call__(self, x):\n",
    "        xArrayMesh = self._mesh.nodes # для краткости\n",
    "        i = self._i # для краткости\n",
    "        \n",
    "        # функция-\"шапка\"\n",
    "        if i != 0 and i != len(xArrayMesh) - 1:\n",
    "            if x >= xArrayMesh[i - 1] and x < xArrayMesh[i]:\n",
    "                return (x - xArrayMesh[i - 1]) / self._mesh.h\n",
    "            elif x >= xArrayMesh[i] and x < xArrayMesh[i + 1]:\n",
    "                return 1. - (x - xArrayMesh[i]) / self._mesh.h\n",
    "            else:\n",
    "                return 0.\n",
    "            \n",
    "\n",
    "        # левая функция-\"полушапка\"\n",
    "        elif i == 0:\n",
    "            if x >= xArrayMesh[0] and x < xArrayMesh[1]:\n",
    "                return 1. - (x - xArrayMesh[i]) / self._mesh.h\n",
    "            else: \n",
    "                return 0.\n",
    "        \n",
    "        \n",
    "        # правая функция-\"полушапка\"\n",
    "        elif i == len(xArrayMesh) - 1:\n",
    "            # be careful in choosing \">/<\" or \">=/<=\" signs! \n",
    "            if x > xArrayMesh[-2] and x <= xArrayMesh[-1]:\n",
    "                return (x - xArrayMesh[-2]) / self._mesh.h\n",
    "            else: \n",
    "                return 0.\n",
    "            \n",
    "    \n",
    "    def Plot(self):\n",
    "        xL = self._mesh.nodes[0]\n",
    "        xR = self._mesh.nodes[-1]\n",
    "        \n",
    "        xData = np.linspace(xL, xR, 100)\n",
    "        yData = np.array([self(x) for x in xData])\n",
    "        \n",
    "        plt.figure(figsize=(11, 7))\n",
    "        plt.plot(xData, yData, 'b-', lw=2)\n",
    "        plt.grid('on')\n",
    "        plt.show()"
   ]
  },
  {
   "cell_type": "code",
   "execution_count": 4,
   "metadata": {},
   "outputs": [
    {
     "data": {
      "image/png": "[encoded data removed]",
      "text/plain": [
       "<matplotlib.figure.Figure at 0x10b7bf860>"
      ]
     },
     "metadata": {},
     "output_type": "display_data"
    }
   ],
   "source": [
    "mesh1 = FEMMesh(xL=0., xR=1., numFEs=5)\n",
    "\n",
    "f = BasisFunction(mesh1, 4)\n",
    "f.Plot()"
   ]
  },
  {
   "cell_type": "markdown",
   "metadata": {
    "collapsed": true
   },
   "source": [
    "## Солверы\n",
    "Создадим класс-солвер для нахождения коэффициентов методом наименьших квадратов. Данный класс можно использовать в качестве заготовки для создания иерархии классов, в которую будут входить классы-солверы, в которых реализованы методы нахождения коэффициентов:\n",
    "* метод наименьших квадратов\n",
    "* интерполяция\n",
    "* регрессия"
   ]
  },
  {
   "cell_type": "code",
   "execution_count": 5,
   "metadata": {
    "collapsed": true
   },
   "outputs": [],
   "source": [
    "class FEMSolverLeastSquares:\n",
    "    def __init__(self, mesh, function):\n",
    "        self._mesh = mesh\n",
    "        self._f = function\n",
    "        self._numNodes = len(self._mesh.nodes)\n",
    "        self._BasisFuncs = [BasisFunction(self._mesh, i) \\\n",
    "                            for i in range(self._numNodes)]\n",
    "        \n",
    "        self._integrationMethod = TrapeziumMethod()\n",
    "        self._integrationMethod.SetLeftBorder(self._mesh.nodes[0])\n",
    "        self._integrationMethod.SetNumBlocks(int(1e2))\n",
    "    \n",
    "        \n",
    "    \n",
    "    def MassMatrixEntry(self, i, j):\n",
    "        self._integrationMethod.SetFunction(\\\n",
    "                            lambda t: self._BasisFuncs[i](t)*self._BasisFuncs[j](t) \\\n",
    "                                    )\n",
    "        return self._integrationMethod(self._mesh.nodes[-1])\n",
    "    \n",
    "    \n",
    "    def LoadVectorEntry(self, i):\n",
    "        self._integrationMethod.SetFunction(lambda t: self._f(t)*self._BasisFuncs[i](t))\n",
    "        \n",
    "        return self._integrationMethod(self._mesh.nodes[-1])\n",
    "        \n",
    "    \n",
    "    def Solve(self):\n",
    "        self._M = np.zeros((self._numNodes, self._numNodes))\n",
    "        self._b = np.zeros(self._numNodes)\n",
    "        \n",
    "        \n",
    "        for i in range(self._numNodes):\n",
    "            # инициализация матрицы масс\n",
    "            for j in range(self._numNodes):\n",
    "                self._M[i, j] = self.MassMatrixEntry(i, j)\n",
    "    \n",
    "            # инициализация вектора нагрузки\n",
    "            self._b[i] = self.LoadVectorEntry(i)\n",
    "        \n",
    "        # \"быстрое\" решение СЛАУ методом LU-разложения\n",
    "        self._c = np.linalg.solve(self._M, self._b)\n",
    "        \n",
    "\n",
    "    def EvaluateSolution(self, x):\n",
    "        basisFuncValues = np.array([f(x) for f in self._BasisFuncs])\n",
    "        value = np.dot(self._c, basisFuncValues)\n",
    "        \n",
    "        return value\n",
    "    \n",
    "    \n",
    "    def PlotSolution(self):\n",
    "        xL = self._mesh.nodes[0]\n",
    "        xR = self._mesh.nodes[-1]\n",
    "        \n",
    "        xData = np.linspace(xL, xR, 100)\n",
    "        yData = np.array([self.EvaluateSolution(x) for x in xData])\n",
    "        \n",
    "        plt.figure(figsize=(11, 7))\n",
    "        plt.plot(xData, yData, '-', lw=2, label=self.__class__.__name__)\n",
    "        plt.legend()\n",
    "        plt.grid('on')\n",
    "        plt.show()"
   ]
  },
  {
   "cell_type": "markdown",
   "metadata": {},
   "source": [
    "### Использование"
   ]
  },
  {
   "cell_type": "code",
   "execution_count": 6,
   "metadata": {},
   "outputs": [
    {
     "data": {
      "image/png": "[encoded data removed]",
      "text/plain": [
       "<matplotlib.figure.Figure at 0x1109bf978>"
      ]
     },
     "metadata": {},
     "output_type": "display_data"
    }
   ],
   "source": [
    "testFunc = lambda t: 1. + (t**2)*np.sin(2.*m.pi*t)\n",
    "mesh = FEMMesh(0., 1., numFEs=5)\n",
    "\n",
    "\n",
    "solver = FEMSolverLeastSquares(mesh, testFunc)\n",
    "solver.Solve()\n",
    "\n",
    "plt.figure(figsize=(11, 7))\n",
    "xData = np.linspace(0., 1., 100)\n",
    "plt.plot(xData, [solver.EvaluateSolution(x) for x in xData])\n",
    "    \n",
    "# график аппроксимируемой функции\n",
    "plt.plot(xData, testFunc(xData), 'k--', lw=2)\n",
    "plt.grid('on')\n",
    "plt.show()"
   ]
  },
  {
   "cell_type": "markdown",
   "metadata": {
    "collapsed": true
   },
   "source": [
    "## Вопросы?"
   ]
  }
 ],
 "metadata": {
  "kernelspec": {
   "display_name": "Python 3",
   "language": "python",
   "name": "python3"
  },
  "language_info": {
   "codemirror_mode": {
    "name": "ipython",
    "version": 3
   },
   "file_extension": ".py",
   "mimetype": "text/x-python",
   "name": "python",
   "nbconvert_exporter": "python",
   "pygments_lexer": "ipython3",
   "version": "3.6.3"
  }
 },
 "nbformat": 4,
 "nbformat_minor": 2
}
