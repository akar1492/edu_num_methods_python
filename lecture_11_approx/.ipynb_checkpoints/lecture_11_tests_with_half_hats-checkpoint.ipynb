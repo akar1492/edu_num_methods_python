{
 "cells": [
  {
   "cell_type": "code",
   "execution_count": 1,
   "metadata": {
    "collapsed": true
   },
   "outputs": [],
   "source": [
    "import numpy as np\n",
    "import scipy.integrate as intgr\n",
    "import math as m\n",
    "import matplotlib.pyplot as plt"
   ]
  },
  {
   "cell_type": "markdown",
   "metadata": {},
   "source": [
    "Определение иерархии классов для численного интегрирования:"
   ]
  },
  {
   "cell_type": "code",
   "execution_count": 2,
   "metadata": {
    "collapsed": true
   },
   "outputs": [],
   "source": [
    "import numpy as np\n",
    "class AbstractIntegral:\n",
    "    _MethodName = 'Abstract Integral'\n",
    "        \n",
    "    def SetFunction(self, function):\n",
    "        self._function = function\n",
    "    \n",
    "    def SetLeftBorder(self, leftBorder):\n",
    "        self._leftBorder = leftBorder\n",
    "        \n",
    "    def SetGrid(self, step):\n",
    "        self._step = step\n",
    "        \n",
    "    def SetCoeffients(self, points):\n",
    "        raise NotImplementedError\n",
    "    \n",
    "    def getName(self):\n",
    "        return self._MethodName\n",
    "    \n",
    "    def __call__(self, x):\n",
    "        self._gridArray = np.arange(self._leftBorder, x + self._step, self._step)   \n",
    "        self._gridLength = len(self._gridArray)\n",
    "        self.SetCoeffients(self._gridLength)\n",
    "        \n",
    "        f, left, right, coeff = self._function, self._leftBorder, x, self._coeffients    \n",
    "        \n",
    "        value = 0.\n",
    "        for i in range(self._gridLength):\n",
    "            xCurrent = self._gridArray[i]\n",
    "            value += coeff[i] * f(xCurrent)\n",
    "            \n",
    "        value *= self._step\n",
    "        return value    \n",
    "    \n",
    "        \n",
    "class LeftRectangleIntegral(AbstractIntegral):\n",
    "    _MethodName = 'Left Rectangle Integral'\n",
    "    \n",
    "    def SetCoeffients(self, points):\n",
    "        self._coeffients = [1] * (points - 1) + [0]\n",
    "\n",
    "class RightRectangleIntegral(AbstractIntegral):\n",
    "    _MethodName = 'Right Rectangle Integral'\n",
    "    \n",
    "    def SetCoeffients(self, points):\n",
    "        self._coeffients = [0] + [1] * (points - 1)\n",
    "\n",
    "class MiddleRectangleIntegral(AbstractIntegral):\n",
    "    _MethodName = 'Middle Rectangle Integral'\n",
    "    \n",
    "    def SetCoeffients(self, points):\n",
    "        self._coeffients = [0.5] + [1] * (points - 2) + [0.5]\n",
    "\n",
    "class TrapeziumIntegral(AbstractIntegral):\n",
    "    _MethodName = 'Trapezium Integral'\n",
    "    \n",
    "    def SetCoeffients(self, points):\n",
    "        self._coeffients = [0.5] + [1] * (points - 2) + [0.5]\n",
    "    \n",
    "class SimpsonIntegral(AbstractIntegral):\n",
    "    _MethodName = 'Simpson Integral'\n",
    "    \n",
    "    def SetCoeffients(self, points):\n",
    "        self._coeffients = [1./3] + [4./3, 2./3] * ((points - 2) / 2)\n",
    "        if (points % 2 == 1):\n",
    "            self._coeffients += [4./3]\n",
    "        self._coeffients += [1./3]"
   ]
  },
  {
   "cell_type": "markdown",
   "metadata": {},
   "source": [
    "Проверка работы метода трапеций и сравнение интегрированием функцией из SciPy:"
   ]
  },
  {
   "cell_type": "code",
   "execution_count": 3,
   "metadata": {},
   "outputs": [
    {
     "name": "stdout",
     "output_type": "stream",
     "text": [
      "0.3333335 0.33333333333333337\n"
     ]
    }
   ],
   "source": [
    "parabola = lambda t: t**2\n",
    "\n",
    "\n",
    "INum = TrapeziumIntegral()\n",
    "INum.SetFunction(parabola)\n",
    "INum.SetLeftBorder(0.)\n",
    "INum.SetGrid(step=1e-3)\n",
    "\n",
    "# call\n",
    "resultByOwn = INum(x=1.)\n",
    "resultByScipy = intgr.quad(parabola, 0., 1.)\n",
    "\n",
    "print(str(resultByOwn) + ' ' + str(resultByScipy[0]))"
   ]
  },
  {
   "cell_type": "markdown",
   "metadata": {},
   "source": [
    "Определение функций-\"шапочек\" из МКЭ:"
   ]
  },
  {
   "cell_type": "code",
   "execution_count": 21,
   "metadata": {},
   "outputs": [],
   "source": [
    "# a basis function is zero outside the corresponding finite element\n",
    "class FiniteElementMesh:\n",
    "    # equally-spaced nodes\n",
    "    def __init__(self, xL, xR, numNodes):\n",
    "        self._nodes = list(np.linspace(xL, xR, numNodes, dtype='float64'))\n",
    "        self._finiteElems = [ [self._nodes[i], self._nodes[i + 1]] \\\n",
    "                             for i in range(len(self._nodes) - 1)] \n",
    "        self.h = float(np.diff(self._nodes)[0]) # equally-spaced nodes\n",
    "    \n",
    "    def __str__(self):\n",
    "        counter = 0\n",
    "        for elem in self._finiteElems:\n",
    "            print('Elem #%d: [%.2f, %.2f]' % (counter, elem.xL, elem.xR))\n",
    "            counter += 1\n",
    "    \n",
    "\n",
    "class BasisFunction:\n",
    "    # the index \"i\" of a basis function: 1 <= i <= numNodes - 2\n",
    "    \n",
    "    def __init__(self, mesh, index):\n",
    "        self._mesh = mesh\n",
    "        self._i = index # \"i\" is a parameter\n",
    "    \n",
    "    def __call__(self, x):\n",
    "        xArrayMesh = self._mesh._nodes # for short\n",
    "        i = self._i # for short, too\n",
    "        #print('Ha-ha %.2f' % xArrayMesh[0])\n",
    "        \n",
    "        # \"hat\" function\n",
    "        if i != 0 and i != len(xArrayMesh) - 1:\n",
    "            if x >= xArrayMesh[i - 1] and x < xArrayMesh[i]:\n",
    "                return (x - xArrayMesh[i - 1]) / self._mesh.h\n",
    "            elif x >= xArrayMesh[i] and x < xArrayMesh[i + 1]:\n",
    "                return 1. - (x - xArrayMesh[i]) / self._mesh.h\n",
    "            else:\n",
    "                return 0.\n",
    "        \n",
    "        # left \"half hat\" function\n",
    "        elif i == 0:\n",
    "            if x >= xArrayMesh[0] and x < xArrayMesh[1]:\n",
    "                return 1. - (x - xArrayMesh[i]) / self._mesh.h\n",
    "            else: \n",
    "                return 0.\n",
    "        \n",
    "        # right \"half-hat\" function\n",
    "        elif i == len(xArrayMesh) - 1:\n",
    "            # be careful in choosing \">/<\" or \">=/<=\" signs! \n",
    "            if x > xArrayMesh[-2] and x <= xArrayMesh[-1]:\n",
    "                return (x - xArrayMesh[-2]) / self._mesh.h\n",
    "            else: \n",
    "                return 0.\n",
    "        \n",
    "    \n",
    "    def Plot(self):\n",
    "        xL = self._mesh._nodes[0]\n",
    "        xR = self._mesh._nodes[-1]\n",
    "        \n",
    "        xData = np.linspace(xL, xR, 100)\n",
    "        yData = np.array([self.__call__(x) for x in xData])\n",
    "        #print(yData)\n",
    "        \n",
    "        plt.figure(figsize=(11, 6))\n",
    "        plt.plot(xData, yData, 'b-', lw=10)\n",
    "        plt.grid('on')\n",
    "        plt.show()"
   ]
  },
  {
   "cell_type": "code",
   "execution_count": 5,
   "metadata": {},
   "outputs": [],
   "source": [
    "# print(np.linspace(0., 1., 5)) --- just for test"
   ]
  },
  {
   "cell_type": "code",
   "execution_count": 28,
   "metadata": {},
   "outputs": [
    {
     "name": "stdout",
     "output_type": "stream",
     "text": [
      "0.2\n"
     ]
    },
    {
     "data": {
      "image/png": "[encoded data removed]",
      "text/plain": [
       "<matplotlib.figure.Figure at 0x1163a8320>"
      ]
     },
     "metadata": {},
     "output_type": "display_data"
    }
   ],
   "source": [
    "mesh1 = FiniteElementMesh(xL=0., xR=1., numNodes=6)\n",
    "print(mesh1.h)\n",
    "\n",
    "f = BasisFunction(mesh1, 5)\n",
    "f.Plot()"
   ]
  },
  {
   "cell_type": "markdown",
   "metadata": {
    "collapsed": true
   },
   "source": [
    "Создаем \"главный\" класс - Solver:"
   ]
  },
  {
   "cell_type": "code",
   "execution_count": 32,
   "metadata": {
    "collapsed": true
   },
   "outputs": [],
   "source": [
    "class Solver:\n",
    "    \n",
    "    def __init__(self, mesh, function):\n",
    "        self._mesh = mesh\n",
    "        self._f = function\n",
    "        self._numNodes = len(self._mesh._nodes)\n",
    "        \n",
    "        print('Number of nodes = %d' % self._numNodes, '\\n')\n",
    "        \n",
    "        self._BasisFuncs = [BasisFunction(self._mesh, i) \\\n",
    "                            for i in range(0, self._numNodes)]\n",
    "        \n",
    "        \n",
    "    \n",
    "    def Solve(self):\n",
    "        \n",
    "        self._M = np.zeros((self._numNodes, self._numNodes))\n",
    "        self._b = np.zeros(self._numNodes)\n",
    "        \n",
    "        integrationMethod = TrapeziumIntegral()\n",
    "        integrationMethod.SetLeftBorder(self._mesh._nodes[0])\n",
    "        integrationMethod.SetGrid(step=1e-3)\n",
    "        \n",
    "        # computing the mass matrix\n",
    "        for i in range(0, self._numNodes):\n",
    "            for j in range(0, self._numNodes):\n",
    "                integrationMethod.SetFunction(\\\n",
    "                                lambda t: self._BasisFuncs[i](t)*self._BasisFuncs[j](t) \\\n",
    "                                             )\n",
    "                # performing the integration\n",
    "                self._M[i, j] = integrationMethod(self._mesh._nodes[-1])\n",
    "        \n",
    "        # computing the load vector\n",
    "        for i in range(0, self._numNodes):\n",
    "            integrationMethod.SetFunction(\\\n",
    "                                         lambda t: self._f(t)*self._BasisFuncs[i](t)\\\n",
    "                                         )\n",
    "            # performing the integration\n",
    "            self._b[i] = integrationMethod(self._mesh._nodes[-1])\n",
    "        \n",
    "        # solving linear system M*c = b\n",
    "        self._c = np.linalg.solve(self._M, self._b)\n",
    "                                \n",
    "        # FOR DEBUG\n",
    "        print(self._M)\n",
    "        print(self._b, '\\n')\n",
    "        print('The coeffs are:', self._c)\n",
    "\n",
    "    def EvaluateSolution(self, x):\n",
    "        value = 0.\n",
    "        for coeff, BasisFunc in zip(self._c, self._BasisFuncs):\n",
    "            value += coeff*BasisFunc(x)\n",
    "        return value\n",
    "    \n",
    "    def PlotSolution(self):\n",
    "        xL = self._mesh._nodes[0]\n",
    "        xR = self._mesh._nodes[-1]\n",
    "        \n",
    "        xData = np.linspace(xL, xR, 100)\n",
    "        yData = np.array([self.EvaluateSolution(x) for x in xData])\n",
    "        #print(yData)\n",
    "        \n",
    "        plt.figure(figsize=(11, 6))\n",
    "        plt.plot(xData, yData, 'b-', lw=4)\n",
    "        plt.grid('on')\n",
    "        plt.show()"
   ]
  },
  {
   "cell_type": "code",
   "execution_count": 35,
   "metadata": {},
   "outputs": [
    {
     "name": "stdout",
     "output_type": "stream",
     "text": [
      "Number of nodes = 40 \n",
      "\n",
      "[[ 0.00855352  0.00427147  0.         ...,  0.          0.          0.        ]\n",
      " [ 0.00427147  0.01708905  0.00427548 ...,  0.          0.          0.        ]\n",
      " [ 0.          0.00427548  0.01709122 ...,  0.          0.          0.        ]\n",
      " ..., \n",
      " [ 0.          0.          0.         ...,  0.01709122  0.00427548  0.        ]\n",
      " [ 0.          0.          0.         ...,  0.00427548  0.01708905\n",
      "   0.00427147]\n",
      " [ 0.          0.          0.         ...,  0.          0.00427147\n",
      "   0.00855353]]\n",
      "[  4.41175391e-06   6.16393476e-05   2.19369422e-04   4.80221098e-04\n",
      "   8.40159451e-04   1.29532141e-03   1.83944664e-03   2.46425862e-03\n",
      "   3.16414433e-03   3.92673650e-03   4.74231070e-03   5.60401319e-03\n",
      "   6.49163479e-03   7.39877916e-03   8.31541657e-03   9.21538512e-03\n",
      "   1.00986563e-02   1.09474423e-02   1.17394398e-02   1.24757816e-02\n",
      "   1.31326227e-02   1.36962981e-02   1.41677655e-02   1.45177052e-02\n",
      "   1.47451868e-02   1.48496161e-02   1.47981809e-02   1.46057081e-02\n",
      "   1.42635480e-02   1.37500827e-02   1.30838148e-02   1.22527182e-02\n",
      "   1.12519909e-02   1.00966223e-02   8.77780399e-03   7.30446081e-03\n",
      "   5.68779895e-03   3.92709181e-03   2.03899644e-03   3.59625185e-04] \n",
      "\n",
      "The coeffs are: [ -3.42929225e-04   1.71954831e-03   7.88653648e-03   1.80762099e-02\n",
      "   3.21532510e-02   4.99386073e-02   7.11965382e-02   9.56467283e-02\n",
      "   1.22967245e-01   1.52789662e-01   1.84712243e-01   2.18298648e-01\n",
      "   2.53081072e-01   2.88570325e-01   3.24254847e-01   3.59610097e-01\n",
      "   3.94101059e-01   4.27188895e-01   4.58338502e-01   4.87017771e-01\n",
      "   5.12711498e-01   5.34921751e-01   5.53170131e-01   5.67014960e-01\n",
      "   5.76041856e-01   5.79873960e-01   5.78188498e-01   5.70695248e-01\n",
      "   5.57162174e-01   5.37417685e-01   5.11332746e-01   4.78849721e-01\n",
      "   4.39971153e-01   3.94753636e-01   3.43329313e-01   2.85887198e-01\n",
      "   2.22677042e-01   1.54023572e-01   8.02945781e-02   1.94643752e-03]\n"
     ]
    },
    {
     "data": {
      "image/png": "[encoded data removed]",
      "text/plain": [
       "<matplotlib.figure.Figure at 0x11660d438>"
      ]
     },
     "metadata": {},
     "output_type": "display_data"
    }
   ],
   "source": [
    "# тестирование\n",
    "mesh2 = FiniteElementMesh(xL=0., xR=1., numNodes=40)\n",
    "\n",
    "solver1 = Solver(mesh2, lambda t: t*m.sin(3.14*t))\n",
    "solver1.Solve()\n",
    "solver1.PlotSolution()"
   ]
  },
  {
   "cell_type": "code",
   "execution_count": null,
   "metadata": {
    "collapsed": true
   },
   "outputs": [],
   "source": []
  }
 ],
 "metadata": {
  "kernelspec": {
   "display_name": "Python 3",
   "language": "python",
   "name": "python3"
  },
  "language_info": {
   "codemirror_mode": {
    "name": "ipython",
    "version": 3
   },
   "file_extension": ".py",
   "mimetype": "text/x-python",
   "name": "python",
   "nbconvert_exporter": "python",
   "pygments_lexer": "ipython3",
   "version": "3.6.3"
  }
 },
 "nbformat": 4,
 "nbformat_minor": 2
}
