{
 "cells": [
  {
   "cell_type": "code",
   "execution_count": 30,
   "metadata": {
    "collapsed": true
   },
   "outputs": [],
   "source": [
    "import numpy as np\n",
    "import scipy.integrate as intgr\n",
    "import math as m\n",
    "import matplotlib.pyplot as plt"
   ]
  },
  {
   "cell_type": "markdown",
   "metadata": {},
   "source": [
    "Определение иерархии классов для численного интегрирования:"
   ]
  },
  {
   "cell_type": "code",
   "execution_count": 3,
   "metadata": {
    "collapsed": true
   },
   "outputs": [],
   "source": [
    "import numpy as np\n",
    "class AbstractIntegral:\n",
    "    _MethodName = 'Abstract Integral'\n",
    "        \n",
    "    def SetFunction(self, function):\n",
    "        self._function = function\n",
    "    \n",
    "    def SetLeftBorder(self, leftBorder):\n",
    "        self._leftBorder = leftBorder\n",
    "        \n",
    "    def SetGrid(self, step):\n",
    "        self._step = step\n",
    "        \n",
    "    def SetCoeffients(self, points):\n",
    "        raise NotImplementedError\n",
    "    \n",
    "    def getName(self):\n",
    "        return self._MethodName\n",
    "    \n",
    "    def __call__(self, x):\n",
    "        self._gridArray = np.arange(self._leftBorder, x + self._step, self._step)   \n",
    "        self._gridLength = len(self._gridArray)\n",
    "        self.SetCoeffients(self._gridLength)\n",
    "        \n",
    "        f, left, right, coeff = self._function, self._leftBorder, x, self._coeffients    \n",
    "        \n",
    "        value = 0.\n",
    "        for i in range(self._gridLength):\n",
    "            xCurrent = self._gridArray[i]\n",
    "            value += coeff[i] * f(xCurrent)\n",
    "            \n",
    "        value *= self._step\n",
    "        return value    \n",
    "    \n",
    "        \n",
    "class LeftRectangleIntegral(AbstractIntegral):\n",
    "    _MethodName = 'Left Rectangle Integral'\n",
    "    \n",
    "    def SetCoeffients(self, points):\n",
    "        self._coeffients = [1] * (points - 1) + [0]\n",
    "\n",
    "class RightRectangleIntegral(AbstractIntegral):\n",
    "    _MethodName = 'Right Rectangle Integral'\n",
    "    \n",
    "    def SetCoeffients(self, points):\n",
    "        self._coeffients = [0] + [1] * (points - 1)\n",
    "\n",
    "class MiddleRectangleIntegral(AbstractIntegral):\n",
    "    _MethodName = 'Middle Rectangle Integral'\n",
    "    \n",
    "    def SetCoeffients(self, points):\n",
    "        self._coeffients = [0.5] + [1] * (points - 2) + [0.5]\n",
    "\n",
    "class TrapeziumIntegral(AbstractIntegral):\n",
    "    _MethodName = 'Trapezium Integral'\n",
    "    \n",
    "    def SetCoeffients(self, points):\n",
    "        self._coeffients = [0.5] + [1] * (points - 2) + [0.5]\n",
    "    \n",
    "class SimpsonIntegral(AbstractIntegral):\n",
    "    _MethodName = 'Simpson Integral'\n",
    "    \n",
    "    def SetCoeffients(self, points):\n",
    "        self._coeffients = [1./3] + [4./3, 2./3] * ((points - 2) / 2)\n",
    "        if (points % 2 == 1):\n",
    "            self._coeffients += [4./3]\n",
    "        self._coeffients += [1./3]"
   ]
  },
  {
   "cell_type": "markdown",
   "metadata": {},
   "source": [
    "Проверка работы метода трапеций и сравнение интегрированием функцией из SciPy:"
   ]
  },
  {
   "cell_type": "code",
   "execution_count": 4,
   "metadata": {},
   "outputs": [
    {
     "name": "stdout",
     "output_type": "stream",
     "text": [
      "0.3333335 0.33333333333333337\n"
     ]
    }
   ],
   "source": [
    "parabola = lambda t: t**2\n",
    "\n",
    "\n",
    "INum = TrapeziumIntegral()\n",
    "INum.SetFunction(parabola)\n",
    "INum.SetLeftBorder(0.)\n",
    "INum.SetGrid(step=1e-3)\n",
    "\n",
    "# call\n",
    "resultByOwn = INum(x=1.)\n",
    "resultByScipy = intgr.quad(parabola, 0., 1.)\n",
    "\n",
    "print(str(resultByOwn) + ' ' + str(resultByScipy[0]))"
   ]
  },
  {
   "cell_type": "markdown",
   "metadata": {},
   "source": [
    "Определение функций-\"шапочек\" из МКЭ:"
   ]
  },
  {
   "cell_type": "code",
   "execution_count": 5,
   "metadata": {
    "collapsed": true
   },
   "outputs": [],
   "source": [
    "# a basis function is zero outside the corresponding finite element\n",
    "class FiniteElementMesh:\n",
    "    # equally-spaced nodes\n",
    "    def __init__(self, xL, xR, numNodes):\n",
    "        self._nodes = list(np.linspace(xL, xR, numNodes, dtype='float64'))\n",
    "        self._finiteElems = [ [self._nodes[i], self._nodes[i + 1]] \\\n",
    "                             for i in range(len(self._nodes) - 1)] \n",
    "        self.h = float(np.diff(self._nodes)[0]) # equally-spaced nodes\n",
    "    \n",
    "    def __str__(self):\n",
    "        counter = 0\n",
    "        for elem in self._finiteElems:\n",
    "            print('Elem #%d: [%.2f, %.2f]' % (counter, elem.xL, elem.xR))\n",
    "            counter += 1\n",
    "    \n",
    "\n",
    "class BasisFunction:\n",
    "    # the index \"i\" of a basis function: 1 <= i <= numNodes - 2\n",
    "    \n",
    "    def __init__(self, mesh, index):\n",
    "        self._mesh = mesh\n",
    "        self._i = index # \"i\" is a parameter\n",
    "    \n",
    "    def __call__(self, x):\n",
    "        xArrayMesh = self._mesh._nodes # for short\n",
    "        i = self._i # for short, too\n",
    "        #print('Ha-ha %.2f' % xArrayMesh[0])\n",
    "        \n",
    "        if x < xArrayMesh[i - 1]:\n",
    "            return 0.\n",
    "        elif x >= xArrayMesh[i - 1] and x < xArrayMesh[i]:\n",
    "            return (x - xArrayMesh[i - 1]) / self._mesh.h\n",
    "        elif x >= xArrayMesh[i] and x < xArrayMesh[i + 1]:\n",
    "            return 1. - (x - xArrayMesh[i]) / self._mesh.h\n",
    "        elif x >= xArrayMesh[i + 1]:\n",
    "            return 0.\n",
    "    \n",
    "    def Plot(self):\n",
    "        xL = self._mesh._nodes[0]\n",
    "        xR = self._mesh._nodes[-1]\n",
    "        \n",
    "        xData = np.linspace(xL, xR, 100)\n",
    "        yData = np.array([self.__call__(x) for x in xData])\n",
    "        #print(yData)\n",
    "        \n",
    "        plt.figure(figsize=(11, 6))\n",
    "        plt.plot(xData, yData, 'b-', lw=10)\n",
    "        plt.grid('on')\n",
    "        plt.show()"
   ]
  },
  {
   "cell_type": "code",
   "execution_count": 11,
   "metadata": {},
   "outputs": [
    {
     "name": "stdout",
     "output_type": "stream",
     "text": [
      "[ 0.    0.25  0.5   0.75  1.  ]\n"
     ]
    }
   ],
   "source": [
    "# print(np.linspace(0., 1., 5)) --- just for test"
   ]
  },
  {
   "cell_type": "code",
   "execution_count": 11,
   "metadata": {},
   "outputs": [
    {
     "name": "stdout",
     "output_type": "stream",
     "text": [
      "0.25\n"
     ]
    },
    {
     "data": {
      "image/png": "[encoded data removed]",
      "text/plain": [
       "<matplotlib.figure.Figure at 0x1513fe8518>"
      ]
     },
     "metadata": {},
     "output_type": "display_data"
    }
   ],
   "source": [
    "mesh1 = FiniteElementMesh(xL=0., xR=1., numNodes=5)\n",
    "print(mesh1.h)\n",
    "\n",
    "f = BasisFunction(mesh1, 3)\n",
    "f.Plot()"
   ]
  },
  {
   "cell_type": "markdown",
   "metadata": {
    "collapsed": true
   },
   "source": [
    "Создаем \"главный\" класс - Solver:"
   ]
  },
  {
   "cell_type": "code",
   "execution_count": 40,
   "metadata": {},
   "outputs": [],
   "source": [
    "class Solver:\n",
    "    \n",
    "    def __init__(self, mesh, function):\n",
    "        self._mesh = mesh\n",
    "        self._f = function\n",
    "        self._numNodes = len(self._mesh._nodes)\n",
    "        \n",
    "        print('Number of nodes = %d' % self._numNodes, '\\n')\n",
    "        \n",
    "        # only \"full-hat\" functions are involved: 'None's \"represent\" missing \"half-hat\"-functions\n",
    "        self._BasisFuncs = [None] + [BasisFunction(self._mesh, i) \\\n",
    "                            for i in range(1, self._numNodes - 1)] + [None]\n",
    "        \n",
    "        \n",
    "    \n",
    "    def Solve(self):\n",
    "        \n",
    "        self._M = np.zeros((self._numNodes - 2, self._numNodes - 2))\n",
    "        self._b = np.zeros(self._numNodes - 2)\n",
    "        \n",
    "        integrationMethod = TrapeziumIntegral()\n",
    "        integrationMethod.SetLeftBorder(self._mesh._nodes[0])\n",
    "        integrationMethod.SetGrid(step=1e-3)\n",
    "        \n",
    "        # computing the mass matrix\n",
    "        for i in range(1, self._numNodes - 1):\n",
    "            for j in range(1, self._numNodes - 1):\n",
    "                integrationMethod.SetFunction(\\\n",
    "                                lambda t: self._BasisFuncs[i](t)*self._BasisFuncs[j](t) \\\n",
    "                                             )\n",
    "                # performing the integration\n",
    "                self._M[i-1, j-1] = integrationMethod(self._mesh._nodes[-1])\n",
    "        \n",
    "        # computing the load vector\n",
    "        for i in range(1, self._numNodes - 1):\n",
    "            integrationMethod.SetFunction(\\\n",
    "                                         lambda t: self._f(t)*self._BasisFuncs[i](t)\\\n",
    "                                         )\n",
    "            # performing the integration\n",
    "            self._b[i-1] = integrationMethod(self._mesh._nodes[-1])\n",
    "        \n",
    "        # solving linear system M*c = b\n",
    "        self._c = np.linalg.solve(self._M, self._b)\n",
    "                                \n",
    "        # FOR DEBUG\n",
    "        print(self._M)\n",
    "        print(self._b, '\\n')\n",
    "        print('The coeffs are:', self._c)\n",
    "\n",
    "    def EvaluateSolution(self, x):\n",
    "        value = 0.\n",
    "        for coeff, BasisFunc in zip(self._c, self._BasisFuncs[1:-1]):\n",
    "            value += coeff*BasisFunc(x)\n",
    "        return value\n",
    "    \n",
    "    def PlotSolution(self):\n",
    "        xL = self._mesh._nodes[0]\n",
    "        xR = self._mesh._nodes[-1]\n",
    "        \n",
    "        xData = np.linspace(xL, xR, 100)\n",
    "        yData = np.array([self.EvaluateSolution(x) for x in xData])\n",
    "        #print(yData)\n",
    "        \n",
    "        plt.figure(figsize=(11, 6))\n",
    "        plt.plot(xData, yData, 'b-', lw=4)\n",
    "        plt.grid('on')\n",
    "        plt.show()"
   ]
  },
  {
   "cell_type": "code",
   "execution_count": 44,
   "metadata": {},
   "outputs": [
    {
     "name": "stdout",
     "output_type": "stream",
     "text": [
      "Number of nodes = 10 \n",
      "\n",
      "[[ 0.07407529  0.01851824  0.          0.          0.          0.          0.\n",
      "   0.        ]\n",
      " [ 0.01851824  0.07407396  0.0185188   0.          0.          0.          0.\n",
      "   0.        ]\n",
      " [ 0.          0.0185188   0.07407307  0.01851913  0.          0.          0.\n",
      "   0.        ]\n",
      " [ 0.          0.          0.01851913  0.07407263  0.01851924  0.          0.\n",
      "   0.        ]\n",
      " [ 0.          0.          0.          0.01851924  0.07407263  0.01851913\n",
      "   0.          0.        ]\n",
      " [ 0.          0.          0.          0.          0.01851913  0.07407307\n",
      "   0.0185188   0.        ]\n",
      " [ 0.          0.          0.          0.          0.          0.0185188\n",
      "   0.07407396  0.01851824]\n",
      " [ 0.          0.          0.          0.          0.          0.\n",
      "   0.01851824  0.0740753 ]]\n",
      "[ 0.03760025  0.07066956  0.09522366  0.10830395  0.10833435  0.0953112\n",
      "  0.0708037   0.03776483] \n",
      "\n",
      "The coeffs are: [ 0.34533513  0.64906017  0.87457662  0.99471553  0.99498425  0.87541223\n",
      "  0.65017652  0.34727774]\n"
     ]
    },
    {
     "data": {
      "image/png": "[encoded data removed]",
      "text/plain": [
       "<matplotlib.figure.Figure at 0x1513fffbe0>"
      ]
     },
     "metadata": {},
     "output_type": "display_data"
    }
   ],
   "source": [
    "# тестирование\n",
    "mesh2 = FiniteElementMesh(xL=0., xR=1., numNodes=10)\n",
    "\n",
    "solver1 = Solver(mesh2, lambda t: m.sin(3.14*t))\n",
    "solver1.Solve()\n",
    "solver1.PlotSolution()"
   ]
  },
  {
   "cell_type": "code",
   "execution_count": null,
   "metadata": {
    "collapsed": true
   },
   "outputs": [],
   "source": []
  }
 ],
 "metadata": {
  "kernelspec": {
   "display_name": "Python 3",
   "language": "python",
   "name": "python3"
  },
  "language_info": {
   "codemirror_mode": {
    "name": "ipython",
    "version": 3
   },
   "file_extension": ".py",
   "mimetype": "text/x-python",
   "name": "python",
   "nbconvert_exporter": "python",
   "pygments_lexer": "ipython3",
   "version": "3.6.3"
  }
 },
 "nbformat": 4,
 "nbformat_minor": 2
}
